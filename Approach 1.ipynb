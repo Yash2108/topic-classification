{
  "cells": [
    {
      "attachments": {},
      "cell_type": "markdown",
      "metadata": {},
      "source": [
        "# Imports"
      ]
    },
    {
      "cell_type": "code",
      "execution_count": null,
      "metadata": {
        "id": "qu7KOgrExsGX"
      },
      "outputs": [],
      "source": [
        "!pip install tensorflow_addons node2vec networkx -q\n",
        "import pandas as pd\n",
        "import numpy as np\n",
        "from itertools import combinations\n",
        "import matplotlib.pyplot as plt\n",
        "from tqdm import tqdm\n",
        "\n",
        "from sklearn.metrics.pairwise import cosine_similarity\n",
        "from sklearn.model_selection import train_test_split\n",
        "\n",
        "from tensorflow.keras.optimizers import Adagrad\n",
        "from tensorflow.keras.losses import CategoricalCrossentropy\n",
        "from tensorflow.keras.callbacks import EarlyStopping\n",
        "from tensorflow.keras.layers import Dense, BatchNormalization, Dropout\n",
        "from tensorflow.keras import Model\n",
        "from tensorflow import one_hot\n",
        "\n",
        "from tensorflow_addons.metrics import F1Score\n",
        "\n",
        "from gensim.models import Word2Vec\n",
        "from node2vec import Node2Vec\n",
        "import networkx as nx"
      ]
    },
    {
      "attachments": {},
      "cell_type": "markdown",
      "metadata": {},
      "source": [
        "# Reading Data"
      ]
    },
    {
      "cell_type": "code",
      "execution_count": null,
      "metadata": {
        "id": "0Iybmagv2_rv"
      },
      "outputs": [],
      "source": [
        "def convert_to_embeddings(emb):\n",
        "   return np.array([ [float(j) for j in i.strip().split()] for i in emb[1:-1].split('\\n') ]).reshape(-1)"
      ]
    },
    {
      "cell_type": "code",
      "execution_count": null,
      "metadata": {
        "id": "WNu2N7PAu54w"
      },
      "outputs": [],
      "source": [
        "labelled_cleaned = pd.read_csv('labelled_cleaned.csv')\n",
        "labelled_cleaned.drop(['Unnamed: 0'], inplace=True, axis=1)\n",
        "labelled_embeddings = [i for i in np.load('labelled_embeddings.npy')]\n",
        "labelled_cleaned['embeddings'] = [i for i in labelled_embeddings]"
      ]
    },
    {
      "cell_type": "code",
      "execution_count": null,
      "metadata": {
        "id": "QxRMfSv8zZvu"
      },
      "outputs": [],
      "source": [
        "unlabelled_cleaned = pd.read_csv('unlabelled_cleaned.csv')\n",
        "unlabelled_cleaned.drop(['Unnamed: 0'], inplace=True, axis=1)\n",
        "unlabelled_embeddings = [i for i in np.load('unlabelled_embeddings_2k.npy')]\n",
        "unlabelled_cleaned['embeddings'] = [i for i in unlabelled_embeddings]"
      ]
    },
    {
      "attachments": {},
      "cell_type": "markdown",
      "metadata": {},
      "source": [
        "# Generate graph and node embeddings"
      ]
    },
    {
      "cell_type": "code",
      "execution_count": null,
      "metadata": {
        "id": "1SBNi5Yh0QzP"
      },
      "outputs": [],
      "source": [
        "def make_graph(data, cos_sim=0.9, plot_graph=False):\n",
        "    edges_subset=list(combinations(data.index, 2))\n",
        "    edge_sim_labelled=[]\n",
        "\n",
        "    for idx1, idx2 in tqdm(edges_subset):\n",
        "\n",
        "        cosine_sim_val=cosine_similarity( [ data['embeddings'][idx1] ], [ data['embeddings'][idx2] ])\n",
        "\n",
        "        if cosine_sim_val>cos_sim:\n",
        "            edge_sim_labelled.append([idx1, idx2])\n",
        "    \n",
        "    G = nx.Graph()\n",
        "    G.add_nodes_from(data.index)\n",
        "    G.add_edges_from(edge_sim_labelled)\n",
        "\n",
        "    if plot_graph:\n",
        "        plt.figure(figsize=(20,20))\n",
        "        nx.draw(G)\n",
        "    return G"
      ]
    },
    {
      "cell_type": "code",
      "execution_count": null,
      "metadata": {
        "id": "wZWqoRcw0Rwk"
      },
      "outputs": [],
      "source": [
        "def make_N2V_embeddings(G, cos_sim=0.9, embedding_size=512, walk_length=10, num_walks=80, window=10, connect_type='sim_country_year'):\n",
        "    filename=f\"emb{embedding_size}_wklen{walk_length}_nwalk{num_walks}_win{window}_{connect_type}\"\n",
        "    if connect_type.find('sim'):\n",
        "        filename+=f\"_csim{cos_sim}\"\n",
        "    filename+=f'_GLen{len(G.nodes)}'\n",
        "    node2vec = Node2Vec(G, dimensions=embedding_size, walk_length=walk_length,num_walks=num_walks, workers=4)\n",
        "    node2vec_model = node2vec.fit(window=window, min_count=1,batch_words=4)\n",
        "\n",
        "    embeddings_map = node2vec_model.wv\n",
        "    embeddings = embeddings_map[[i for i in range(len(G.nodes))]]\n",
        "\n",
        "    node2vec_model.save(filename+'.model')\n",
        "\n",
        "    return embeddings"
      ]
    },
    {
      "cell_type": "code",
      "execution_count": null,
      "metadata": {
        "id": "vC7X8Oxv0S8a"
      },
      "outputs": [],
      "source": [
        "def load_N2V_embeddings(G_len, embedding_path='/content/drive/MyDrive/Dataset/UNGDC/emb512_wklen30_nwalk160_win20_cossim0.9_sim.model'):\n",
        "    node2vec_model=Word2Vec.load(embedding_path)\n",
        "    embeddings = node2vec_model.wv[[i for i in range(G_len)]]\n",
        "    return embeddings"
      ]
    },
    {
      "cell_type": "code",
      "execution_count": null,
      "metadata": {
        "colab": {
          "base_uri": "https://localhost:8080/",
          "height": 66,
          "referenced_widgets": [
            "6930cf77a1214c86a1c167ec9d6d8d1f",
            "c8044b76d6a14e619ad6d4141dc93742",
            "ec997e63dd884378aed98a352f13eb2c",
            "c792c22255b5423aaf51e41b84d78187",
            "c35acf27d9784da9ac0cf988b42df6a7",
            "2892a435e8904d8daaf59d4eb8d6d870",
            "aff118b67e884f629e486ce22ddac640",
            "8099059d3bb0411b95f43ac15b5ac7e3",
            "9a3dd9216c654045a06031a4fc2bcc55",
            "1ed350500b244a5b995585954b6b720b",
            "dacedbeacdec493488adcbc3f9fc43cf"
          ]
        },
        "id": "3xiqJVX60UJc",
        "outputId": "147f5931-15dc-4b24-ca08-0db42e05546d"
      },
      "outputs": [
        {
          "name": "stderr",
          "output_type": "stream",
          "text": [
            "100%|██████████| 3507276/3507276 [22:38<00:00, 2581.93it/s]\n"
          ]
        },
        {
          "data": {
            "application/vnd.jupyter.widget-view+json": {
              "model_id": "6930cf77a1214c86a1c167ec9d6d8d1f",
              "version_major": 2,
              "version_minor": 0
            },
            "text/plain": [
              "Computing transition probabilities:   0%|          | 0/2649 [00:00<?, ?it/s]"
            ]
          },
          "metadata": {},
          "output_type": "display_data"
        }
      ],
      "source": [
        "embedding_size=512\n",
        "walk_length=30\n",
        "num_walks=160\n",
        "window=20\n",
        "connect_type='sim'\n",
        "G=make_graph(labelled_cleaned, cos_sim=0.9, plot_graph=False)\n",
        "embeddings=make_N2V_embeddings(G, embedding_size=embedding_size, walk_length=walk_length, num_walks=num_walks, window=window, connect_type=connect_type)"
      ]
    },
    {
      "cell_type": "code",
      "execution_count": null,
      "metadata": {
        "id": "7DC4lv0-0WYx"
      },
      "outputs": [],
      "source": [
        "embeddings=load_N2V_embeddings(2649, 'emb512_wklen30_nwalk160_win20_sim_GLen2649.model')"
      ]
    },
    {
      "cell_type": "code",
      "execution_count": null,
      "metadata": {
        "id": "LCoOGI910XVp"
      },
      "outputs": [],
      "source": [
        "labels={'security': 0, \n",
        "        'greeting': 1, \n",
        "        'development': 2, \n",
        "        'democracy': 3, \n",
        "        'human': 4, \n",
        "        'un': 5}\n",
        "\n",
        "train_labels_one_hot=one_hot(\n",
        "    [ labels[i] for i in labelled_cleaned['coding'].values ],\n",
        "    len(labels)).numpy()"
      ]
    },
    {
      "cell_type": "code",
      "execution_count": null,
      "metadata": {
        "id": "Rq3IuBKW0Y1H"
      },
      "outputs": [],
      "source": [
        "X_train, X_eval, y_train, y_eval = train_test_split(embeddings, train_labels_one_hot)"
      ]
    },
    {
      "attachments": {},
      "cell_type": "markdown",
      "metadata": {},
      "source": [
        "# Neural Net"
      ]
    },
    {
      "cell_type": "code",
      "execution_count": null,
      "metadata": {
        "id": "Vgeo_OrR0ZvO"
      },
      "outputs": [],
      "source": [
        "class Classifier(Model):\n",
        "    def __init__(self, hidden_dims, output_size, dropout_rate):\n",
        "        super(Classifier, self).__init__()\n",
        "        self.dense1 = Dense(hidden_dims[0], activation='relu')\n",
        "        self.dense2 = Dense(hidden_dims[1], activation='relu')\n",
        "        self.dense3 = Dense(output_size, activation='softmax')\n",
        "        self.bnorm1 = BatchNormalization()\n",
        "        self.bnorm2 = BatchNormalization()\n",
        "        self.dropout = Dropout(dropout_rate)\n",
        "\n",
        "    def call(self, x):\n",
        "        x = self.dense1(x)\n",
        "        x = self.dropout(x)\n",
        "        x = self.bnorm1(x)\n",
        "        \n",
        "        x = self.dense2(x)\n",
        "        x = self.dropout(x)\n",
        "        x = self.bnorm2(x)\n",
        "        \n",
        "        output = self.dense3(x)\n",
        "        return output"
      ]
    },
    {
      "cell_type": "code",
      "execution_count": null,
      "metadata": {
        "colab": {
          "base_uri": "https://localhost:8080/"
        },
        "id": "j_PZInNX0uNW",
        "outputId": "77ccf438-95f7-48dd-8a06-25d866638191"
      },
      "outputs": [
        {
          "name": "stdout",
          "output_type": "stream",
          "text": [
            "Model: \"classifier_1\"\n",
            "_________________________________________________________________\n",
            " Layer (type)                Output Shape              Param #   \n",
            "=================================================================\n",
            " dense_3 (Dense)             multiple                  131328    \n",
            "                                                                 \n",
            " dense_4 (Dense)             multiple                  32896     \n",
            "                                                                 \n",
            " dense_5 (Dense)             multiple                  774       \n",
            "                                                                 \n",
            " batch_normalization_2 (Batc  multiple                 1024      \n",
            " hNormalization)                                                 \n",
            "                                                                 \n",
            " batch_normalization_3 (Batc  multiple                 512       \n",
            " hNormalization)                                                 \n",
            "                                                                 \n",
            " dropout_1 (Dropout)         multiple                  0         \n",
            "                                                                 \n",
            "=================================================================\n",
            "Total params: 166,534\n",
            "Trainable params: 165,766\n",
            "Non-trainable params: 768\n",
            "_________________________________________________________________\n"
          ]
        }
      ],
      "source": [
        "tf_model = Classifier((256, 128), len(labels), 0.3)\n",
        "tf_model.build(input_shape=(None, embedding_size))\n",
        "tf_model.compile(optimizer=Adagrad(learning_rate=0.001),\n",
        "              loss=CategoricalCrossentropy(),\n",
        "              metrics=[F1Score(num_classes=len(labels))])\n",
        "tf_model.summary()"
      ]
    },
    {
      "cell_type": "code",
      "execution_count": null,
      "metadata": {
        "colab": {
          "base_uri": "https://localhost:8080/"
        },
        "id": "DwQmsfnn0vxo",
        "outputId": "32525a27-48b3-4fa7-f48e-911c5af3863f"
      },
      "outputs": [
        {
          "name": "stdout",
          "output_type": "stream",
          "text": [
            "Epoch 1/400\n",
            "63/63 [==============================] - 4s 39ms/step - loss: 2.0798 - f1_score: 0.1371 - val_loss: 1.7540 - val_f1_score: 0.0485\n",
            "Epoch 2/400\n",
            "63/63 [==============================] - 1s 14ms/step - loss: 1.9317 - f1_score: 0.1601 - val_loss: 1.7310 - val_f1_score: 0.0484\n",
            "Epoch 3/400\n",
            "63/63 [==============================] - 1s 9ms/step - loss: 1.8925 - f1_score: 0.1685 - val_loss: 1.7274 - val_f1_score: 0.0484\n",
            "Epoch 4/400\n",
            "63/63 [==============================] - 0s 7ms/step - loss: 1.8516 - f1_score: 0.1837 - val_loss: 1.7251 - val_f1_score: 0.0499\n",
            "Epoch 5/400\n",
            "63/63 [==============================] - 0s 6ms/step - loss: 1.8408 - f1_score: 0.1803 - val_loss: 1.7321 - val_f1_score: 0.0499\n",
            "Epoch 6/400\n",
            "63/63 [==============================] - 0s 7ms/step - loss: 1.8374 - f1_score: 0.1731 - val_loss: 1.7383 - val_f1_score: 0.0499\n",
            "Epoch 7/400\n",
            "63/63 [==============================] - 0s 7ms/step - loss: 1.8207 - f1_score: 0.1887 - val_loss: 1.7480 - val_f1_score: 0.0496\n",
            "Epoch 8/400\n",
            "63/63 [==============================] - 0s 6ms/step - loss: 1.7804 - f1_score: 0.1857 - val_loss: 1.7598 - val_f1_score: 0.0866\n",
            "Epoch 9/400\n",
            "63/63 [==============================] - 0s 7ms/step - loss: 1.7561 - f1_score: 0.1847 - val_loss: 1.7748 - val_f1_score: 0.0842\n",
            "Epoch 10/400\n",
            "63/63 [==============================] - 0s 6ms/step - loss: 1.7680 - f1_score: 0.1816 - val_loss: 1.7644 - val_f1_score: 0.0870\n",
            "Epoch 11/400\n",
            "63/63 [==============================] - 0s 6ms/step - loss: 1.7426 - f1_score: 0.1868 - val_loss: 1.7709 - val_f1_score: 0.0881\n",
            "Epoch 12/400\n",
            "63/63 [==============================] - 0s 6ms/step - loss: 1.7489 - f1_score: 0.1834 - val_loss: 1.7871 - val_f1_score: 0.0879\n",
            "Epoch 13/400\n",
            "63/63 [==============================] - 0s 6ms/step - loss: 1.7113 - f1_score: 0.1908 - val_loss: 1.8013 - val_f1_score: 0.0892\n",
            "Epoch 14/400\n",
            "63/63 [==============================] - 0s 7ms/step - loss: 1.7418 - f1_score: 0.1746 - val_loss: 1.8093 - val_f1_score: 0.1087\n",
            "Epoch 15/400\n",
            "63/63 [==============================] - 0s 7ms/step - loss: 1.7013 - f1_score: 0.1910 - val_loss: 1.8075 - val_f1_score: 0.1127\n",
            "Epoch 16/400\n",
            "63/63 [==============================] - 0s 6ms/step - loss: 1.7236 - f1_score: 0.1881 - val_loss: 1.7973 - val_f1_score: 0.1289\n",
            "Epoch 17/400\n",
            "63/63 [==============================] - 0s 6ms/step - loss: 1.6963 - f1_score: 0.1903 - val_loss: 1.8073 - val_f1_score: 0.1172\n",
            "Epoch 18/400\n",
            "63/63 [==============================] - 0s 6ms/step - loss: 1.6738 - f1_score: 0.2003 - val_loss: 1.7789 - val_f1_score: 0.1077\n",
            "Epoch 19/400\n",
            "63/63 [==============================] - 0s 7ms/step - loss: 1.6869 - f1_score: 0.1980 - val_loss: 1.7987 - val_f1_score: 0.1133\n",
            "Epoch 20/400\n",
            "63/63 [==============================] - 0s 6ms/step - loss: 1.7028 - f1_score: 0.1960 - val_loss: 1.7708 - val_f1_score: 0.1251\n",
            "Epoch 21/400\n",
            "63/63 [==============================] - 0s 6ms/step - loss: 1.6619 - f1_score: 0.1941 - val_loss: 1.7415 - val_f1_score: 0.1569\n",
            "Epoch 22/400\n",
            "63/63 [==============================] - 0s 7ms/step - loss: 1.6816 - f1_score: 0.1743 - val_loss: 1.7548 - val_f1_score: 0.1484\n",
            "Epoch 23/400\n",
            "63/63 [==============================] - 0s 6ms/step - loss: 1.6622 - f1_score: 0.1936 - val_loss: 1.7392 - val_f1_score: 0.1537\n",
            "Epoch 24/400\n",
            "63/63 [==============================] - 0s 6ms/step - loss: 1.6586 - f1_score: 0.1827 - val_loss: 1.7445 - val_f1_score: 0.1512\n",
            "Epoch 25/400\n",
            "63/63 [==============================] - 0s 6ms/step - loss: 1.6525 - f1_score: 0.1948 - val_loss: 1.7198 - val_f1_score: 0.1553\n",
            "Epoch 26/400\n",
            "63/63 [==============================] - 0s 7ms/step - loss: 1.6269 - f1_score: 0.1963 - val_loss: 1.7133 - val_f1_score: 0.1454\n",
            "Epoch 27/400\n",
            "63/63 [==============================] - 0s 6ms/step - loss: 1.6446 - f1_score: 0.1938 - val_loss: 1.7083 - val_f1_score: 0.1088\n",
            "Epoch 28/400\n",
            "63/63 [==============================] - 1s 9ms/step - loss: 1.6229 - f1_score: 0.1972 - val_loss: 1.7055 - val_f1_score: 0.1124\n",
            "Epoch 29/400\n",
            "63/63 [==============================] - 1s 9ms/step - loss: 1.6292 - f1_score: 0.1942 - val_loss: 1.7097 - val_f1_score: 0.1118\n",
            "Epoch 30/400\n",
            "63/63 [==============================] - 1s 10ms/step - loss: 1.6414 - f1_score: 0.1885 - val_loss: 1.7199 - val_f1_score: 0.1100\n",
            "Epoch 31/400\n",
            "63/63 [==============================] - 1s 9ms/step - loss: 1.6285 - f1_score: 0.1794 - val_loss: 1.7044 - val_f1_score: 0.1124\n",
            "Epoch 32/400\n",
            "63/63 [==============================] - 1s 10ms/step - loss: 1.6278 - f1_score: 0.1890 - val_loss: 1.7018 - val_f1_score: 0.1183\n",
            "Epoch 33/400\n",
            "63/63 [==============================] - 1s 9ms/step - loss: 1.6234 - f1_score: 0.1838 - val_loss: 1.6853 - val_f1_score: 0.1135\n",
            "Epoch 34/400\n",
            "63/63 [==============================] - 1s 10ms/step - loss: 1.6140 - f1_score: 0.1904 - val_loss: 1.6752 - val_f1_score: 0.1151\n",
            "Epoch 35/400\n",
            "63/63 [==============================] - 0s 6ms/step - loss: 1.6338 - f1_score: 0.1850 - val_loss: 1.6613 - val_f1_score: 0.1144\n",
            "Epoch 36/400\n",
            "63/63 [==============================] - 0s 6ms/step - loss: 1.6374 - f1_score: 0.1844 - val_loss: 1.6652 - val_f1_score: 0.1098\n",
            "Epoch 37/400\n",
            "63/63 [==============================] - 0s 6ms/step - loss: 1.5960 - f1_score: 0.1936 - val_loss: 1.6694 - val_f1_score: 0.1145\n",
            "Epoch 38/400\n",
            "63/63 [==============================] - 0s 6ms/step - loss: 1.5941 - f1_score: 0.1876 - val_loss: 1.6611 - val_f1_score: 0.1126\n",
            "Epoch 39/400\n",
            "63/63 [==============================] - 0s 6ms/step - loss: 1.6024 - f1_score: 0.1862 - val_loss: 1.6553 - val_f1_score: 0.1098\n",
            "Epoch 40/400\n",
            "63/63 [==============================] - 0s 6ms/step - loss: 1.6027 - f1_score: 0.1866 - val_loss: 1.6814 - val_f1_score: 0.1144\n",
            "Epoch 41/400\n",
            "63/63 [==============================] - 0s 6ms/step - loss: 1.6015 - f1_score: 0.1839 - val_loss: 1.6837 - val_f1_score: 0.1153\n",
            "Epoch 42/400\n",
            "63/63 [==============================] - 0s 6ms/step - loss: 1.5917 - f1_score: 0.1867 - val_loss: 1.6782 - val_f1_score: 0.1154\n",
            "Epoch 43/400\n",
            "63/63 [==============================] - 0s 6ms/step - loss: 1.5987 - f1_score: 0.1889 - val_loss: 1.6592 - val_f1_score: 0.1132\n",
            "Epoch 44/400\n",
            "63/63 [==============================] - 0s 6ms/step - loss: 1.5703 - f1_score: 0.1761 - val_loss: 1.6670 - val_f1_score: 0.1098\n",
            "Epoch 45/400\n",
            "63/63 [==============================] - 0s 6ms/step - loss: 1.5918 - f1_score: 0.1798 - val_loss: 1.6672 - val_f1_score: 0.1094\n",
            "Epoch 46/400\n",
            "63/63 [==============================] - 0s 6ms/step - loss: 1.5967 - f1_score: 0.1834 - val_loss: 1.6792 - val_f1_score: 0.1122\n",
            "Epoch 47/400\n",
            "63/63 [==============================] - 0s 6ms/step - loss: 1.5882 - f1_score: 0.1664 - val_loss: 1.6735 - val_f1_score: 0.1124\n",
            "Epoch 48/400\n",
            "63/63 [==============================] - 0s 6ms/step - loss: 1.5798 - f1_score: 0.1872 - val_loss: 1.6954 - val_f1_score: 0.1118\n",
            "Epoch 49/400\n",
            "63/63 [==============================] - 0s 6ms/step - loss: 1.5837 - f1_score: 0.1753 - val_loss: 1.6727 - val_f1_score: 0.1119\n",
            "Epoch 50/400\n",
            "63/63 [==============================] - 0s 6ms/step - loss: 1.5704 - f1_score: 0.1970 - val_loss: 1.6829 - val_f1_score: 0.1165\n",
            "Epoch 51/400\n",
            "63/63 [==============================] - 0s 6ms/step - loss: 1.5805 - f1_score: 0.1804 - val_loss: 1.6674 - val_f1_score: 0.1190\n",
            "Epoch 52/400\n",
            "63/63 [==============================] - 0s 6ms/step - loss: 1.5767 - f1_score: 0.1679 - val_loss: 1.6609 - val_f1_score: 0.1388\n",
            "Epoch 53/400\n",
            "63/63 [==============================] - 0s 6ms/step - loss: 1.5610 - f1_score: 0.1837 - val_loss: 1.6646 - val_f1_score: 0.1351\n",
            "Epoch 54/400\n",
            "63/63 [==============================] - 0s 7ms/step - loss: 1.5528 - f1_score: 0.1817 - val_loss: 1.6646 - val_f1_score: 0.1284\n",
            "Epoch 55/400\n",
            "63/63 [==============================] - 0s 6ms/step - loss: 1.5688 - f1_score: 0.1645 - val_loss: 1.6503 - val_f1_score: 0.1132\n",
            "Epoch 56/400\n",
            "63/63 [==============================] - 0s 6ms/step - loss: 1.5654 - f1_score: 0.1734 - val_loss: 1.6320 - val_f1_score: 0.1124\n",
            "Epoch 57/400\n",
            "63/63 [==============================] - 0s 6ms/step - loss: 1.5713 - f1_score: 0.1692 - val_loss: 1.6298 - val_f1_score: 0.1168\n",
            "Epoch 58/400\n",
            "63/63 [==============================] - 0s 6ms/step - loss: 1.5435 - f1_score: 0.1910 - val_loss: 1.6468 - val_f1_score: 0.1356\n",
            "Epoch 59/400\n",
            "63/63 [==============================] - 0s 6ms/step - loss: 1.5466 - f1_score: 0.1852 - val_loss: 1.6547 - val_f1_score: 0.1178\n",
            "Epoch 60/400\n",
            "63/63 [==============================] - 0s 8ms/step - loss: 1.5641 - f1_score: 0.1830 - val_loss: 1.6558 - val_f1_score: 0.1168\n",
            "Epoch 61/400\n",
            "63/63 [==============================] - 1s 9ms/step - loss: 1.5550 - f1_score: 0.1747 - val_loss: 1.6548 - val_f1_score: 0.1130\n",
            "Epoch 62/400\n",
            "63/63 [==============================] - 1s 9ms/step - loss: 1.5509 - f1_score: 0.1819 - val_loss: 1.6561 - val_f1_score: 0.1262\n",
            "Epoch 63/400\n",
            "63/63 [==============================] - 1s 9ms/step - loss: 1.5445 - f1_score: 0.1824 - val_loss: 1.6333 - val_f1_score: 0.1120\n",
            "Epoch 64/400\n",
            "63/63 [==============================] - 1s 8ms/step - loss: 1.5471 - f1_score: 0.1822 - val_loss: 1.6345 - val_f1_score: 0.1107\n",
            "Epoch 65/400\n",
            "63/63 [==============================] - 1s 10ms/step - loss: 1.5301 - f1_score: 0.1868 - val_loss: 1.6253 - val_f1_score: 0.1256\n",
            "Epoch 66/400\n",
            "63/63 [==============================] - 1s 9ms/step - loss: 1.5530 - f1_score: 0.1723 - val_loss: 1.6258 - val_f1_score: 0.1296\n",
            "Epoch 67/400\n",
            "63/63 [==============================] - 1s 9ms/step - loss: 1.5500 - f1_score: 0.1831 - val_loss: 1.6191 - val_f1_score: 0.1162\n",
            "Epoch 68/400\n",
            "63/63 [==============================] - 0s 6ms/step - loss: 1.5406 - f1_score: 0.1714 - val_loss: 1.6395 - val_f1_score: 0.1136\n",
            "Epoch 69/400\n",
            "63/63 [==============================] - 0s 6ms/step - loss: 1.5308 - f1_score: 0.1810 - val_loss: 1.6346 - val_f1_score: 0.1247\n",
            "Epoch 70/400\n",
            "63/63 [==============================] - 0s 6ms/step - loss: 1.5201 - f1_score: 0.1841 - val_loss: 1.6209 - val_f1_score: 0.1117\n",
            "Epoch 71/400\n",
            "63/63 [==============================] - 0s 6ms/step - loss: 1.5297 - f1_score: 0.1736 - val_loss: 1.6373 - val_f1_score: 0.1303\n",
            "Epoch 72/400\n",
            "63/63 [==============================] - 0s 6ms/step - loss: 1.5341 - f1_score: 0.1913 - val_loss: 1.6294 - val_f1_score: 0.1235\n",
            "Epoch 73/400\n",
            "63/63 [==============================] - 0s 6ms/step - loss: 1.5208 - f1_score: 0.1732 - val_loss: 1.6400 - val_f1_score: 0.1344\n",
            "Epoch 74/400\n",
            "63/63 [==============================] - 0s 6ms/step - loss: 1.5297 - f1_score: 0.1714 - val_loss: 1.6450 - val_f1_score: 0.1347\n",
            "Epoch 75/400\n",
            "63/63 [==============================] - 0s 6ms/step - loss: 1.5364 - f1_score: 0.1688 - val_loss: 1.6298 - val_f1_score: 0.1257\n",
            "Epoch 76/400\n",
            "63/63 [==============================] - 0s 6ms/step - loss: 1.5274 - f1_score: 0.1748 - val_loss: 1.6236 - val_f1_score: 0.1148\n",
            "Epoch 77/400\n",
            "63/63 [==============================] - 0s 6ms/step - loss: 1.5291 - f1_score: 0.1856 - val_loss: 1.6100 - val_f1_score: 0.1098\n",
            "Epoch 78/400\n",
            "63/63 [==============================] - 0s 6ms/step - loss: 1.5405 - f1_score: 0.1759 - val_loss: 1.6243 - val_f1_score: 0.1276\n",
            "Epoch 79/400\n",
            "63/63 [==============================] - 0s 6ms/step - loss: 1.5264 - f1_score: 0.1805 - val_loss: 1.6289 - val_f1_score: 0.1170\n",
            "Epoch 80/400\n",
            "63/63 [==============================] - 0s 6ms/step - loss: 1.5107 - f1_score: 0.1782 - val_loss: 1.6338 - val_f1_score: 0.1141\n",
            "Epoch 81/400\n",
            "63/63 [==============================] - 0s 6ms/step - loss: 1.4903 - f1_score: 0.1946 - val_loss: 1.6275 - val_f1_score: 0.1114\n",
            "Epoch 82/400\n",
            "63/63 [==============================] - 0s 6ms/step - loss: 1.5197 - f1_score: 0.1718 - val_loss: 1.6467 - val_f1_score: 0.1124\n",
            "Epoch 83/400\n",
            "63/63 [==============================] - 0s 6ms/step - loss: 1.5118 - f1_score: 0.1838 - val_loss: 1.6428 - val_f1_score: 0.1184\n",
            "Epoch 84/400\n",
            "63/63 [==============================] - 0s 6ms/step - loss: 1.5395 - f1_score: 0.1755 - val_loss: 1.6387 - val_f1_score: 0.1130\n",
            "Epoch 85/400\n",
            "63/63 [==============================] - 0s 6ms/step - loss: 1.5097 - f1_score: 0.1956 - val_loss: 1.6298 - val_f1_score: 0.1097\n",
            "Epoch 86/400\n",
            "63/63 [==============================] - 0s 6ms/step - loss: 1.5360 - f1_score: 0.1783 - val_loss: 1.6258 - val_f1_score: 0.1113\n",
            "Epoch 87/400\n",
            "63/63 [==============================] - 0s 6ms/step - loss: 1.5157 - f1_score: 0.1905 - val_loss: 1.6302 - val_f1_score: 0.1107\n",
            "Epoch 88/400\n",
            "63/63 [==============================] - 0s 7ms/step - loss: 1.5177 - f1_score: 0.1775 - val_loss: 1.6228 - val_f1_score: 0.1119\n",
            "Epoch 89/400\n",
            "63/63 [==============================] - 0s 6ms/step - loss: 1.5134 - f1_score: 0.1730 - val_loss: 1.6155 - val_f1_score: 0.1119\n",
            "Epoch 90/400\n",
            "63/63 [==============================] - 0s 6ms/step - loss: 1.5299 - f1_score: 0.1889 - val_loss: 1.6261 - val_f1_score: 0.1121\n",
            "Epoch 91/400\n",
            "63/63 [==============================] - 0s 6ms/step - loss: 1.5262 - f1_score: 0.1709 - val_loss: 1.6138 - val_f1_score: 0.1121\n"
          ]
        }
      ],
      "source": [
        "his = tf_model.fit(X_train, y_train, validation_data=(X_eval, y_eval), epochs=400, verbose=1, \n",
        "                           callbacks = EarlyStopping(monitor='loss', patience=10))"
      ]
    },
    {
      "cell_type": "code",
      "execution_count": null,
      "metadata": {
        "colab": {
          "base_uri": "https://localhost:8080/"
        },
        "id": "aA8N2WHP0xN5",
        "outputId": "3dff262a-62af-4bca-f442-4e3e32c50334"
      },
      "outputs": [
        {
          "name": "stdout",
          "output_type": "stream",
          "text": [
            "63/63 [==============================] - 0s 3ms/step - loss: 1.5089 - f1_score: 0.1271\n"
          ]
        },
        {
          "data": {
            "text/plain": [
              "[1.508922815322876,\n",
              " array([0.5857404 , 0.        , 0.03266788, 0.        , 0.        ,\n",
              "        0.144     ], dtype=float32)]"
            ]
          },
          "execution_count": 24,
          "metadata": {},
          "output_type": "execute_result"
        }
      ],
      "source": [
        "tf_model.evaluate(x=X_train, y=y_train)"
      ]
    },
    {
      "cell_type": "code",
      "execution_count": null,
      "metadata": {
        "colab": {
          "base_uri": "https://localhost:8080/"
        },
        "id": "ft6069-m0x5s",
        "outputId": "7b91fdf4-4a2f-4c53-8504-5ce070f8b11d"
      },
      "outputs": [
        {
          "name": "stdout",
          "output_type": "stream",
          "text": [
            "21/21 [==============================] - 0s 4ms/step - loss: 1.6138 - f1_score: 0.1121\n"
          ]
        },
        {
          "data": {
            "text/plain": [
              "[1.613793969154358,\n",
              " array([0.58106637, 0.        , 0.01123595, 0.        , 0.        ,\n",
              "        0.08      ], dtype=float32)]"
            ]
          },
          "execution_count": 25,
          "metadata": {},
          "output_type": "execute_result"
        }
      ],
      "source": [
        "tf_model.evaluate(x=X_eval, y=y_eval)"
      ]
    },
    {
      "cell_type": "code",
      "execution_count": null,
      "metadata": {
        "id": "ENYnzSq506Tq"
      },
      "outputs": [],
      "source": [
        "tf_model.save_weights('graph_approach')"
      ]
    },
    {
      "cell_type": "code",
      "execution_count": null,
      "metadata": {
        "id": "85ekbZXuDo0m"
      },
      "outputs": [],
      "source": [
        "train_loss = his.history['loss']\n",
        "eval_loss = his.history['val_loss']\n",
        "train_f1 = his.history['f1_score']\n",
        "eval_f1 = his.history['val_f1_score']"
      ]
    },
    {
      "cell_type": "code",
      "execution_count": null,
      "metadata": {
        "colab": {
          "base_uri": "https://localhost:8080/",
          "height": 472
        },
        "id": "X9dEojwtDtEU",
        "outputId": "9a94aa4d-5f46-469d-f956-7a6f17f7ce6f"
      },
      "outputs": [
        {
          "data": {
            "image/png": "[encoded data removed]",
            "text/plain": [
              "<Figure size 640x480 with 1 Axes>"
            ]
          },
          "metadata": {},
          "output_type": "display_data"
        }
      ],
      "source": [
        "plt.plot(range(1, len(train_loss)+1), train_loss, 'r', label='Training Loss')\n",
        "plt.plot(range(1, len(train_loss)+1), eval_loss, 'g', label='Evaluation Loss')\n",
        "plt.xlabel('Epochs')\n",
        "plt.ylabel('Loss')\n",
        "plt.legend()\n",
        "plt.title('Train and Eval Loss')\n",
        "plt.show()"
      ]
    },
    {
      "cell_type": "code",
      "execution_count": null,
      "metadata": {
        "id": "7PhetXgGhJ4x"
      },
      "outputs": [],
      "source": [
        "train_f1=[sum(i)/len(train_f1) for i in train_f1]\n",
        "eval_f1=[sum(i)/len(eval_f1) for i in eval_f1]"
      ]
    },
    {
      "cell_type": "code",
      "execution_count": null,
      "metadata": {
        "colab": {
          "base_uri": "https://localhost:8080/",
          "height": 472
        },
        "id": "37FUBiEZDziV",
        "outputId": "c91e6ce6-4760-409a-a6e7-7a64cccb9b4a"
      },
      "outputs": [
        {
          "data": {
            "image/png": "[encoded data removed]",
            "text/plain": [
              "<Figure size 640x480 with 1 Axes>"
            ]
          },
          "metadata": {},
          "output_type": "display_data"
        }
      ],
      "source": [
        "plt.plot(range(1, len(train_loss)+1), train_f1, 'r', label='Training F1')\n",
        "plt.plot(range(1, len(train_loss)+1), eval_f1, 'g', label='Evaluation F1')\n",
        "plt.xlabel('Epochs')\n",
        "plt.ylabel('F1')\n",
        "plt.legend()\n",
        "plt.title('Train and Eval F1')\n",
        "plt.show()"
      ]
    },
    {
      "cell_type": "code",
      "execution_count": null,
      "metadata": {
        "id": "xqV65AtngbVE"
      },
      "outputs": [],
      "source": []
    }
  ],
  "metadata": {
    "colab": {
      "provenance": []
    },
    "kernelspec": {
      "display_name": "Python 3",
      "name": "python3"
    },
    "language_info": {
      "name": "python"
    },
    "widgets": {
      "application/vnd.jupyter.widget-state+json": {
        "1ed350500b244a5b995585954b6b720b": {
          "model_module": "@jupyter-widgets/base",
          "model_module_version": "1.2.0",
          "model_name": "LayoutModel",
          "state": {
            "_model_module": "@jupyter-widgets/base",
            "_model_module_version": "1.2.0",
            "_model_name": "LayoutModel",
            "_view_count": null,
            "_view_module": "@jupyter-widgets/base",
            "_view_module_version": "1.2.0",
            "_view_name": "LayoutView",
            "align_content": null,
            "align_items": null,
            "align_self": null,
            "border": null,
            "bottom": null,
            "display": null,
            "flex": null,
            "flex_flow": null,
            "grid_area": null,
            "grid_auto_columns": null,
            "grid_auto_flow": null,
            "grid_auto_rows": null,
            "grid_column": null,
            "grid_gap": null,
            "grid_row": null,
            "grid_template_areas": null,
            "grid_template_columns": null,
            "grid_template_rows": null,
            "height": null,
            "justify_content": null,
            "justify_items": null,
            "left": null,
            "margin": null,
            "max_height": null,
            "max_width": null,
            "min_height": null,
            "min_width": null,
            "object_fit": null,
            "object_position": null,
            "order": null,
            "overflow": null,
            "overflow_x": null,
            "overflow_y": null,
            "padding": null,
            "right": null,
            "top": null,
            "visibility": null,
            "width": null
          }
        },
        "2892a435e8904d8daaf59d4eb8d6d870": {
          "model_module": "@jupyter-widgets/base",
          "model_module_version": "1.2.0",
          "model_name": "LayoutModel",
          "state": {
            "_model_module": "@jupyter-widgets/base",
            "_model_module_version": "1.2.0",
            "_model_name": "LayoutModel",
            "_view_count": null,
            "_view_module": "@jupyter-widgets/base",
            "_view_module_version": "1.2.0",
            "_view_name": "LayoutView",
            "align_content": null,
            "align_items": null,
            "align_self": null,
            "border": null,
            "bottom": null,
            "display": null,
            "flex": null,
            "flex_flow": null,
            "grid_area": null,
            "grid_auto_columns": null,
            "grid_auto_flow": null,
            "grid_auto_rows": null,
            "grid_column": null,
            "grid_gap": null,
            "grid_row": null,
            "grid_template_areas": null,
            "grid_template_columns": null,
            "grid_template_rows": null,
            "height": null,
            "justify_content": null,
            "justify_items": null,
            "left": null,
            "margin": null,
            "max_height": null,
            "max_width": null,
            "min_height": null,
            "min_width": null,
            "object_fit": null,
            "object_position": null,
            "order": null,
            "overflow": null,
            "overflow_x": null,
            "overflow_y": null,
            "padding": null,
            "right": null,
            "top": null,
            "visibility": null,
            "width": null
          }
        },
        "6930cf77a1214c86a1c167ec9d6d8d1f": {
          "model_module": "@jupyter-widgets/controls",
          "model_module_version": "1.5.0",
          "model_name": "HBoxModel",
          "state": {
            "_dom_classes": [],
            "_model_module": "@jupyter-widgets/controls",
            "_model_module_version": "1.5.0",
            "_model_name": "HBoxModel",
            "_view_count": null,
            "_view_module": "@jupyter-widgets/controls",
            "_view_module_version": "1.5.0",
            "_view_name": "HBoxView",
            "box_style": "",
            "children": [
              "IPY_MODEL_c8044b76d6a14e619ad6d4141dc93742",
              "IPY_MODEL_ec997e63dd884378aed98a352f13eb2c",
              "IPY_MODEL_c792c22255b5423aaf51e41b84d78187"
            ],
            "layout": "IPY_MODEL_c35acf27d9784da9ac0cf988b42df6a7"
          }
        },
        "8099059d3bb0411b95f43ac15b5ac7e3": {
          "model_module": "@jupyter-widgets/base",
          "model_module_version": "1.2.0",
          "model_name": "LayoutModel",
          "state": {
            "_model_module": "@jupyter-widgets/base",
            "_model_module_version": "1.2.0",
            "_model_name": "LayoutModel",
            "_view_count": null,
            "_view_module": "@jupyter-widgets/base",
            "_view_module_version": "1.2.0",
            "_view_name": "LayoutView",
            "align_content": null,
            "align_items": null,
            "align_self": null,
            "border": null,
            "bottom": null,
            "display": null,
            "flex": null,
            "flex_flow": null,
            "grid_area": null,
            "grid_auto_columns": null,
            "grid_auto_flow": null,
            "grid_auto_rows": null,
            "grid_column": null,
            "grid_gap": null,
            "grid_row": null,
            "grid_template_areas": null,
            "grid_template_columns": null,
            "grid_template_rows": null,
            "height": null,
            "justify_content": null,
            "justify_items": null,
            "left": null,
            "margin": null,
            "max_height": null,
            "max_width": null,
            "min_height": null,
            "min_width": null,
            "object_fit": null,
            "object_position": null,
            "order": null,
            "overflow": null,
            "overflow_x": null,
            "overflow_y": null,
            "padding": null,
            "right": null,
            "top": null,
            "visibility": null,
            "width": null
          }
        },
        "9a3dd9216c654045a06031a4fc2bcc55": {
          "model_module": "@jupyter-widgets/controls",
          "model_module_version": "1.5.0",
          "model_name": "ProgressStyleModel",
          "state": {
            "_model_module": "@jupyter-widgets/controls",
            "_model_module_version": "1.5.0",
            "_model_name": "ProgressStyleModel",
            "_view_count": null,
            "_view_module": "@jupyter-widgets/base",
            "_view_module_version": "1.2.0",
            "_view_name": "StyleView",
            "bar_color": null,
            "description_width": ""
          }
        },
        "aff118b67e884f629e486ce22ddac640": {
          "model_module": "@jupyter-widgets/controls",
          "model_module_version": "1.5.0",
          "model_name": "DescriptionStyleModel",
          "state": {
            "_model_module": "@jupyter-widgets/controls",
            "_model_module_version": "1.5.0",
            "_model_name": "DescriptionStyleModel",
            "_view_count": null,
            "_view_module": "@jupyter-widgets/base",
            "_view_module_version": "1.2.0",
            "_view_name": "StyleView",
            "description_width": ""
          }
        },
        "c35acf27d9784da9ac0cf988b42df6a7": {
          "model_module": "@jupyter-widgets/base",
          "model_module_version": "1.2.0",
          "model_name": "LayoutModel",
          "state": {
            "_model_module": "@jupyter-widgets/base",
            "_model_module_version": "1.2.0",
            "_model_name": "LayoutModel",
            "_view_count": null,
            "_view_module": "@jupyter-widgets/base",
            "_view_module_version": "1.2.0",
            "_view_name": "LayoutView",
            "align_content": null,
            "align_items": null,
            "align_self": null,
            "border": null,
            "bottom": null,
            "display": null,
            "flex": null,
            "flex_flow": null,
            "grid_area": null,
            "grid_auto_columns": null,
            "grid_auto_flow": null,
            "grid_auto_rows": null,
            "grid_column": null,
            "grid_gap": null,
            "grid_row": null,
            "grid_template_areas": null,
            "grid_template_columns": null,
            "grid_template_rows": null,
            "height": null,
            "justify_content": null,
            "justify_items": null,
            "left": null,
            "margin": null,
            "max_height": null,
            "max_width": null,
            "min_height": null,
            "min_width": null,
            "object_fit": null,
            "object_position": null,
            "order": null,
            "overflow": null,
            "overflow_x": null,
            "overflow_y": null,
            "padding": null,
            "right": null,
            "top": null,
            "visibility": null,
            "width": null
          }
        },
        "c792c22255b5423aaf51e41b84d78187": {
          "model_module": "@jupyter-widgets/controls",
          "model_module_version": "1.5.0",
          "model_name": "HTMLModel",
          "state": {
            "_dom_classes": [],
            "_model_module": "@jupyter-widgets/controls",
            "_model_module_version": "1.5.0",
            "_model_name": "HTMLModel",
            "_view_count": null,
            "_view_module": "@jupyter-widgets/controls",
            "_view_module_version": "1.5.0",
            "_view_name": "HTMLView",
            "description": "",
            "description_tooltip": null,
            "layout": "IPY_MODEL_1ed350500b244a5b995585954b6b720b",
            "placeholder": "​",
            "style": "IPY_MODEL_dacedbeacdec493488adcbc3f9fc43cf",
            "value": " 2649/2649 [00:00&lt;00:00, 46896.27it/s]"
          }
        },
        "c8044b76d6a14e619ad6d4141dc93742": {
          "model_module": "@jupyter-widgets/controls",
          "model_module_version": "1.5.0",
          "model_name": "HTMLModel",
          "state": {
            "_dom_classes": [],
            "_model_module": "@jupyter-widgets/controls",
            "_model_module_version": "1.5.0",
            "_model_name": "HTMLModel",
            "_view_count": null,
            "_view_module": "@jupyter-widgets/controls",
            "_view_module_version": "1.5.0",
            "_view_name": "HTMLView",
            "description": "",
            "description_tooltip": null,
            "layout": "IPY_MODEL_2892a435e8904d8daaf59d4eb8d6d870",
            "placeholder": "​",
            "style": "IPY_MODEL_aff118b67e884f629e486ce22ddac640",
            "value": "Computing transition probabilities: 100%"
          }
        },
        "dacedbeacdec493488adcbc3f9fc43cf": {
          "model_module": "@jupyter-widgets/controls",
          "model_module_version": "1.5.0",
          "model_name": "DescriptionStyleModel",
          "state": {
            "_model_module": "@jupyter-widgets/controls",
            "_model_module_version": "1.5.0",
            "_model_name": "DescriptionStyleModel",
            "_view_count": null,
            "_view_module": "@jupyter-widgets/base",
            "_view_module_version": "1.2.0",
            "_view_name": "StyleView",
            "description_width": ""
          }
        },
        "ec997e63dd884378aed98a352f13eb2c": {
          "model_module": "@jupyter-widgets/controls",
          "model_module_version": "1.5.0",
          "model_name": "FloatProgressModel",
          "state": {
            "_dom_classes": [],
            "_model_module": "@jupyter-widgets/controls",
            "_model_module_version": "1.5.0",
            "_model_name": "FloatProgressModel",
            "_view_count": null,
            "_view_module": "@jupyter-widgets/controls",
            "_view_module_version": "1.5.0",
            "_view_name": "ProgressView",
            "bar_style": "success",
            "description": "",
            "description_tooltip": null,
            "layout": "IPY_MODEL_8099059d3bb0411b95f43ac15b5ac7e3",
            "max": 2649,
            "min": 0,
            "orientation": "horizontal",
            "style": "IPY_MODEL_9a3dd9216c654045a06031a4fc2bcc55",
            "value": 2649
          }
        }
      }
    }
  },
  "nbformat": 4,
  "nbformat_minor": 0
}
