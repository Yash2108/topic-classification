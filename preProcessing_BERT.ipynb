{
 "cells": [
  {
   "cell_type": "markdown",
   "metadata": {
    "id": "4DQN8ELXHMTU"
   },
   "source": [
    "## Importing Required Libraries"
   ]
  },
  {
   "cell_type": "code",
   "execution_count": 9,
   "metadata": {
    "colab": {
     "base_uri": "https://localhost:8080/"
    },
    "id": "I1C4qhmuBBdO",
    "outputId": "a4bb6627-7943-486c-b3be-41732d003613"
   },
   "outputs": [
    {
     "name": "stderr",
     "output_type": "stream",
     "text": [
      "[nltk_data] Downloading package stopwords to /home/jovyan/nltk_data...\n",
      "[nltk_data]   Package stopwords is already up-to-date!\n"
     ]
    }
   ],
   "source": [
    "import pandas as pd\n",
    "# from google import drive\n",
    "# drive.mount('/content/drive')\n",
    "import nltk\n",
    "from nltk.corpus import stopwords\n",
    "nltk.download('stopwords')\n",
    "import re\n",
    "from tqdm import tqdm\n",
    "import matplotlib.pyplot as plt"
   ]
  },
  {
   "cell_type": "markdown",
   "metadata": {
    "id": "5vy-kiWvHnQs"
   },
   "source": [
    "### Analysis of Labelled and Unlabelled Data"
   ]
  },
  {
   "cell_type": "code",
   "execution_count": 10,
   "metadata": {
    "id": "Ww15qH5NBBdT"
   },
   "outputs": [],
   "source": [
    "# Unlabelled Data\n",
    "unlabelled=pd.read_csv('unlabelled_data.csv')"
   ]
  },
  {
   "cell_type": "code",
   "execution_count": 11,
   "metadata": {
    "colab": {
     "base_uri": "https://localhost:8080/",
     "height": 423
    },
    "id": "EMigby-nBjPJ",
    "outputId": "8e906f6a-d3c3-456f-fe5e-fd091c68e305"
   },
   "outputs": [
    {
     "data": {
      "text/html": [
       "<div>\n",
       "<style scoped>\n",
       "    .dataframe tbody tr th:only-of-type {\n",
       "        vertical-align: middle;\n",
       "    }\n",
       "\n",
       "    .dataframe tbody tr th {\n",
       "        vertical-align: top;\n",
       "    }\n",
       "\n",
       "    .dataframe thead th {\n",
       "        text-align: right;\n",
       "    }\n",
       "</style>\n",
       "<table border=\"1\" class=\"dataframe\">\n",
       "  <thead>\n",
       "    <tr style=\"text-align: right;\">\n",
       "      <th></th>\n",
       "      <th>Unnamed: 0</th>\n",
       "      <th>doc_id</th>\n",
       "      <th>text</th>\n",
       "      <th>country</th>\n",
       "      <th>year</th>\n",
       "    </tr>\n",
       "  </thead>\n",
       "  <tbody>\n",
       "    <tr>\n",
       "      <th>0</th>\n",
       "      <td>0</td>\n",
       "      <td>ARG_25_1970.txt.1</td>\n",
       "      <td>177.\\t : It is a fortunate coincidence that pr...</td>\n",
       "      <td>ARG</td>\n",
       "      <td>1970</td>\n",
       "    </tr>\n",
       "    <tr>\n",
       "      <th>1</th>\n",
       "      <td>1</td>\n",
       "      <td>ARG_25_1970.txt.2</td>\n",
       "      <td>On behalf of the Argentine Government, it is a...</td>\n",
       "      <td>ARG</td>\n",
       "      <td>1970</td>\n",
       "    </tr>\n",
       "    <tr>\n",
       "      <th>2</th>\n",
       "      <td>2</td>\n",
       "      <td>ARG_25_1970.txt.3</td>\n",
       "      <td>178.</td>\n",
       "      <td>ARG</td>\n",
       "      <td>1970</td>\n",
       "    </tr>\n",
       "    <tr>\n",
       "      <th>3</th>\n",
       "      <td>3</td>\n",
       "      <td>ARG_25_1970.txt.4</td>\n",
       "      <td>Through you I should also like to express the ...</td>\n",
       "      <td>ARG</td>\n",
       "      <td>1970</td>\n",
       "    </tr>\n",
       "    <tr>\n",
       "      <th>4</th>\n",
       "      <td>4</td>\n",
       "      <td>ARG_25_1970.txt.5</td>\n",
       "      <td>179.</td>\n",
       "      <td>ARG</td>\n",
       "      <td>1970</td>\n",
       "    </tr>\n",
       "    <tr>\n",
       "      <th>...</th>\n",
       "      <td>...</td>\n",
       "      <td>...</td>\n",
       "      <td>...</td>\n",
       "      <td>...</td>\n",
       "      <td>...</td>\n",
       "    </tr>\n",
       "    <tr>\n",
       "      <th>2041695</th>\n",
       "      <td>2041695</td>\n",
       "      <td>ZWE_75_2020.txt.63</td>\n",
       "      <td>Ladies and Gentlemen.</td>\n",
       "      <td>ZWE</td>\n",
       "      <td>2020</td>\n",
       "    </tr>\n",
       "    <tr>\n",
       "      <th>2041696</th>\n",
       "      <td>2041696</td>\n",
       "      <td>ZWE_75_2020.txt.64</td>\n",
       "      <td>Let me conclude by reaffirming Zimbabwe’s comm...</td>\n",
       "      <td>ZWE</td>\n",
       "      <td>2020</td>\n",
       "    </tr>\n",
       "    <tr>\n",
       "      <th>2041697</th>\n",
       "      <td>2041697</td>\n",
       "      <td>ZWE_75_2020.txt.65</td>\n",
       "      <td>There is no better way of achieving a peaceful...</td>\n",
       "      <td>ZWE</td>\n",
       "      <td>2020</td>\n",
       "    </tr>\n",
       "    <tr>\n",
       "      <th>2041698</th>\n",
       "      <td>2041698</td>\n",
       "      <td>ZWE_75_2020.txt.66</td>\n",
       "      <td>Recommitting ourselves to these ideals will pa...</td>\n",
       "      <td>ZWE</td>\n",
       "      <td>2020</td>\n",
       "    </tr>\n",
       "    <tr>\n",
       "      <th>2041699</th>\n",
       "      <td>2041699</td>\n",
       "      <td>ZWE_75_2020.txt.67</td>\n",
       "      <td>I thank you.</td>\n",
       "      <td>ZWE</td>\n",
       "      <td>2020</td>\n",
       "    </tr>\n",
       "  </tbody>\n",
       "</table>\n",
       "<p>2041700 rows × 5 columns</p>\n",
       "</div>"
      ],
      "text/plain": [
       "         Unnamed: 0              doc_id  \\\n",
       "0                 0   ARG_25_1970.txt.1   \n",
       "1                 1   ARG_25_1970.txt.2   \n",
       "2                 2   ARG_25_1970.txt.3   \n",
       "3                 3   ARG_25_1970.txt.4   \n",
       "4                 4   ARG_25_1970.txt.5   \n",
       "...             ...                 ...   \n",
       "2041695     2041695  ZWE_75_2020.txt.63   \n",
       "2041696     2041696  ZWE_75_2020.txt.64   \n",
       "2041697     2041697  ZWE_75_2020.txt.65   \n",
       "2041698     2041698  ZWE_75_2020.txt.66   \n",
       "2041699     2041699  ZWE_75_2020.txt.67   \n",
       "\n",
       "                                                      text country  year  \n",
       "0        177.\\t : It is a fortunate coincidence that pr...     ARG  1970  \n",
       "1        On behalf of the Argentine Government, it is a...     ARG  1970  \n",
       "2                                                     178.     ARG  1970  \n",
       "3        Through you I should also like to express the ...     ARG  1970  \n",
       "4                                                     179.     ARG  1970  \n",
       "...                                                    ...     ...   ...  \n",
       "2041695                              Ladies and Gentlemen.     ZWE  2020  \n",
       "2041696  Let me conclude by reaffirming Zimbabwe’s comm...     ZWE  2020  \n",
       "2041697  There is no better way of achieving a peaceful...     ZWE  2020  \n",
       "2041698  Recommitting ourselves to these ideals will pa...     ZWE  2020  \n",
       "2041699                                       I thank you.     ZWE  2020  \n",
       "\n",
       "[2041700 rows x 5 columns]"
      ]
     },
     "execution_count": 11,
     "metadata": {},
     "output_type": "execute_result"
    }
   ],
   "source": [
    "unlabelled"
   ]
  },
  {
   "cell_type": "code",
   "execution_count": 12,
   "metadata": {
    "colab": {
     "base_uri": "https://localhost:8080/",
     "height": 423
    },
    "id": "INNVdigsBBdU",
    "outputId": "cd06729d-a84e-4299-efd8-4c70b2dde7f5"
   },
   "outputs": [
    {
     "data": {
      "text/html": [
       "<div>\n",
       "<style scoped>\n",
       "    .dataframe tbody tr th:only-of-type {\n",
       "        vertical-align: middle;\n",
       "    }\n",
       "\n",
       "    .dataframe tbody tr th {\n",
       "        vertical-align: top;\n",
       "    }\n",
       "\n",
       "    .dataframe thead th {\n",
       "        text-align: right;\n",
       "    }\n",
       "</style>\n",
       "<table border=\"1\" class=\"dataframe\">\n",
       "  <thead>\n",
       "    <tr style=\"text-align: right;\">\n",
       "      <th></th>\n",
       "      <th>Unnamed: 0</th>\n",
       "      <th>doc_id</th>\n",
       "      <th>text</th>\n",
       "      <th>country</th>\n",
       "      <th>year</th>\n",
       "      <th>coding</th>\n",
       "      <th>difficult</th>\n",
       "    </tr>\n",
       "  </thead>\n",
       "  <tbody>\n",
       "    <tr>\n",
       "      <th>0</th>\n",
       "      <td>AUS_46_1991.txt.1</td>\n",
       "      <td>AUS_46_1991.txt.1</td>\n",
       "      <td>I congratulate you, Sir, on your election as P...</td>\n",
       "      <td>AUS</td>\n",
       "      <td>1991</td>\n",
       "      <td>greeting</td>\n",
       "      <td>0.0</td>\n",
       "    </tr>\n",
       "    <tr>\n",
       "      <th>1</th>\n",
       "      <td>AUS_46_1991.txt.2</td>\n",
       "      <td>AUS_46_1991.txt.2</td>\n",
       "      <td>I am sure we will all benefit from your long e...</td>\n",
       "      <td>AUS</td>\n",
       "      <td>1991</td>\n",
       "      <td>greeting</td>\n",
       "      <td>0.0</td>\n",
       "    </tr>\n",
       "    <tr>\n",
       "      <th>2</th>\n",
       "      <td>AUS_46_1991.txt.3</td>\n",
       "      <td>AUS_46_1991.txt.3</td>\n",
       "      <td>Australia enjoys strong bonds of friendship wi...</td>\n",
       "      <td>AUS</td>\n",
       "      <td>1991</td>\n",
       "      <td>greeting</td>\n",
       "      <td>0.0</td>\n",
       "    </tr>\n",
       "    <tr>\n",
       "      <th>3</th>\n",
       "      <td>AUS_46_1991.txt.4</td>\n",
       "      <td>AUS_46_1991.txt.4</td>\n",
       "      <td>Australia warmly welcomes to membership of thi...</td>\n",
       "      <td>AUS</td>\n",
       "      <td>1991</td>\n",
       "      <td>greeting</td>\n",
       "      <td>0.0</td>\n",
       "    </tr>\n",
       "    <tr>\n",
       "      <th>4</th>\n",
       "      <td>AUS_46_1991.txt.5</td>\n",
       "      <td>AUS_46_1991.txt.5</td>\n",
       "      <td>Equally, as a country of the Asia-Pacific regi...</td>\n",
       "      <td>AUS</td>\n",
       "      <td>1991</td>\n",
       "      <td>greeting</td>\n",
       "      <td>0.0</td>\n",
       "    </tr>\n",
       "    <tr>\n",
       "      <th>...</th>\n",
       "      <td>...</td>\n",
       "      <td>...</td>\n",
       "      <td>...</td>\n",
       "      <td>...</td>\n",
       "      <td>...</td>\n",
       "      <td>...</td>\n",
       "      <td>...</td>\n",
       "    </tr>\n",
       "    <tr>\n",
       "      <th>2645</th>\n",
       "      <td>EST_72_2017.txt.92</td>\n",
       "      <td>EST_72_2017.txt.92</td>\n",
       "      <td>As a small country, we care for all those who ...</td>\n",
       "      <td>EST</td>\n",
       "      <td>2017</td>\n",
       "      <td>security</td>\n",
       "      <td>0.0</td>\n",
       "    </tr>\n",
       "    <tr>\n",
       "      <th>2646</th>\n",
       "      <td>EST_72_2017.txt.93</td>\n",
       "      <td>EST_72_2017.txt.93</td>\n",
       "      <td>As a digital society, we are a story of hope a...</td>\n",
       "      <td>EST</td>\n",
       "      <td>2017</td>\n",
       "      <td>development</td>\n",
       "      <td>0.0</td>\n",
       "    </tr>\n",
       "    <tr>\n",
       "      <th>2647</th>\n",
       "      <td>EST_72_2017.txt.94</td>\n",
       "      <td>EST_72_2017.txt.94</td>\n",
       "      <td>Again, as a digital State, we consider transpa...</td>\n",
       "      <td>EST</td>\n",
       "      <td>2017</td>\n",
       "      <td>human</td>\n",
       "      <td>0.0</td>\n",
       "    </tr>\n",
       "    <tr>\n",
       "      <th>2648</th>\n",
       "      <td>EST_72_2017.txt.95</td>\n",
       "      <td>EST_72_2017.txt.95</td>\n",
       "      <td>We are adamant supporters of rules-based decis...</td>\n",
       "      <td>EST</td>\n",
       "      <td>2017</td>\n",
       "      <td>democracy</td>\n",
       "      <td>0.0</td>\n",
       "    </tr>\n",
       "    <tr>\n",
       "      <th>2649</th>\n",
       "      <td>EST_72_2017.txt.96</td>\n",
       "      <td>EST_72_2017.txt.96</td>\n",
       "      <td>We are with those who want to make the United ...</td>\n",
       "      <td>EST</td>\n",
       "      <td>2017</td>\n",
       "      <td>un</td>\n",
       "      <td>0.0</td>\n",
       "    </tr>\n",
       "  </tbody>\n",
       "</table>\n",
       "<p>2650 rows × 7 columns</p>\n",
       "</div>"
      ],
      "text/plain": [
       "              Unnamed: 0              doc_id  \\\n",
       "0      AUS_46_1991.txt.1   AUS_46_1991.txt.1   \n",
       "1      AUS_46_1991.txt.2   AUS_46_1991.txt.2   \n",
       "2      AUS_46_1991.txt.3   AUS_46_1991.txt.3   \n",
       "3      AUS_46_1991.txt.4   AUS_46_1991.txt.4   \n",
       "4      AUS_46_1991.txt.5   AUS_46_1991.txt.5   \n",
       "...                  ...                 ...   \n",
       "2645  EST_72_2017.txt.92  EST_72_2017.txt.92   \n",
       "2646  EST_72_2017.txt.93  EST_72_2017.txt.93   \n",
       "2647  EST_72_2017.txt.94  EST_72_2017.txt.94   \n",
       "2648  EST_72_2017.txt.95  EST_72_2017.txt.95   \n",
       "2649  EST_72_2017.txt.96  EST_72_2017.txt.96   \n",
       "\n",
       "                                                   text country  year  \\\n",
       "0     I congratulate you, Sir, on your election as P...     AUS  1991   \n",
       "1     I am sure we will all benefit from your long e...     AUS  1991   \n",
       "2     Australia enjoys strong bonds of friendship wi...     AUS  1991   \n",
       "3     Australia warmly welcomes to membership of thi...     AUS  1991   \n",
       "4     Equally, as a country of the Asia-Pacific regi...     AUS  1991   \n",
       "...                                                 ...     ...   ...   \n",
       "2645  As a small country, we care for all those who ...     EST  2017   \n",
       "2646  As a digital society, we are a story of hope a...     EST  2017   \n",
       "2647  Again, as a digital State, we consider transpa...     EST  2017   \n",
       "2648  We are adamant supporters of rules-based decis...     EST  2017   \n",
       "2649  We are with those who want to make the United ...     EST  2017   \n",
       "\n",
       "           coding  difficult  \n",
       "0        greeting        0.0  \n",
       "1        greeting        0.0  \n",
       "2        greeting        0.0  \n",
       "3        greeting        0.0  \n",
       "4        greeting        0.0  \n",
       "...           ...        ...  \n",
       "2645     security        0.0  \n",
       "2646  development        0.0  \n",
       "2647        human        0.0  \n",
       "2648    democracy        0.0  \n",
       "2649           un        0.0  \n",
       "\n",
       "[2650 rows x 7 columns]"
      ]
     },
     "execution_count": 12,
     "metadata": {},
     "output_type": "execute_result"
    }
   ],
   "source": [
    "# Labelled Data\n",
    "labelled=pd.read_csv('labelled_data.csv')\n",
    "labelled"
   ]
  },
  {
   "cell_type": "code",
   "execution_count": 13,
   "metadata": {
    "colab": {
     "base_uri": "https://localhost:8080/",
     "height": 423
    },
    "id": "P3vT4Y9yTbxv",
    "outputId": "8b36e0cc-281d-4f29-8988-96e4dce68c6d"
   },
   "outputs": [
    {
     "data": {
      "text/html": [
       "<div>\n",
       "<style scoped>\n",
       "    .dataframe tbody tr th:only-of-type {\n",
       "        vertical-align: middle;\n",
       "    }\n",
       "\n",
       "    .dataframe tbody tr th {\n",
       "        vertical-align: top;\n",
       "    }\n",
       "\n",
       "    .dataframe thead th {\n",
       "        text-align: right;\n",
       "    }\n",
       "</style>\n",
       "<table border=\"1\" class=\"dataframe\">\n",
       "  <thead>\n",
       "    <tr style=\"text-align: right;\">\n",
       "      <th></th>\n",
       "      <th>Unnamed: 0</th>\n",
       "      <th>doc_id</th>\n",
       "      <th>text</th>\n",
       "      <th>country</th>\n",
       "      <th>year</th>\n",
       "    </tr>\n",
       "  </thead>\n",
       "  <tbody>\n",
       "    <tr>\n",
       "      <th>0</th>\n",
       "      <td>0</td>\n",
       "      <td>ARG_25_1970.txt.1</td>\n",
       "      <td>177.\\t : It is a fortunate coincidence that pr...</td>\n",
       "      <td>ARG</td>\n",
       "      <td>1970</td>\n",
       "    </tr>\n",
       "    <tr>\n",
       "      <th>1</th>\n",
       "      <td>1</td>\n",
       "      <td>ARG_25_1970.txt.2</td>\n",
       "      <td>On behalf of the Argentine Government, it is a...</td>\n",
       "      <td>ARG</td>\n",
       "      <td>1970</td>\n",
       "    </tr>\n",
       "    <tr>\n",
       "      <th>2</th>\n",
       "      <td>2</td>\n",
       "      <td>ARG_25_1970.txt.3</td>\n",
       "      <td>178.</td>\n",
       "      <td>ARG</td>\n",
       "      <td>1970</td>\n",
       "    </tr>\n",
       "    <tr>\n",
       "      <th>3</th>\n",
       "      <td>3</td>\n",
       "      <td>ARG_25_1970.txt.4</td>\n",
       "      <td>Through you I should also like to express the ...</td>\n",
       "      <td>ARG</td>\n",
       "      <td>1970</td>\n",
       "    </tr>\n",
       "    <tr>\n",
       "      <th>4</th>\n",
       "      <td>4</td>\n",
       "      <td>ARG_25_1970.txt.5</td>\n",
       "      <td>179.</td>\n",
       "      <td>ARG</td>\n",
       "      <td>1970</td>\n",
       "    </tr>\n",
       "    <tr>\n",
       "      <th>...</th>\n",
       "      <td>...</td>\n",
       "      <td>...</td>\n",
       "      <td>...</td>\n",
       "      <td>...</td>\n",
       "      <td>...</td>\n",
       "    </tr>\n",
       "    <tr>\n",
       "      <th>2041695</th>\n",
       "      <td>2041695</td>\n",
       "      <td>ZWE_75_2020.txt.63</td>\n",
       "      <td>Ladies and Gentlemen.</td>\n",
       "      <td>ZWE</td>\n",
       "      <td>2020</td>\n",
       "    </tr>\n",
       "    <tr>\n",
       "      <th>2041696</th>\n",
       "      <td>2041696</td>\n",
       "      <td>ZWE_75_2020.txt.64</td>\n",
       "      <td>Let me conclude by reaffirming Zimbabwe’s comm...</td>\n",
       "      <td>ZWE</td>\n",
       "      <td>2020</td>\n",
       "    </tr>\n",
       "    <tr>\n",
       "      <th>2041697</th>\n",
       "      <td>2041697</td>\n",
       "      <td>ZWE_75_2020.txt.65</td>\n",
       "      <td>There is no better way of achieving a peaceful...</td>\n",
       "      <td>ZWE</td>\n",
       "      <td>2020</td>\n",
       "    </tr>\n",
       "    <tr>\n",
       "      <th>2041698</th>\n",
       "      <td>2041698</td>\n",
       "      <td>ZWE_75_2020.txt.66</td>\n",
       "      <td>Recommitting ourselves to these ideals will pa...</td>\n",
       "      <td>ZWE</td>\n",
       "      <td>2020</td>\n",
       "    </tr>\n",
       "    <tr>\n",
       "      <th>2041699</th>\n",
       "      <td>2041699</td>\n",
       "      <td>ZWE_75_2020.txt.67</td>\n",
       "      <td>I thank you.</td>\n",
       "      <td>ZWE</td>\n",
       "      <td>2020</td>\n",
       "    </tr>\n",
       "  </tbody>\n",
       "</table>\n",
       "<p>2039133 rows × 5 columns</p>\n",
       "</div>"
      ],
      "text/plain": [
       "         Unnamed: 0              doc_id  \\\n",
       "0                 0   ARG_25_1970.txt.1   \n",
       "1                 1   ARG_25_1970.txt.2   \n",
       "2                 2   ARG_25_1970.txt.3   \n",
       "3                 3   ARG_25_1970.txt.4   \n",
       "4                 4   ARG_25_1970.txt.5   \n",
       "...             ...                 ...   \n",
       "2041695     2041695  ZWE_75_2020.txt.63   \n",
       "2041696     2041696  ZWE_75_2020.txt.64   \n",
       "2041697     2041697  ZWE_75_2020.txt.65   \n",
       "2041698     2041698  ZWE_75_2020.txt.66   \n",
       "2041699     2041699  ZWE_75_2020.txt.67   \n",
       "\n",
       "                                                      text country  year  \n",
       "0        177.\\t : It is a fortunate coincidence that pr...     ARG  1970  \n",
       "1        On behalf of the Argentine Government, it is a...     ARG  1970  \n",
       "2                                                     178.     ARG  1970  \n",
       "3        Through you I should also like to express the ...     ARG  1970  \n",
       "4                                                     179.     ARG  1970  \n",
       "...                                                    ...     ...   ...  \n",
       "2041695                              Ladies and Gentlemen.     ZWE  2020  \n",
       "2041696  Let me conclude by reaffirming Zimbabwe’s comm...     ZWE  2020  \n",
       "2041697  There is no better way of achieving a peaceful...     ZWE  2020  \n",
       "2041698  Recommitting ourselves to these ideals will pa...     ZWE  2020  \n",
       "2041699                                       I thank you.     ZWE  2020  \n",
       "\n",
       "[2039133 rows x 5 columns]"
      ]
     },
     "execution_count": 13,
     "metadata": {},
     "output_type": "execute_result"
    }
   ],
   "source": [
    "# Removing labelled senteces from unlabelled dataset\n",
    "\n",
    "mask = unlabelled['country'].isin(labelled['country']) & unlabelled['year'].isin(labelled['year']) & unlabelled['doc_id'].isin(labelled['doc_id'])\n",
    "final_unlabelled = unlabelled[~mask]\n",
    "final_unlabelled"
   ]
  },
  {
   "cell_type": "markdown",
   "metadata": {
    "id": "NbY-TjtAP6Hd"
   },
   "source": [
    "### Analysis of labels\n",
    "\n",
    "1. Distribution of labels\n"
   ]
  },
  {
   "cell_type": "code",
   "execution_count": 14,
   "metadata": {
    "colab": {
     "base_uri": "https://localhost:8080/",
     "height": 430
    },
    "id": "w3TW-n5eQx2p",
    "outputId": "03a56492-9c95-4233-8859-f4b5478de55d"
   },
   "outputs": [
    {
     "data": {
      "image/png": "[encoded data removed]",
      "text/plain": [
       "<Figure size 640x480 with 1 Axes>"
      ]
     },
     "metadata": {},
     "output_type": "display_data"
    }
   ],
   "source": [
    "freq = labelled['coding'].value_counts()\n",
    "plt.bar(freq.index, freq.values)\n",
    "plt.ylabel('Frequency')\n",
    "plt.show()"
   ]
  },
  {
   "cell_type": "markdown",
   "metadata": {
    "id": "ZUTpF--mR7LL"
   },
   "source": [
    "### Preprocessing\n",
    "\n",
    "1. Remove stopwords (the, a , an...).\n",
    "2. Remove punctuation (:, , ., ?...).\n",
    "3. Remove Numbers (1, 199, 12)\n",
    "4. Remove whitespaces.\n",
    "5. Converting words into lowercase\n",
    "6. Tokenization (sentence -> list of words)"
   ]
  },
  {
   "cell_type": "code",
   "execution_count": 15,
   "metadata": {
    "id": "r6EKaQfMSACl"
   },
   "outputs": [],
   "source": [
    "def load_sentences(data, type='train'):\n",
    "  \n",
    "  '''\n",
    "    Extracts features and labels from dataset\n",
    "\n",
    "  '''\n",
    "  \n",
    "  sentences, labels = [], []\n",
    "  sentences = list(data['text'])\n",
    "\n",
    "  if type == 'train':\n",
    "    labels = list(data['coding'])\n",
    "  sentences = [sentence.split('\\t') for sentence in sentences]\n",
    "\n",
    "  return sentences, labels"
   ]
  },
  {
   "cell_type": "code",
   "execution_count": 16,
   "metadata": {
    "colab": {
     "base_uri": "https://localhost:8080/"
    },
    "id": "w_0ZFOcjUqSk",
    "outputId": "eb7dae29-18ab-4352-9341-0f925bf73373"
   },
   "outputs": [
    {
     "name": "stdout",
     "output_type": "stream",
     "text": [
      "Training Sentences:  2650\n",
      "Training Labels:  2650\n",
      "Training Example:  ['I congratulate you, Sir, on your election as President of the forty-sixth session of the General Assembly.']\n",
      "Testing Sentences:  2039133\n",
      "Testing Example:  ['The so-called \"European concert\" is good proof of this concept which restricted the active access of the nonEuropean states to international life.']\n"
     ]
    }
   ],
   "source": [
    "# Labelled Data\n",
    "sentences, lables = load_sentences(labelled, 'train')\n",
    "\n",
    "print('Training Sentences: ',len(sentences))\n",
    "print('Training Labels: ',len(lables))\n",
    "print('Training Example: ',sentences[0])\n",
    "\n",
    "# Unlabelled Data\n",
    "test_sentences, _ = load_sentences(final_unlabelled, 'test')\n",
    "\n",
    "print('Testing Sentences: ',len(test_sentences))\n",
    "print('Testing Example: ',test_sentences[16])"
   ]
  },
  {
   "cell_type": "markdown",
   "metadata": {
    "id": "pgbxaRf9R498"
   },
   "source": [
    "### **Functions**\n",
    "\n",
    "##### Preprocessor class\n",
    "\n",
    "1. Removes punctuations, numbers, whitespaces\n",
    "2. Converts sentences into lower case\n",
    "\n",
    "##### remove_stopword function\n",
    "\n",
    "1. Removes Stopwords\n",
    "2. Tokenizes Sentences\n",
    "\n",
    "##### empty_sentences function\n",
    "\n",
    "1. Removes the sentences with less than 2 words"
   ]
  },
  {
   "cell_type": "code",
   "execution_count": 17,
   "metadata": {
    "id": "oIQDygKpVafB"
   },
   "outputs": [],
   "source": [
    "class Preprocessor:\n",
    "  '''\n",
    "    Removes punctuations, numbers, whitespaces\n",
    "    Converts sentences into lower case\n",
    "  '''\n",
    "  def __init__(self, numbers=True, punct=True):\n",
    "    self.numbers = numbers\n",
    "    self.punct = punct\n",
    "\n",
    "  def apply(self, sentence):\n",
    "    sentence = sentence.lower()\n",
    "    if self.numbers:\n",
    "      sentence = Preprocessor.remove_numbers(sentence)\n",
    "    if self.punct: \n",
    "      sentence = Preprocessor.remove_punct(sentence)\n",
    "    sentence = re.sub(r'\\s+', ' ', sentence)\n",
    "    return sentence\n",
    "  \n",
    "  @staticmethod\n",
    "  def remove_punct(sentence):\n",
    "    sentence = re.sub(r'[^\\w\\s]', '', sentence)\n",
    "    return sentence\n",
    "  \n",
    "  @staticmethod\n",
    "  def remove_numbers(sentence):\n",
    "    sentence = re.sub(r'[0-9]', '', sentence)\n",
    "    return sentence"
   ]
  },
  {
   "cell_type": "code",
   "execution_count": 18,
   "metadata": {
    "colab": {
     "base_uri": "https://localhost:8080/"
    },
    "id": "qfGcBTQbMj6K",
    "outputId": "e9472d2f-6e68-4f2b-f938-94d0db3bb000"
   },
   "outputs": [
    {
     "name": "stdout",
     "output_type": "stream",
     "text": [
      "Before:  I congratulate you, Sir, on your election as President of the forty-sixth session of the General Assembly.\n",
      "After:  i congratulate you sir on your election as president of the fortysixth session of the general assembly\n"
     ]
    }
   ],
   "source": [
    "# Example of preprocessor class\n",
    "print('Before: ', sentences[0][0])\n",
    "processor = Preprocessor()\n",
    "print('After: ', processor.apply(sentences[0][0]))"
   ]
  },
  {
   "cell_type": "code",
   "execution_count": 19,
   "metadata": {
    "id": "zY2RC01HX8n2"
   },
   "outputs": [],
   "source": [
    "def remove_stopwords(data):\n",
    "  '''\n",
    "    Removes Stopwords\n",
    "    Tokenizes Sentences\n",
    "    \n",
    "  '''\n",
    "  sentences = []\n",
    "  split_sent = data.split()\n",
    "  stopwords_set = set(stopwords.words('english'))\n",
    "  sentences = [word for word in split_sent if word.lower() not in stopwords_set]\n",
    "  return sentences"
   ]
  },
  {
   "cell_type": "code",
   "execution_count": 20,
   "metadata": {
    "colab": {
     "base_uri": "https://localhost:8080/"
    },
    "id": "zAjm0RmzNayl",
    "outputId": "cff96dfe-8c33-41ea-804d-8156e9f161a9"
   },
   "outputs": [
    {
     "name": "stdout",
     "output_type": "stream",
     "text": [
      "Before:  I congratulate you, Sir, on your election as President of the forty-sixth session of the General Assembly.\n",
      "After:  ['congratulate', 'you,', 'Sir,', 'election', 'President', 'forty-sixth', 'session', 'General', 'Assembly.']\n"
     ]
    }
   ],
   "source": [
    "# Example of Removing stopwords and Tokenization\n",
    "print('Before: ', sentences[0][0])\n",
    "print('After: ', remove_stopwords(sentences[0][0]))"
   ]
  },
  {
   "cell_type": "code",
   "execution_count": 21,
   "metadata": {
    "colab": {
     "base_uri": "https://localhost:8080/"
    },
    "id": "c_kqmbmmXl6-",
    "outputId": "fa917160-16e3-4bb5-a099-38329a5b5666"
   },
   "outputs": [
    {
     "name": "stderr",
     "output_type": "stream",
     "text": [
      "2650it [00:00, 8851.65it/s]\n"
     ]
    }
   ],
   "source": [
    "processor = Preprocessor()\n",
    "\n",
    "# Labelled Data\n",
    "clean_sentences = []\n",
    "for idx, sentence in tqdm(enumerate(sentences)):\n",
    "  clean_sentence = processor.apply(sentence[0])\n",
    "  clean_sentences.append(remove_stopwords(clean_sentence))\n",
    "\n",
    "\n",
    "# Unlabelled data\n",
    "# test_clean_sentences = []\n",
    "# for idx, sentence in tqdm(enumerate(test_sentences)):\n",
    "#   clean_sentence = processor.apply(sentence[0])\n",
    "#   test_clean_sentences.append(remove_stopwords(clean_sentence))"
   ]
  },
  {
   "cell_type": "code",
   "execution_count": 22,
   "metadata": {
    "colab": {
     "base_uri": "https://localhost:8080/"
    },
    "id": "Cee9ylWSZMbO",
    "outputId": "f9664576-1ea5-4480-deda-a05a3c5d0c74"
   },
   "outputs": [
    {
     "name": "stdout",
     "output_type": "stream",
     "text": [
      "Example of a cleaned sentence\n",
      "['congratulate', 'sir', 'election', 'president', 'fortysixth', 'session', 'general', 'assembly']\n"
     ]
    }
   ],
   "source": [
    "print('Example of a cleaned sentence')\n",
    "print(clean_sentences[0])"
   ]
  },
  {
   "cell_type": "code",
   "execution_count": 23,
   "metadata": {
    "id": "zaxNGdkuaO1Y"
   },
   "outputs": [],
   "source": [
    "# checking for empty sentences\n",
    "def empty_sentences(data):\n",
    "  \n",
    "  '''\n",
    "    Removes the sentences with less than 2 words\n",
    "  '''\n",
    "  print('Length before', len(data))\n",
    "\n",
    "  sentences = [sublist for sublist in data if not all(elem == \"\" for elem in sublist)]\n",
    "  train_sentences = []\n",
    "  indices = []\n",
    "  removed_sentences = []\n",
    "  for idx, sentence in enumerate(sentences):\n",
    "    if len(sentence) <= 2:\n",
    "      indices.append(idx)\n",
    "      removed_sentences.append(sentence)\n",
    "    else:\n",
    "      train_sentences.append(sentence)\n",
    "  print('Length after', len(train_sentences))\n",
    "  \n",
    "  return train_sentences, indices, removed_sentences"
   ]
  },
  {
   "cell_type": "code",
   "execution_count": 24,
   "metadata": {
    "colab": {
     "base_uri": "https://localhost:8080/"
    },
    "id": "nxQmcZZQceEg",
    "outputId": "48fb5c89-83d8-444e-a551-e7510c2aabdf"
   },
   "outputs": [
    {
     "name": "stdout",
     "output_type": "stream",
     "text": [
      "Labelled data\n",
      "Length before 2650\n",
      "Length after 2604\n",
      "\n"
     ]
    }
   ],
   "source": [
    "# Labelled Data\n",
    "print(\"Labelled data\")\n",
    "train_sentences, indices, removed_sentences = empty_sentences(clean_sentences)\n",
    "\n",
    "print()\n",
    "\n",
    "# Unlabelled data\n",
    "# print(\"unlabelled data\")\n",
    "# test_sentences, test_indices, removed_test_sentences = empty_sentences(test_clean_sentences)"
   ]
  },
  {
   "cell_type": "markdown",
   "metadata": {
    "id": "KvR8QzHItKCq"
   },
   "source": [
    "### **Encoding**\n",
    "\n",
    "-- BERT"
   ]
  },
  {
   "cell_type": "code",
   "execution_count": 25,
   "metadata": {
    "colab": {
     "base_uri": "https://localhost:8080/"
    },
    "id": "fHjrryAd4o0Z",
    "outputId": "7767176f-22f6-4ba7-92bc-a6c69411ef73"
   },
   "outputs": [
    {
     "name": "stdout",
     "output_type": "stream",
     "text": [
      "Requirement already satisfied: tensorflow_text in /opt/saturncloud/envs/saturn/lib/python3.9/site-packages (2.12.1)\n",
      "Requirement already satisfied: tensorflow-hub>=0.8.0 in /opt/saturncloud/envs/saturn/lib/python3.9/site-packages (from tensorflow_text) (0.13.0)\n",
      "Requirement already satisfied: tensorflow<2.13,>=2.12.0 in /opt/saturncloud/envs/saturn/lib/python3.9/site-packages (from tensorflow_text) (2.12.0)\n",
      "Requirement already satisfied: grpcio<2.0,>=1.24.3 in /opt/saturncloud/envs/saturn/lib/python3.9/site-packages (from tensorflow<2.13,>=2.12.0->tensorflow_text) (1.54.0)\n",
      "Requirement already satisfied: astunparse>=1.6.0 in /opt/saturncloud/envs/saturn/lib/python3.9/site-packages (from tensorflow<2.13,>=2.12.0->tensorflow_text) (1.6.3)\n",
      "Requirement already satisfied: google-pasta>=0.1.1 in /opt/saturncloud/envs/saturn/lib/python3.9/site-packages (from tensorflow<2.13,>=2.12.0->tensorflow_text) (0.2.0)\n",
      "Requirement already satisfied: typing-extensions>=3.6.6 in /opt/saturncloud/envs/saturn/lib/python3.9/site-packages (from tensorflow<2.13,>=2.12.0->tensorflow_text) (4.5.0)\n",
      "Requirement already satisfied: absl-py>=1.0.0 in /opt/saturncloud/envs/saturn/lib/python3.9/site-packages (from tensorflow<2.13,>=2.12.0->tensorflow_text) (1.4.0)\n",
      "Requirement already satisfied: h5py>=2.9.0 in /opt/saturncloud/envs/saturn/lib/python3.9/site-packages (from tensorflow<2.13,>=2.12.0->tensorflow_text) (3.8.0)\n",
      "Requirement already satisfied: jax>=0.3.15 in /opt/saturncloud/envs/saturn/lib/python3.9/site-packages (from tensorflow<2.13,>=2.12.0->tensorflow_text) (0.4.8)\n",
      "Requirement already satisfied: six>=1.12.0 in /opt/saturncloud/envs/saturn/lib/python3.9/site-packages (from tensorflow<2.13,>=2.12.0->tensorflow_text) (1.16.0)\n",
      "Requirement already satisfied: tensorflow-estimator<2.13,>=2.12.0 in /opt/saturncloud/envs/saturn/lib/python3.9/site-packages (from tensorflow<2.13,>=2.12.0->tensorflow_text) (2.12.0)\n",
      "Requirement already satisfied: keras<2.13,>=2.12.0 in /opt/saturncloud/envs/saturn/lib/python3.9/site-packages (from tensorflow<2.13,>=2.12.0->tensorflow_text) (2.12.0)\n",
      "Requirement already satisfied: numpy<1.24,>=1.22 in /opt/saturncloud/envs/saturn/lib/python3.9/site-packages (from tensorflow<2.13,>=2.12.0->tensorflow_text) (1.23.5)\n",
      "Requirement already satisfied: setuptools in /opt/saturncloud/envs/saturn/lib/python3.9/site-packages (from tensorflow<2.13,>=2.12.0->tensorflow_text) (59.8.0)\n",
      "Requirement already satisfied: opt-einsum>=2.3.2 in /opt/saturncloud/envs/saturn/lib/python3.9/site-packages (from tensorflow<2.13,>=2.12.0->tensorflow_text) (3.3.0)\n",
      "Requirement already satisfied: protobuf!=4.21.0,!=4.21.1,!=4.21.2,!=4.21.3,!=4.21.4,!=4.21.5,<5.0.0dev,>=3.20.3 in /opt/saturncloud/envs/saturn/lib/python3.9/site-packages (from tensorflow<2.13,>=2.12.0->tensorflow_text) (4.22.3)\n",
      "Requirement already satisfied: termcolor>=1.1.0 in /opt/saturncloud/envs/saturn/lib/python3.9/site-packages (from tensorflow<2.13,>=2.12.0->tensorflow_text) (2.3.0)\n",
      "Requirement already satisfied: wrapt<1.15,>=1.11.0 in /opt/saturncloud/envs/saturn/lib/python3.9/site-packages (from tensorflow<2.13,>=2.12.0->tensorflow_text) (1.14.1)\n",
      "Requirement already satisfied: flatbuffers>=2.0 in /opt/saturncloud/envs/saturn/lib/python3.9/site-packages (from tensorflow<2.13,>=2.12.0->tensorflow_text) (23.3.3)\n",
      "Requirement already satisfied: libclang>=13.0.0 in /opt/saturncloud/envs/saturn/lib/python3.9/site-packages (from tensorflow<2.13,>=2.12.0->tensorflow_text) (16.0.0)\n",
      "Requirement already satisfied: gast<=0.4.0,>=0.2.1 in /opt/saturncloud/envs/saturn/lib/python3.9/site-packages (from tensorflow<2.13,>=2.12.0->tensorflow_text) (0.4.0)\n",
      "Requirement already satisfied: tensorboard<2.13,>=2.12 in /opt/saturncloud/envs/saturn/lib/python3.9/site-packages (from tensorflow<2.13,>=2.12.0->tensorflow_text) (2.12.2)\n",
      "Requirement already satisfied: packaging in /opt/saturncloud/envs/saturn/lib/python3.9/site-packages (from tensorflow<2.13,>=2.12.0->tensorflow_text) (23.0)\n",
      "Requirement already satisfied: tensorflow-io-gcs-filesystem>=0.23.1 in /opt/saturncloud/envs/saturn/lib/python3.9/site-packages (from tensorflow<2.13,>=2.12.0->tensorflow_text) (0.32.0)\n",
      "Requirement already satisfied: wheel<1.0,>=0.23.0 in /opt/saturncloud/envs/saturn/lib/python3.9/site-packages (from astunparse>=1.6.0->tensorflow<2.13,>=2.12.0->tensorflow_text) (0.40.0)\n",
      "Requirement already satisfied: ml-dtypes>=0.0.3 in /opt/saturncloud/envs/saturn/lib/python3.9/site-packages (from jax>=0.3.15->tensorflow<2.13,>=2.12.0->tensorflow_text) (0.1.0)\n",
      "Requirement already satisfied: scipy>=1.7 in /opt/saturncloud/envs/saturn/lib/python3.9/site-packages (from jax>=0.3.15->tensorflow<2.13,>=2.12.0->tensorflow_text) (1.8.0)\n",
      "Requirement already satisfied: werkzeug>=1.0.1 in /opt/saturncloud/envs/saturn/lib/python3.9/site-packages (from tensorboard<2.13,>=2.12->tensorflow<2.13,>=2.12.0->tensorflow_text) (2.2.3)\n",
      "Requirement already satisfied: tensorboard-data-server<0.8.0,>=0.7.0 in /opt/saturncloud/envs/saturn/lib/python3.9/site-packages (from tensorboard<2.13,>=2.12->tensorflow<2.13,>=2.12.0->tensorflow_text) (0.7.0)\n",
      "Requirement already satisfied: google-auth-oauthlib<1.1,>=0.5 in /opt/saturncloud/envs/saturn/lib/python3.9/site-packages (from tensorboard<2.13,>=2.12->tensorflow<2.13,>=2.12.0->tensorflow_text) (1.0.0)\n",
      "Requirement already satisfied: google-auth<3,>=1.6.3 in /opt/saturncloud/envs/saturn/lib/python3.9/site-packages (from tensorboard<2.13,>=2.12->tensorflow<2.13,>=2.12.0->tensorflow_text) (2.17.3)\n",
      "Requirement already satisfied: markdown>=2.6.8 in /opt/saturncloud/envs/saturn/lib/python3.9/site-packages (from tensorboard<2.13,>=2.12->tensorflow<2.13,>=2.12.0->tensorflow_text) (3.4.3)\n",
      "Requirement already satisfied: requests<3,>=2.21.0 in /opt/saturncloud/envs/saturn/lib/python3.9/site-packages (from tensorboard<2.13,>=2.12->tensorflow<2.13,>=2.12.0->tensorflow_text) (2.28.2)\n",
      "Requirement already satisfied: tensorboard-plugin-wit>=1.6.0 in /opt/saturncloud/envs/saturn/lib/python3.9/site-packages (from tensorboard<2.13,>=2.12->tensorflow<2.13,>=2.12.0->tensorflow_text) (1.8.1)\n",
      "Requirement already satisfied: cachetools<6.0,>=2.0.0 in /opt/saturncloud/envs/saturn/lib/python3.9/site-packages (from google-auth<3,>=1.6.3->tensorboard<2.13,>=2.12->tensorflow<2.13,>=2.12.0->tensorflow_text) (5.3.0)\n",
      "Requirement already satisfied: pyasn1-modules>=0.2.1 in /opt/saturncloud/envs/saturn/lib/python3.9/site-packages (from google-auth<3,>=1.6.3->tensorboard<2.13,>=2.12->tensorflow<2.13,>=2.12.0->tensorflow_text) (0.3.0)\n",
      "Requirement already satisfied: rsa<5,>=3.1.4 in /opt/saturncloud/envs/saturn/lib/python3.9/site-packages (from google-auth<3,>=1.6.3->tensorboard<2.13,>=2.12->tensorflow<2.13,>=2.12.0->tensorflow_text) (4.9)\n",
      "Requirement already satisfied: requests-oauthlib>=0.7.0 in /opt/saturncloud/envs/saturn/lib/python3.9/site-packages (from google-auth-oauthlib<1.1,>=0.5->tensorboard<2.13,>=2.12->tensorflow<2.13,>=2.12.0->tensorflow_text) (1.3.1)\n",
      "Requirement already satisfied: importlib-metadata>=4.4 in /opt/saturncloud/envs/saturn/lib/python3.9/site-packages (from markdown>=2.6.8->tensorboard<2.13,>=2.12->tensorflow<2.13,>=2.12.0->tensorflow_text) (6.0.0)\n",
      "Requirement already satisfied: urllib3<1.27,>=1.21.1 in /opt/saturncloud/envs/saturn/lib/python3.9/site-packages (from requests<3,>=2.21.0->tensorboard<2.13,>=2.12->tensorflow<2.13,>=2.12.0->tensorflow_text) (1.26.15)\n",
      "Requirement already satisfied: certifi>=2017.4.17 in /opt/saturncloud/envs/saturn/lib/python3.9/site-packages (from requests<3,>=2.21.0->tensorboard<2.13,>=2.12->tensorflow<2.13,>=2.12.0->tensorflow_text) (2022.12.7)\n",
      "Requirement already satisfied: idna<4,>=2.5 in /opt/saturncloud/envs/saturn/lib/python3.9/site-packages (from requests<3,>=2.21.0->tensorboard<2.13,>=2.12->tensorflow<2.13,>=2.12.0->tensorflow_text) (3.4)\n",
      "Requirement already satisfied: charset-normalizer<4,>=2 in /opt/saturncloud/envs/saturn/lib/python3.9/site-packages (from requests<3,>=2.21.0->tensorboard<2.13,>=2.12->tensorflow<2.13,>=2.12.0->tensorflow_text) (2.0.12)\n",
      "Requirement already satisfied: MarkupSafe>=2.1.1 in /opt/saturncloud/envs/saturn/lib/python3.9/site-packages (from werkzeug>=1.0.1->tensorboard<2.13,>=2.12->tensorflow<2.13,>=2.12.0->tensorflow_text) (2.1.2)\n"
     ]
    },
    {
     "name": "stdout",
     "output_type": "stream",
     "text": [
      "Requirement already satisfied: zipp>=0.5 in /opt/saturncloud/envs/saturn/lib/python3.9/site-packages (from importlib-metadata>=4.4->markdown>=2.6.8->tensorboard<2.13,>=2.12->tensorflow<2.13,>=2.12.0->tensorflow_text) (3.15.0)\r\n",
      "Requirement already satisfied: pyasn1<0.6.0,>=0.4.6 in /opt/saturncloud/envs/saturn/lib/python3.9/site-packages (from pyasn1-modules>=0.2.1->google-auth<3,>=1.6.3->tensorboard<2.13,>=2.12->tensorflow<2.13,>=2.12.0->tensorflow_text) (0.5.0)\r\n",
      "Requirement already satisfied: oauthlib>=3.0.0 in /opt/saturncloud/envs/saturn/lib/python3.9/site-packages (from requests-oauthlib>=0.7.0->google-auth-oauthlib<1.1,>=0.5->tensorboard<2.13,>=2.12->tensorflow<2.13,>=2.12.0->tensorflow_text) (3.2.2)\r\n"
     ]
    }
   ],
   "source": [
    "! pip install tensorflow_text"
   ]
  },
  {
   "cell_type": "code",
   "execution_count": 26,
   "metadata": {
    "id": "U_iuiP7v17aG"
   },
   "outputs": [
    {
     "name": "stderr",
     "output_type": "stream",
     "text": [
      "2023-04-23 21:42:34.130898: I tensorflow/tsl/cuda/cudart_stub.cc:28] Could not find cuda drivers on your machine, GPU will not be used.\n",
      "2023-04-23 21:42:34.180082: I tensorflow/tsl/cuda/cudart_stub.cc:28] Could not find cuda drivers on your machine, GPU will not be used.\n",
      "2023-04-23 21:42:34.181182: I tensorflow/core/platform/cpu_feature_guard.cc:182] This TensorFlow binary is optimized to use available CPU instructions in performance-critical operations.\n",
      "To enable the following instructions: AVX2 AVX512F FMA, in other operations, rebuild TensorFlow with the appropriate compiler flags.\n",
      "2023-04-23 21:42:34.767966: W tensorflow/compiler/tf2tensorrt/utils/py_utils.cc:38] TF-TRT Warning: Could not find TensorRT\n"
     ]
    }
   ],
   "source": [
    "import os\n",
    "import tensorflow as tf\n",
    "import tensorflow_hub as hub\n",
    "import tensorflow_datasets as tfds\n",
    "import tensorflow_text\n",
    "import numpy as np"
   ]
  },
  {
   "cell_type": "code",
   "execution_count": 27,
   "metadata": {
    "id": "MyyvEN1G0fpL"
   },
   "outputs": [
    {
     "name": "stderr",
     "output_type": "stream",
     "text": [
      "2023-04-23 21:42:37.405833: I tensorflow/core/common_runtime/executor.cc:1197] [/device:CPU:0] (DEBUG INFO) Executor start aborting (this does not indicate an error and you can ignore this message): INVALID_ARGUMENT: You must feed a value for placeholder tensor 'seq_length' with dtype int32\n",
      "\t [[{{node seq_length}}]]\n",
      "2023-04-23 21:42:37.406348: I tensorflow/core/common_runtime/executor.cc:1197] [/device:CPU:0] (DEBUG INFO) Executor start aborting (this does not indicate an error and you can ignore this message): INVALID_ARGUMENT: You must feed a value for placeholder tensor 'seq_length' with dtype int32\n",
      "\t [[{{node seq_length}}]]\n",
      "2023-04-23 21:42:37.406503: I tensorflow/core/common_runtime/executor.cc:1197] [/device:CPU:0] (DEBUG INFO) Executor start aborting (this does not indicate an error and you can ignore this message): INVALID_ARGUMENT: You must feed a value for placeholder tensor 'seq_length' with dtype int32\n",
      "\t [[{{node seq_length}}]]\n",
      "2023-04-23 21:42:37.406971: I tensorflow/core/common_runtime/executor.cc:1197] [/device:CPU:0] (DEBUG INFO) Executor start aborting (this does not indicate an error and you can ignore this message): INVALID_ARGUMENT: You must feed a value for placeholder tensor 'seq_length' with dtype int32\n",
      "\t [[{{node seq_length}}]]\n",
      "2023-04-23 21:42:37.407173: I tensorflow/core/common_runtime/executor.cc:1197] [/device:CPU:0] (DEBUG INFO) Executor start aborting (this does not indicate an error and you can ignore this message): INVALID_ARGUMENT: You must feed a value for placeholder tensor 'seq_length' with dtype int32\n",
      "\t [[{{node seq_length}}]]\n",
      "2023-04-23 21:42:37.407276: I tensorflow/core/common_runtime/executor.cc:1197] [/device:CPU:0] (DEBUG INFO) Executor start aborting (this does not indicate an error and you can ignore this message): INVALID_ARGUMENT: You must feed a value for placeholder tensor 'seq_length' with dtype int32\n",
      "\t [[{{node seq_length}}]]\n",
      "2023-04-23 21:42:37.407372: I tensorflow/core/common_runtime/executor.cc:1197] [/device:CPU:0] (DEBUG INFO) Executor start aborting (this does not indicate an error and you can ignore this message): INVALID_ARGUMENT: You must feed a value for placeholder tensor 'seq_length' with dtype int32\n",
      "\t [[{{node seq_length}}]]\n",
      "2023-04-23 21:42:37.477882: I tensorflow/core/common_runtime/executor.cc:1197] [/device:CPU:0] (DEBUG INFO) Executor start aborting (this does not indicate an error and you can ignore this message): INVALID_ARGUMENT: You must feed a value for placeholder tensor 'seq_length' with dtype int32\n",
      "\t [[{{node seq_length}}]]\n",
      "2023-04-23 21:42:37.478552: I tensorflow/core/common_runtime/executor.cc:1197] [/device:CPU:0] (DEBUG INFO) Executor start aborting (this does not indicate an error and you can ignore this message): INVALID_ARGUMENT: You must feed a value for placeholder tensor 'seq_length' with dtype int32\n",
      "\t [[{{node seq_length}}]]\n",
      "2023-04-23 21:42:37.478713: I tensorflow/core/common_runtime/executor.cc:1197] [/device:CPU:0] (DEBUG INFO) Executor start aborting (this does not indicate an error and you can ignore this message): INVALID_ARGUMENT: You must feed a value for placeholder tensor 'seq_length' with dtype int32\n",
      "\t [[{{node seq_length}}]]\n",
      "2023-04-23 21:42:37.479348: I tensorflow/core/common_runtime/executor.cc:1197] [/device:CPU:0] (DEBUG INFO) Executor start aborting (this does not indicate an error and you can ignore this message): INVALID_ARGUMENT: You must feed a value for placeholder tensor 'seq_length' with dtype int32\n",
      "\t [[{{node seq_length}}]]\n",
      "2023-04-23 21:42:37.479545: I tensorflow/core/common_runtime/executor.cc:1197] [/device:CPU:0] (DEBUG INFO) Executor start aborting (this does not indicate an error and you can ignore this message): INVALID_ARGUMENT: You must feed a value for placeholder tensor 'seq_length' with dtype int32\n",
      "\t [[{{node seq_length}}]]\n",
      "2023-04-23 21:42:37.479650: I tensorflow/core/common_runtime/executor.cc:1197] [/device:CPU:0] (DEBUG INFO) Executor start aborting (this does not indicate an error and you can ignore this message): INVALID_ARGUMENT: You must feed a value for placeholder tensor 'seq_length' with dtype int32\n",
      "\t [[{{node seq_length}}]]\n",
      "2023-04-23 21:42:37.479746: I tensorflow/core/common_runtime/executor.cc:1197] [/device:CPU:0] (DEBUG INFO) Executor start aborting (this does not indicate an error and you can ignore this message): INVALID_ARGUMENT: You must feed a value for placeholder tensor 'seq_length' with dtype int32\n",
      "\t [[{{node seq_length}}]]\n",
      "2023-04-23 21:42:37.562959: I tensorflow/core/common_runtime/executor.cc:1197] [/device:CPU:0] (DEBUG INFO) Executor start aborting (this does not indicate an error and you can ignore this message): INVALID_ARGUMENT: You must feed a value for placeholder tensor 'seq_length' with dtype int32\n",
      "\t [[{{node seq_length}}]]\n",
      "2023-04-23 21:42:37.563484: I tensorflow/core/common_runtime/executor.cc:1197] [/device:CPU:0] (DEBUG INFO) Executor start aborting (this does not indicate an error and you can ignore this message): INVALID_ARGUMENT: You must feed a value for placeholder tensor 'seq_length' with dtype int32\n",
      "\t [[{{node seq_length}}]]\n",
      "2023-04-23 21:42:37.563634: I tensorflow/core/common_runtime/executor.cc:1197] [/device:CPU:0] (DEBUG INFO) Executor start aborting (this does not indicate an error and you can ignore this message): INVALID_ARGUMENT: You must feed a value for placeholder tensor 'seq_length' with dtype int32\n",
      "\t [[{{node seq_length}}]]\n",
      "2023-04-23 21:42:37.564107: I tensorflow/core/common_runtime/executor.cc:1197] [/device:CPU:0] (DEBUG INFO) Executor start aborting (this does not indicate an error and you can ignore this message): INVALID_ARGUMENT: You must feed a value for placeholder tensor 'seq_length' with dtype int32\n",
      "\t [[{{node seq_length}}]]\n",
      "2023-04-23 21:42:37.564325: I tensorflow/core/common_runtime/executor.cc:1197] [/device:CPU:0] (DEBUG INFO) Executor start aborting (this does not indicate an error and you can ignore this message): INVALID_ARGUMENT: You must feed a value for placeholder tensor 'seq_length' with dtype int32\n",
      "\t [[{{node seq_length}}]]\n",
      "2023-04-23 21:42:37.564440: I tensorflow/core/common_runtime/executor.cc:1197] [/device:CPU:0] (DEBUG INFO) Executor start aborting (this does not indicate an error and you can ignore this message): INVALID_ARGUMENT: You must feed a value for placeholder tensor 'seq_length' with dtype int32\n",
      "\t [[{{node seq_length}}]]\n",
      "2023-04-23 21:42:37.564544: I tensorflow/core/common_runtime/executor.cc:1197] [/device:CPU:0] (DEBUG INFO) Executor start aborting (this does not indicate an error and you can ignore this message): INVALID_ARGUMENT: You must feed a value for placeholder tensor 'seq_length' with dtype int32\n",
      "\t [[{{node seq_length}}]]\n",
      "2023-04-23 21:42:37.737029: I tensorflow/core/common_runtime/executor.cc:1197] [/device:CPU:0] (DEBUG INFO) Executor start aborting (this does not indicate an error and you can ignore this message): INVALID_ARGUMENT: You must feed a value for placeholder tensor 'seq_length' with dtype int32\n",
      "\t [[{{node seq_length}}]]\n",
      "2023-04-23 21:42:37.737752: I tensorflow/core/common_runtime/executor.cc:1197] [/device:CPU:0] (DEBUG INFO) Executor start aborting (this does not indicate an error and you can ignore this message): INVALID_ARGUMENT: You must feed a value for placeholder tensor 'seq_length' with dtype int32\n",
      "\t [[{{node seq_length}}]]\n",
      "2023-04-23 21:42:37.737916: I tensorflow/core/common_runtime/executor.cc:1197] [/device:CPU:0] (DEBUG INFO) Executor start aborting (this does not indicate an error and you can ignore this message): INVALID_ARGUMENT: You must feed a value for placeholder tensor 'seq_length' with dtype int32\n",
      "\t [[{{node seq_length}}]]\n",
      "2023-04-23 21:42:37.738549: I tensorflow/core/common_runtime/executor.cc:1197] [/device:CPU:0] (DEBUG INFO) Executor start aborting (this does not indicate an error and you can ignore this message): INVALID_ARGUMENT: You must feed a value for placeholder tensor 'seq_length' with dtype int32\n",
      "\t [[{{node seq_length}}]]\n",
      "2023-04-23 21:42:37.738763: I tensorflow/core/common_runtime/executor.cc:1197] [/device:CPU:0] (DEBUG INFO) Executor start aborting (this does not indicate an error and you can ignore this message): INVALID_ARGUMENT: You must feed a value for placeholder tensor 'seq_length' with dtype int32\n",
      "\t [[{{node seq_length}}]]\n",
      "2023-04-23 21:42:37.738876: I tensorflow/core/common_runtime/executor.cc:1197] [/device:CPU:0] (DEBUG INFO) Executor start aborting (this does not indicate an error and you can ignore this message): INVALID_ARGUMENT: You must feed a value for placeholder tensor 'seq_length' with dtype int32\n",
      "\t [[{{node seq_length}}]]\n",
      "2023-04-23 21:42:37.739000: I tensorflow/core/common_runtime/executor.cc:1197] [/device:CPU:0] (DEBUG INFO) Executor start aborting (this does not indicate an error and you can ignore this message): INVALID_ARGUMENT: You must feed a value for placeholder tensor 'seq_length' with dtype int32\n",
      "\t [[{{node seq_length}}]]\n"
     ]
    }
   ],
   "source": [
    "preprocessor = hub.KerasLayer(\n",
    "    \"https://tfhub.dev/tensorflow/bert_en_uncased_preprocess/3\")"
   ]
  },
  {
   "cell_type": "code",
   "execution_count": 28,
   "metadata": {
    "id": "AqZlhNLU0osu"
   },
   "outputs": [],
   "source": [
    "model = hub.KerasLayer('https://tfhub.dev/tensorflow/bert_en_uncased_L-12_H-768_A-12/4')"
   ]
  },
  {
   "cell_type": "code",
   "execution_count": 29,
   "metadata": {
    "id": "8JSkMQK75JBX"
   },
   "outputs": [],
   "source": [
    "def get_embeddings(sentences):\n",
    "  preproc_text = preprocessor(sentences)\n",
    "  return model(preproc_text)['pooled_output']\n"
   ]
  },
  {
   "cell_type": "code",
   "execution_count": 30,
   "metadata": {
    "id": "0-zf49pi6kdF"
   },
   "outputs": [],
   "source": [
    "encoded_train = get_embeddings(['More than 4,000 years after their construction, the pyramids still stand as some of the most important and mysterious tombs in the world',\n",
    "                                'Venu can eat shit',\n",
    "                                'The Egyptian pyramids are some of the most incredible man-made structures in history.'])"
   ]
  },
  {
   "cell_type": "code",
   "execution_count": 31,
   "metadata": {
    "id": "SeTPhZuj6sa3"
   },
   "outputs": [],
   "source": [
    "from sklearn.metrics.pairwise import cosine_similarity"
   ]
  },
  {
   "cell_type": "code",
   "execution_count": 32,
   "metadata": {
    "colab": {
     "base_uri": "https://localhost:8080/"
    },
    "id": "zN0h9i3w7XOy",
    "outputId": "40905338-875a-49f7-afb1-bdb4ee753b62"
   },
   "outputs": [
    {
     "data": {
      "text/plain": [
       "array([[0.6433474]], dtype=float32)"
      ]
     },
     "execution_count": 32,
     "metadata": {},
     "output_type": "execute_result"
    }
   ],
   "source": [
    "cosine_similarity([encoded_train[0]], [encoded_train[1]])"
   ]
  },
  {
   "cell_type": "code",
   "execution_count": 33,
   "metadata": {
    "colab": {
     "base_uri": "https://localhost:8080/"
    },
    "id": "vV0bwTRI7jwa",
    "outputId": "0748263d-1517-4448-9328-2677c99eac6f"
   },
   "outputs": [
    {
     "data": {
      "text/plain": [
       "array([[0.99280226]], dtype=float32)"
      ]
     },
     "execution_count": 33,
     "metadata": {},
     "output_type": "execute_result"
    }
   ],
   "source": [
    "cosine_similarity([encoded_train[0]], [encoded_train[2]])"
   ]
  },
  {
   "cell_type": "code",
   "execution_count": 34,
   "metadata": {
    "id": "gX5_1AIH8e3y"
   },
   "outputs": [],
   "source": [
    "corpus_train_sent = []\n",
    "for sentence in train_sentences:\n",
    "  corpus_train_sent.append(\" \".join(sentence))"
   ]
  },
  {
   "cell_type": "code",
   "execution_count": 35,
   "metadata": {
    "id": "deyJdunK7x85"
   },
   "outputs": [],
   "source": [
    "encoded_train = get_embeddings(corpus_train_sent)"
   ]
  },
  {
   "cell_type": "code",
   "execution_count": 38,
   "metadata": {
    "id": "aIFNW-Tj8Ybk"
   },
   "outputs": [
    {
     "data": {
      "text/plain": [
       "<tf.Tensor: shape=(2604, 768), dtype=float32, numpy=\n",
       "array([[-0.8664386 , -0.405062  , -0.6991607 , ..., -0.51773936,\n",
       "        -0.56693715,  0.760728  ],\n",
       "       [-0.80067974, -0.24865906, -0.6266698 , ..., -0.4472373 ,\n",
       "        -0.43689948,  0.730434  ],\n",
       "       [-0.7658646 , -0.30170128, -0.40853217, ..., -0.24673072,\n",
       "        -0.52510834,  0.69515747],\n",
       "       ...,\n",
       "       [-0.8801796 , -0.37080878, -0.6042103 , ..., -0.35953856,\n",
       "        -0.64614713,  0.8084276 ],\n",
       "       [-0.8886641 , -0.26095387, -0.730861  , ..., -0.30854383,\n",
       "        -0.50734085,  0.75959975],\n",
       "       [-0.90591276, -0.46449426, -0.72730905, ..., -0.41756356,\n",
       "        -0.6898658 ,  0.87320304]], dtype=float32)>"
      ]
     },
     "execution_count": 38,
     "metadata": {},
     "output_type": "execute_result"
    }
   ],
   "source": [
    "encoded_train"
   ]
  },
  {
   "cell_type": "code",
   "execution_count": 45,
   "metadata": {},
   "outputs": [
    {
     "name": "stdout",
     "output_type": "stream",
     "text": [
      "tf.Tensor(b'[[-0.866438627 -0.405062 -0.699160695 ... -0.517739356 -0.566937149 0.760728]\\n [-0.800679743 -0.248659059 -0.626669824 ... -0.447237313 -0.436899483 0.730434]\\n [-0.765864611 -0.301701277 -0.408532172 ... -0.246730715 -0.525108337 0.695157468]\\n ...\\n [-0.880179584 -0.37080878 -0.604210317 ... -0.359538555 -0.646147132 0.808427572]\\n [-0.888664126 -0.260953873 -0.730861 ... -0.308543831 -0.507340848 0.759599745]\\n [-0.905912757 -0.464494258 -0.727309048 ... -0.417563558 -0.689865828 0.873203039]]', shape=(), dtype=string)\n"
     ]
    }
   ],
   "source": [
    "one_string = tf.strings.format(\"{}\", (encoded_train))\n",
    "print(one_string)"
   ]
  },
  {
   "cell_type": "code",
   "execution_count": 52,
   "metadata": {},
   "outputs": [],
   "source": [
    "strin=''.join([str(i) for i in encoded_train])"
   ]
  },
  {
   "cell_type": "code",
   "execution_count": 57,
   "metadata": {},
   "outputs": [
    {
     "name": "stdout",
     "output_type": "stream",
     "text": [
      "tf.Tensor(\n",
      "[-8.66438627e-01 -4.05061990e-01 -6.99160695e-01  7.27808416e-01\n",
      "  3.40399802e-01 -5.78754283e-02  8.53203177e-01  1.87466249e-01\n",
      " -5.59290588e-01 -9.99976814e-01 -2.43072107e-01  8.71866226e-01\n",
      "  9.73141730e-01  4.40849453e-01  8.81304622e-01 -6.09704673e-01\n",
      " -3.79022509e-01 -4.34092730e-01  4.20286298e-01 -3.44281793e-01\n",
      "  6.03318691e-01  9.99877930e-01  2.79861152e-01  2.63501316e-01\n",
      "  3.65244508e-01  9.57164526e-01 -7.71161199e-01  8.54507208e-01\n",
      "  9.45556998e-01  6.24496996e-01 -6.94492638e-01  3.12179446e-01\n",
      " -9.80762661e-01 -1.40338853e-01 -7.51326561e-01 -9.86367524e-01\n",
      "  3.68157595e-01 -6.53157532e-01 -3.70124355e-04 -7.44309798e-02\n",
      " -8.31001878e-01  3.65614295e-01  9.99889553e-01  3.38804871e-01\n",
      "  2.15131521e-01 -2.53334016e-01 -9.99999404e-01  1.36075988e-01\n",
      " -7.69760370e-01  7.63537824e-01  6.22122347e-01  6.38821363e-01\n",
      "  1.82172701e-01  4.76627469e-01  4.87664580e-01 -1.17541626e-02\n",
      " -1.46065608e-01  7.76287615e-02 -3.22926015e-01 -4.39602137e-01\n",
      " -5.30514300e-01  3.23986501e-01 -7.81540394e-01 -8.64332259e-01\n",
      "  7.54198790e-01  3.98620367e-01 -1.64429307e-01 -4.25522119e-01\n",
      " -7.02418908e-02 -1.40300781e-01  7.97276616e-01  2.64090866e-01\n",
      " -5.03859296e-02 -7.11534441e-01  2.20680565e-01  2.11643144e-01\n",
      " -6.23716235e-01  1.00000000e+00 -6.66585147e-01 -9.58424568e-01\n",
      "  5.48938036e-01  4.69865948e-01  5.37653387e-01  7.32545257e-02\n",
      "  3.40783924e-01 -1.00000000e+00  4.80232418e-01 -1.08844964e-02\n",
      " -9.80623543e-01  2.39616007e-01  5.69143713e-01 -1.65297344e-01\n",
      "  3.01037133e-01  5.80375671e-01 -4.32675123e-01 -3.97935390e-01\n",
      " -2.78788030e-01 -6.76142216e-01 -2.74277270e-01 -2.55223006e-01\n",
      "  9.62516889e-02 -3.47457200e-01 -2.71903455e-01 -4.12218451e-01\n",
      "  2.18787700e-01 -4.74343359e-01 -4.28829700e-01  3.68975580e-01\n",
      "  1.14719884e-03  7.38033772e-01  3.90276611e-01 -3.39147270e-01\n",
      "  3.05174202e-01 -9.39739048e-01  6.70698881e-01 -2.81940937e-01\n",
      " -9.78680134e-01 -4.81899053e-01 -9.76565778e-01  6.85560048e-01\n",
      " -1.47831798e-01 -1.35398135e-01  8.826\n"
     ]
    }
   ],
   "source": [
    "print(strin[:2000])"
   ]
  },
  {
   "cell_type": "code",
   "execution_count": 58,
   "metadata": {},
   "outputs": [],
   "source": [
    "tf.io.write_file('encoded_train.txt', strin)"
   ]
  },
  {
   "cell_type": "code",
   "execution_count": 59,
   "metadata": {},
   "outputs": [],
   "source": [
    "raw = tf.io.read_file('encoded_train.txt')"
   ]
  }
 ],
 "metadata": {
  "accelerator": "GPU",
  "colab": {
   "gpuType": "T4",
   "provenance": []
  },
  "gpuClass": "standard",
  "kernelspec": {
   "display_name": "saturn (Python 3)",
   "language": "python",
   "name": "python3"
  },
  "language_info": {
   "codemirror_mode": {
    "name": "ipython",
    "version": 3
   },
   "file_extension": ".py",
   "mimetype": "text/x-python",
   "name": "python",
   "nbconvert_exporter": "python",
   "pygments_lexer": "ipython3",
   "version": "3.9.15"
  }
 },
 "nbformat": 4,
 "nbformat_minor": 1
}
