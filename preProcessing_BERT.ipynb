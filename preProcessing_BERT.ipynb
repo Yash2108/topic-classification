{
 "cells": [
  {
   "cell_type": "code",
   "execution_count": 18,
   "id": "a0bac65c-365f-4443-b8c8-f83cf100ac6f",
   "metadata": {
    "execution": {
     "iopub.execute_input": "2023-04-28T21:53:34.069173Z",
     "iopub.status.busy": "2023-04-28T21:53:34.068798Z",
     "iopub.status.idle": "2023-04-28T21:53:36.456179Z",
     "shell.execute_reply": "2023-04-28T21:53:36.455324Z",
     "shell.execute_reply.started": "2023-04-28T21:53:34.069146Z"
    },
    "tags": []
   },
   "outputs": [
    {
     "name": "stderr",
     "output_type": "stream",
     "text": [
      "[nltk_data] Downloading package stopwords to /home/jovyan/nltk_data...\n",
      "[nltk_data]   Package stopwords is already up-to-date!\n",
      "2023-04-28 21:53:34.226563: I tensorflow/tsl/cuda/cudart_stub.cc:28] Could not find cuda drivers on your machine, GPU will not be used.\n",
      "2023-04-28 21:53:34.268432: I tensorflow/tsl/cuda/cudart_stub.cc:28] Could not find cuda drivers on your machine, GPU will not be used.\n",
      "2023-04-28 21:53:34.268869: I tensorflow/core/platform/cpu_feature_guard.cc:182] This TensorFlow binary is optimized to use available CPU instructions in performance-critical operations.\n",
      "To enable the following instructions: AVX2 AVX512F FMA, in other operations, rebuild TensorFlow with the appropriate compiler flags.\n",
      "2023-04-28 21:53:34.872963: W tensorflow/compiler/tf2tensorrt/utils/py_utils.cc:38] TF-TRT Warning: Could not find TensorRT\n"
     ]
    }
   ],
   "source": [
    "import pandas as pd\n",
    "# from google.colab import drive\n",
    "# drive.mount('/content/drive' , force_remount=True)\n",
    "import nltk\n",
    "from nltk.corpus import stopwords\n",
    "nltk.download('stopwords')\n",
    "import re\n",
    "from tqdm import tqdm\n",
    "import matplotlib.pyplot as plt\n",
    "import os\n",
    "import tensorflow as tf\n",
    "import tensorflow_hub as hub\n",
    "import tensorflow_datasets as tfds\n",
    "import tensorflow_text\n",
    "import numpy as np"
   ]
  },
  {
   "cell_type": "code",
   "execution_count": 3,
   "id": "40651597-cc68-458b-b101-f56267ea3e42",
   "metadata": {
    "execution": {
     "iopub.execute_input": "2023-04-28T21:51:27.300377Z",
     "iopub.status.busy": "2023-04-28T21:51:27.299981Z",
     "iopub.status.idle": "2023-04-28T21:51:31.390198Z",
     "shell.execute_reply": "2023-04-28T21:51:31.389574Z",
     "shell.execute_reply.started": "2023-04-28T21:51:27.300352Z"
    },
    "tags": []
   },
   "outputs": [],
   "source": [
    "# Unlabelled Data\n",
    "unlabelled=pd.read_csv('unlabelled_data.csv')"
   ]
  },
  {
   "cell_type": "code",
   "execution_count": 4,
   "id": "6405fe0e-1072-4d0c-a523-6f036590e928",
   "metadata": {
    "execution": {
     "iopub.execute_input": "2023-04-28T21:51:35.059163Z",
     "iopub.status.busy": "2023-04-28T21:51:35.058757Z",
     "iopub.status.idle": "2023-04-28T21:51:35.154639Z",
     "shell.execute_reply": "2023-04-28T21:51:35.153941Z",
     "shell.execute_reply.started": "2023-04-28T21:51:35.059137Z"
    }
   },
   "outputs": [
    {
     "data": {
      "text/html": [
       "<div>\n",
       "<style scoped>\n",
       "    .dataframe tbody tr th:only-of-type {\n",
       "        vertical-align: middle;\n",
       "    }\n",
       "\n",
       "    .dataframe tbody tr th {\n",
       "        vertical-align: top;\n",
       "    }\n",
       "\n",
       "    .dataframe thead th {\n",
       "        text-align: right;\n",
       "    }\n",
       "</style>\n",
       "<table border=\"1\" class=\"dataframe\">\n",
       "  <thead>\n",
       "    <tr style=\"text-align: right;\">\n",
       "      <th></th>\n",
       "      <th>Unnamed: 0</th>\n",
       "      <th>doc_id</th>\n",
       "      <th>text</th>\n",
       "      <th>country</th>\n",
       "      <th>year</th>\n",
       "    </tr>\n",
       "  </thead>\n",
       "  <tbody>\n",
       "    <tr>\n",
       "      <th>0</th>\n",
       "      <td>0</td>\n",
       "      <td>ARG_25_1970.txt.1</td>\n",
       "      <td>177.\\t : It is a fortunate coincidence that pr...</td>\n",
       "      <td>ARG</td>\n",
       "      <td>1970</td>\n",
       "    </tr>\n",
       "    <tr>\n",
       "      <th>1</th>\n",
       "      <td>1</td>\n",
       "      <td>ARG_25_1970.txt.2</td>\n",
       "      <td>On behalf of the Argentine Government, it is a...</td>\n",
       "      <td>ARG</td>\n",
       "      <td>1970</td>\n",
       "    </tr>\n",
       "    <tr>\n",
       "      <th>2</th>\n",
       "      <td>2</td>\n",
       "      <td>ARG_25_1970.txt.3</td>\n",
       "      <td>178.</td>\n",
       "      <td>ARG</td>\n",
       "      <td>1970</td>\n",
       "    </tr>\n",
       "    <tr>\n",
       "      <th>3</th>\n",
       "      <td>3</td>\n",
       "      <td>ARG_25_1970.txt.4</td>\n",
       "      <td>Through you I should also like to express the ...</td>\n",
       "      <td>ARG</td>\n",
       "      <td>1970</td>\n",
       "    </tr>\n",
       "    <tr>\n",
       "      <th>4</th>\n",
       "      <td>4</td>\n",
       "      <td>ARG_25_1970.txt.5</td>\n",
       "      <td>179.</td>\n",
       "      <td>ARG</td>\n",
       "      <td>1970</td>\n",
       "    </tr>\n",
       "    <tr>\n",
       "      <th>...</th>\n",
       "      <td>...</td>\n",
       "      <td>...</td>\n",
       "      <td>...</td>\n",
       "      <td>...</td>\n",
       "      <td>...</td>\n",
       "    </tr>\n",
       "    <tr>\n",
       "      <th>2041695</th>\n",
       "      <td>2041695</td>\n",
       "      <td>ZWE_75_2020.txt.63</td>\n",
       "      <td>Ladies and Gentlemen.</td>\n",
       "      <td>ZWE</td>\n",
       "      <td>2020</td>\n",
       "    </tr>\n",
       "    <tr>\n",
       "      <th>2041696</th>\n",
       "      <td>2041696</td>\n",
       "      <td>ZWE_75_2020.txt.64</td>\n",
       "      <td>Let me conclude by reaffirming Zimbabwe’s comm...</td>\n",
       "      <td>ZWE</td>\n",
       "      <td>2020</td>\n",
       "    </tr>\n",
       "    <tr>\n",
       "      <th>2041697</th>\n",
       "      <td>2041697</td>\n",
       "      <td>ZWE_75_2020.txt.65</td>\n",
       "      <td>There is no better way of achieving a peaceful...</td>\n",
       "      <td>ZWE</td>\n",
       "      <td>2020</td>\n",
       "    </tr>\n",
       "    <tr>\n",
       "      <th>2041698</th>\n",
       "      <td>2041698</td>\n",
       "      <td>ZWE_75_2020.txt.66</td>\n",
       "      <td>Recommitting ourselves to these ideals will pa...</td>\n",
       "      <td>ZWE</td>\n",
       "      <td>2020</td>\n",
       "    </tr>\n",
       "    <tr>\n",
       "      <th>2041699</th>\n",
       "      <td>2041699</td>\n",
       "      <td>ZWE_75_2020.txt.67</td>\n",
       "      <td>I thank you.</td>\n",
       "      <td>ZWE</td>\n",
       "      <td>2020</td>\n",
       "    </tr>\n",
       "  </tbody>\n",
       "</table>\n",
       "<p>2041700 rows × 5 columns</p>\n",
       "</div>"
      ],
      "text/plain": [
       "         Unnamed: 0              doc_id  \\\n",
       "0                 0   ARG_25_1970.txt.1   \n",
       "1                 1   ARG_25_1970.txt.2   \n",
       "2                 2   ARG_25_1970.txt.3   \n",
       "3                 3   ARG_25_1970.txt.4   \n",
       "4                 4   ARG_25_1970.txt.5   \n",
       "...             ...                 ...   \n",
       "2041695     2041695  ZWE_75_2020.txt.63   \n",
       "2041696     2041696  ZWE_75_2020.txt.64   \n",
       "2041697     2041697  ZWE_75_2020.txt.65   \n",
       "2041698     2041698  ZWE_75_2020.txt.66   \n",
       "2041699     2041699  ZWE_75_2020.txt.67   \n",
       "\n",
       "                                                      text country  year  \n",
       "0        177.\\t : It is a fortunate coincidence that pr...     ARG  1970  \n",
       "1        On behalf of the Argentine Government, it is a...     ARG  1970  \n",
       "2                                                     178.     ARG  1970  \n",
       "3        Through you I should also like to express the ...     ARG  1970  \n",
       "4                                                     179.     ARG  1970  \n",
       "...                                                    ...     ...   ...  \n",
       "2041695                              Ladies and Gentlemen.     ZWE  2020  \n",
       "2041696  Let me conclude by reaffirming Zimbabwe’s comm...     ZWE  2020  \n",
       "2041697  There is no better way of achieving a peaceful...     ZWE  2020  \n",
       "2041698  Recommitting ourselves to these ideals will pa...     ZWE  2020  \n",
       "2041699                                       I thank you.     ZWE  2020  \n",
       "\n",
       "[2041700 rows x 5 columns]"
      ]
     },
     "execution_count": 4,
     "metadata": {},
     "output_type": "execute_result"
    }
   ],
   "source": [
    "unlabelled"
   ]
  },
  {
   "cell_type": "code",
   "execution_count": 5,
   "id": "46db942c-6b56-4f6b-9771-a8eae72f8e8c",
   "metadata": {
    "execution": {
     "iopub.execute_input": "2023-04-28T21:51:42.584737Z",
     "iopub.status.busy": "2023-04-28T21:51:42.584335Z",
     "iopub.status.idle": "2023-04-28T21:51:42.606896Z",
     "shell.execute_reply": "2023-04-28T21:51:42.606352Z",
     "shell.execute_reply.started": "2023-04-28T21:51:42.584711Z"
    }
   },
   "outputs": [
    {
     "data": {
      "text/html": [
       "<div>\n",
       "<style scoped>\n",
       "    .dataframe tbody tr th:only-of-type {\n",
       "        vertical-align: middle;\n",
       "    }\n",
       "\n",
       "    .dataframe tbody tr th {\n",
       "        vertical-align: top;\n",
       "    }\n",
       "\n",
       "    .dataframe thead th {\n",
       "        text-align: right;\n",
       "    }\n",
       "</style>\n",
       "<table border=\"1\" class=\"dataframe\">\n",
       "  <thead>\n",
       "    <tr style=\"text-align: right;\">\n",
       "      <th></th>\n",
       "      <th>Unnamed: 0</th>\n",
       "      <th>doc_id</th>\n",
       "      <th>text</th>\n",
       "      <th>country</th>\n",
       "      <th>year</th>\n",
       "      <th>coding</th>\n",
       "      <th>difficult</th>\n",
       "    </tr>\n",
       "  </thead>\n",
       "  <tbody>\n",
       "    <tr>\n",
       "      <th>0</th>\n",
       "      <td>AUS_46_1991.txt.1</td>\n",
       "      <td>AUS_46_1991.txt.1</td>\n",
       "      <td>I congratulate you, Sir, on your election as P...</td>\n",
       "      <td>AUS</td>\n",
       "      <td>1991</td>\n",
       "      <td>greeting</td>\n",
       "      <td>0.0</td>\n",
       "    </tr>\n",
       "    <tr>\n",
       "      <th>1</th>\n",
       "      <td>AUS_46_1991.txt.2</td>\n",
       "      <td>AUS_46_1991.txt.2</td>\n",
       "      <td>I am sure we will all benefit from your long e...</td>\n",
       "      <td>AUS</td>\n",
       "      <td>1991</td>\n",
       "      <td>greeting</td>\n",
       "      <td>0.0</td>\n",
       "    </tr>\n",
       "    <tr>\n",
       "      <th>2</th>\n",
       "      <td>AUS_46_1991.txt.3</td>\n",
       "      <td>AUS_46_1991.txt.3</td>\n",
       "      <td>Australia enjoys strong bonds of friendship wi...</td>\n",
       "      <td>AUS</td>\n",
       "      <td>1991</td>\n",
       "      <td>greeting</td>\n",
       "      <td>0.0</td>\n",
       "    </tr>\n",
       "    <tr>\n",
       "      <th>3</th>\n",
       "      <td>AUS_46_1991.txt.4</td>\n",
       "      <td>AUS_46_1991.txt.4</td>\n",
       "      <td>Australia warmly welcomes to membership of thi...</td>\n",
       "      <td>AUS</td>\n",
       "      <td>1991</td>\n",
       "      <td>greeting</td>\n",
       "      <td>0.0</td>\n",
       "    </tr>\n",
       "    <tr>\n",
       "      <th>4</th>\n",
       "      <td>AUS_46_1991.txt.5</td>\n",
       "      <td>AUS_46_1991.txt.5</td>\n",
       "      <td>Equally, as a country of the Asia-Pacific regi...</td>\n",
       "      <td>AUS</td>\n",
       "      <td>1991</td>\n",
       "      <td>greeting</td>\n",
       "      <td>0.0</td>\n",
       "    </tr>\n",
       "    <tr>\n",
       "      <th>...</th>\n",
       "      <td>...</td>\n",
       "      <td>...</td>\n",
       "      <td>...</td>\n",
       "      <td>...</td>\n",
       "      <td>...</td>\n",
       "      <td>...</td>\n",
       "      <td>...</td>\n",
       "    </tr>\n",
       "    <tr>\n",
       "      <th>2645</th>\n",
       "      <td>EST_72_2017.txt.92</td>\n",
       "      <td>EST_72_2017.txt.92</td>\n",
       "      <td>As a small country, we care for all those who ...</td>\n",
       "      <td>EST</td>\n",
       "      <td>2017</td>\n",
       "      <td>security</td>\n",
       "      <td>0.0</td>\n",
       "    </tr>\n",
       "    <tr>\n",
       "      <th>2646</th>\n",
       "      <td>EST_72_2017.txt.93</td>\n",
       "      <td>EST_72_2017.txt.93</td>\n",
       "      <td>As a digital society, we are a story of hope a...</td>\n",
       "      <td>EST</td>\n",
       "      <td>2017</td>\n",
       "      <td>development</td>\n",
       "      <td>0.0</td>\n",
       "    </tr>\n",
       "    <tr>\n",
       "      <th>2647</th>\n",
       "      <td>EST_72_2017.txt.94</td>\n",
       "      <td>EST_72_2017.txt.94</td>\n",
       "      <td>Again, as a digital State, we consider transpa...</td>\n",
       "      <td>EST</td>\n",
       "      <td>2017</td>\n",
       "      <td>human</td>\n",
       "      <td>0.0</td>\n",
       "    </tr>\n",
       "    <tr>\n",
       "      <th>2648</th>\n",
       "      <td>EST_72_2017.txt.95</td>\n",
       "      <td>EST_72_2017.txt.95</td>\n",
       "      <td>We are adamant supporters of rules-based decis...</td>\n",
       "      <td>EST</td>\n",
       "      <td>2017</td>\n",
       "      <td>democracy</td>\n",
       "      <td>0.0</td>\n",
       "    </tr>\n",
       "    <tr>\n",
       "      <th>2649</th>\n",
       "      <td>EST_72_2017.txt.96</td>\n",
       "      <td>EST_72_2017.txt.96</td>\n",
       "      <td>We are with those who want to make the United ...</td>\n",
       "      <td>EST</td>\n",
       "      <td>2017</td>\n",
       "      <td>un</td>\n",
       "      <td>0.0</td>\n",
       "    </tr>\n",
       "  </tbody>\n",
       "</table>\n",
       "<p>2650 rows × 7 columns</p>\n",
       "</div>"
      ],
      "text/plain": [
       "              Unnamed: 0              doc_id  \\\n",
       "0      AUS_46_1991.txt.1   AUS_46_1991.txt.1   \n",
       "1      AUS_46_1991.txt.2   AUS_46_1991.txt.2   \n",
       "2      AUS_46_1991.txt.3   AUS_46_1991.txt.3   \n",
       "3      AUS_46_1991.txt.4   AUS_46_1991.txt.4   \n",
       "4      AUS_46_1991.txt.5   AUS_46_1991.txt.5   \n",
       "...                  ...                 ...   \n",
       "2645  EST_72_2017.txt.92  EST_72_2017.txt.92   \n",
       "2646  EST_72_2017.txt.93  EST_72_2017.txt.93   \n",
       "2647  EST_72_2017.txt.94  EST_72_2017.txt.94   \n",
       "2648  EST_72_2017.txt.95  EST_72_2017.txt.95   \n",
       "2649  EST_72_2017.txt.96  EST_72_2017.txt.96   \n",
       "\n",
       "                                                   text country  year  \\\n",
       "0     I congratulate you, Sir, on your election as P...     AUS  1991   \n",
       "1     I am sure we will all benefit from your long e...     AUS  1991   \n",
       "2     Australia enjoys strong bonds of friendship wi...     AUS  1991   \n",
       "3     Australia warmly welcomes to membership of thi...     AUS  1991   \n",
       "4     Equally, as a country of the Asia-Pacific regi...     AUS  1991   \n",
       "...                                                 ...     ...   ...   \n",
       "2645  As a small country, we care for all those who ...     EST  2017   \n",
       "2646  As a digital society, we are a story of hope a...     EST  2017   \n",
       "2647  Again, as a digital State, we consider transpa...     EST  2017   \n",
       "2648  We are adamant supporters of rules-based decis...     EST  2017   \n",
       "2649  We are with those who want to make the United ...     EST  2017   \n",
       "\n",
       "           coding  difficult  \n",
       "0        greeting        0.0  \n",
       "1        greeting        0.0  \n",
       "2        greeting        0.0  \n",
       "3        greeting        0.0  \n",
       "4        greeting        0.0  \n",
       "...           ...        ...  \n",
       "2645     security        0.0  \n",
       "2646  development        0.0  \n",
       "2647        human        0.0  \n",
       "2648    democracy        0.0  \n",
       "2649           un        0.0  \n",
       "\n",
       "[2650 rows x 7 columns]"
      ]
     },
     "execution_count": 5,
     "metadata": {},
     "output_type": "execute_result"
    }
   ],
   "source": [
    "# Labelled Data\n",
    "labelled=pd.read_csv('labelled_data.csv')\n",
    "labelled"
   ]
  },
  {
   "cell_type": "code",
   "execution_count": 6,
   "id": "380210dd-17c8-425b-bce2-b29860918b2e",
   "metadata": {
    "execution": {
     "iopub.execute_input": "2023-04-28T21:51:49.488139Z",
     "iopub.status.busy": "2023-04-28T21:51:49.487745Z",
     "iopub.status.idle": "2023-04-28T21:51:49.847174Z",
     "shell.execute_reply": "2023-04-28T21:51:49.846584Z",
     "shell.execute_reply.started": "2023-04-28T21:51:49.488113Z"
    }
   },
   "outputs": [
    {
     "data": {
      "text/html": [
       "<div>\n",
       "<style scoped>\n",
       "    .dataframe tbody tr th:only-of-type {\n",
       "        vertical-align: middle;\n",
       "    }\n",
       "\n",
       "    .dataframe tbody tr th {\n",
       "        vertical-align: top;\n",
       "    }\n",
       "\n",
       "    .dataframe thead th {\n",
       "        text-align: right;\n",
       "    }\n",
       "</style>\n",
       "<table border=\"1\" class=\"dataframe\">\n",
       "  <thead>\n",
       "    <tr style=\"text-align: right;\">\n",
       "      <th></th>\n",
       "      <th>Unnamed: 0</th>\n",
       "      <th>doc_id</th>\n",
       "      <th>text</th>\n",
       "      <th>country</th>\n",
       "      <th>year</th>\n",
       "    </tr>\n",
       "  </thead>\n",
       "  <tbody>\n",
       "    <tr>\n",
       "      <th>0</th>\n",
       "      <td>0</td>\n",
       "      <td>ARG_25_1970.txt.1</td>\n",
       "      <td>177.\\t : It is a fortunate coincidence that pr...</td>\n",
       "      <td>ARG</td>\n",
       "      <td>1970</td>\n",
       "    </tr>\n",
       "    <tr>\n",
       "      <th>1</th>\n",
       "      <td>1</td>\n",
       "      <td>ARG_25_1970.txt.2</td>\n",
       "      <td>On behalf of the Argentine Government, it is a...</td>\n",
       "      <td>ARG</td>\n",
       "      <td>1970</td>\n",
       "    </tr>\n",
       "    <tr>\n",
       "      <th>2</th>\n",
       "      <td>2</td>\n",
       "      <td>ARG_25_1970.txt.3</td>\n",
       "      <td>178.</td>\n",
       "      <td>ARG</td>\n",
       "      <td>1970</td>\n",
       "    </tr>\n",
       "    <tr>\n",
       "      <th>3</th>\n",
       "      <td>3</td>\n",
       "      <td>ARG_25_1970.txt.4</td>\n",
       "      <td>Through you I should also like to express the ...</td>\n",
       "      <td>ARG</td>\n",
       "      <td>1970</td>\n",
       "    </tr>\n",
       "    <tr>\n",
       "      <th>4</th>\n",
       "      <td>4</td>\n",
       "      <td>ARG_25_1970.txt.5</td>\n",
       "      <td>179.</td>\n",
       "      <td>ARG</td>\n",
       "      <td>1970</td>\n",
       "    </tr>\n",
       "    <tr>\n",
       "      <th>...</th>\n",
       "      <td>...</td>\n",
       "      <td>...</td>\n",
       "      <td>...</td>\n",
       "      <td>...</td>\n",
       "      <td>...</td>\n",
       "    </tr>\n",
       "    <tr>\n",
       "      <th>2041695</th>\n",
       "      <td>2041695</td>\n",
       "      <td>ZWE_75_2020.txt.63</td>\n",
       "      <td>Ladies and Gentlemen.</td>\n",
       "      <td>ZWE</td>\n",
       "      <td>2020</td>\n",
       "    </tr>\n",
       "    <tr>\n",
       "      <th>2041696</th>\n",
       "      <td>2041696</td>\n",
       "      <td>ZWE_75_2020.txt.64</td>\n",
       "      <td>Let me conclude by reaffirming Zimbabwe’s comm...</td>\n",
       "      <td>ZWE</td>\n",
       "      <td>2020</td>\n",
       "    </tr>\n",
       "    <tr>\n",
       "      <th>2041697</th>\n",
       "      <td>2041697</td>\n",
       "      <td>ZWE_75_2020.txt.65</td>\n",
       "      <td>There is no better way of achieving a peaceful...</td>\n",
       "      <td>ZWE</td>\n",
       "      <td>2020</td>\n",
       "    </tr>\n",
       "    <tr>\n",
       "      <th>2041698</th>\n",
       "      <td>2041698</td>\n",
       "      <td>ZWE_75_2020.txt.66</td>\n",
       "      <td>Recommitting ourselves to these ideals will pa...</td>\n",
       "      <td>ZWE</td>\n",
       "      <td>2020</td>\n",
       "    </tr>\n",
       "    <tr>\n",
       "      <th>2041699</th>\n",
       "      <td>2041699</td>\n",
       "      <td>ZWE_75_2020.txt.67</td>\n",
       "      <td>I thank you.</td>\n",
       "      <td>ZWE</td>\n",
       "      <td>2020</td>\n",
       "    </tr>\n",
       "  </tbody>\n",
       "</table>\n",
       "<p>2039133 rows × 5 columns</p>\n",
       "</div>"
      ],
      "text/plain": [
       "         Unnamed: 0              doc_id  \\\n",
       "0                 0   ARG_25_1970.txt.1   \n",
       "1                 1   ARG_25_1970.txt.2   \n",
       "2                 2   ARG_25_1970.txt.3   \n",
       "3                 3   ARG_25_1970.txt.4   \n",
       "4                 4   ARG_25_1970.txt.5   \n",
       "...             ...                 ...   \n",
       "2041695     2041695  ZWE_75_2020.txt.63   \n",
       "2041696     2041696  ZWE_75_2020.txt.64   \n",
       "2041697     2041697  ZWE_75_2020.txt.65   \n",
       "2041698     2041698  ZWE_75_2020.txt.66   \n",
       "2041699     2041699  ZWE_75_2020.txt.67   \n",
       "\n",
       "                                                      text country  year  \n",
       "0        177.\\t : It is a fortunate coincidence that pr...     ARG  1970  \n",
       "1        On behalf of the Argentine Government, it is a...     ARG  1970  \n",
       "2                                                     178.     ARG  1970  \n",
       "3        Through you I should also like to express the ...     ARG  1970  \n",
       "4                                                     179.     ARG  1970  \n",
       "...                                                    ...     ...   ...  \n",
       "2041695                              Ladies and Gentlemen.     ZWE  2020  \n",
       "2041696  Let me conclude by reaffirming Zimbabwe’s comm...     ZWE  2020  \n",
       "2041697  There is no better way of achieving a peaceful...     ZWE  2020  \n",
       "2041698  Recommitting ourselves to these ideals will pa...     ZWE  2020  \n",
       "2041699                                       I thank you.     ZWE  2020  \n",
       "\n",
       "[2039133 rows x 5 columns]"
      ]
     },
     "execution_count": 6,
     "metadata": {},
     "output_type": "execute_result"
    }
   ],
   "source": [
    "# Removing labelled senteces from unlabelled dataset\n",
    "\n",
    "mask = unlabelled['country'].isin(labelled['country']) & unlabelled['year'].isin(labelled['year']) & unlabelled['doc_id'].isin(labelled['doc_id'])\n",
    "final_unlabelled = unlabelled[~mask]\n",
    "final_unlabelled"
   ]
  },
  {
   "cell_type": "code",
   "execution_count": 7,
   "id": "9362062d-aa8d-4ba1-9133-1b8d3ce2295f",
   "metadata": {
    "execution": {
     "iopub.execute_input": "2023-04-28T21:51:57.541599Z",
     "iopub.status.busy": "2023-04-28T21:51:57.541207Z",
     "iopub.status.idle": "2023-04-28T21:51:57.737637Z",
     "shell.execute_reply": "2023-04-28T21:51:57.737060Z",
     "shell.execute_reply.started": "2023-04-28T21:51:57.541574Z"
    }
   },
   "outputs": [
    {
     "data": {
      "image/png": "[encoded data removed]",
      "text/plain": [
       "<Figure size 640x480 with 1 Axes>"
      ]
     },
     "metadata": {},
     "output_type": "display_data"
    }
   ],
   "source": [
    "freq = labelled['coding'].value_counts()\n",
    "plt.bar(freq.index, freq.values)\n",
    "plt.ylabel('Frequency')\n",
    "plt.show()"
   ]
  },
  {
   "cell_type": "code",
   "execution_count": 8,
   "id": "aa2c15b1-0a60-4a5f-aa72-136716d224d1",
   "metadata": {
    "execution": {
     "iopub.execute_input": "2023-04-28T21:52:04.806689Z",
     "iopub.status.busy": "2023-04-28T21:52:04.806302Z",
     "iopub.status.idle": "2023-04-28T21:52:04.811176Z",
     "shell.execute_reply": "2023-04-28T21:52:04.810610Z",
     "shell.execute_reply.started": "2023-04-28T21:52:04.806664Z"
    }
   },
   "outputs": [],
   "source": [
    "def load_sentences(data, type='train'):\n",
    "  \n",
    "  '''\n",
    "    Extracts features and labels from dataset\n",
    "\n",
    "  '''\n",
    "  \n",
    "  sentences, labels = [], []\n",
    "  sentences = list(data['text'])\n",
    "\n",
    "  if type == 'train':\n",
    "    labels = list(data['coding'])\n",
    "  sentences = [sentence.split('\\t') for sentence in sentences]\n",
    "\n",
    "  return sentences, labels"
   ]
  },
  {
   "cell_type": "code",
   "execution_count": 9,
   "id": "326971b0-cace-4f9e-82f6-600c3ecde3e7",
   "metadata": {
    "execution": {
     "iopub.execute_input": "2023-04-28T21:52:09.754198Z",
     "iopub.status.busy": "2023-04-28T21:52:09.753804Z",
     "iopub.status.idle": "2023-04-28T21:52:12.349250Z",
     "shell.execute_reply": "2023-04-28T21:52:12.348617Z",
     "shell.execute_reply.started": "2023-04-28T21:52:09.754174Z"
    }
   },
   "outputs": [
    {
     "name": "stdout",
     "output_type": "stream",
     "text": [
      "Training Sentences:  2650\n",
      "Training Labels:  2650\n",
      "Training Example:  ['I congratulate you, Sir, on your election as President of the forty-sixth session of the General Assembly.']\n",
      "Testing Sentences:  2039133\n",
      "Testing Example:  ['The so-called \"European concert\" is good proof of this concept which restricted the active access of the nonEuropean states to international life.']\n"
     ]
    }
   ],
   "source": [
    "# Labelled Data\n",
    "sentences, lables = load_sentences(labelled, 'train')\n",
    "\n",
    "print('Training Sentences: ',len(sentences))\n",
    "print('Training Labels: ',len(lables))\n",
    "print('Training Example: ',sentences[0])\n",
    "\n",
    "# Unlabelled Data\n",
    "test_sentences, _ = load_sentences(final_unlabelled, 'test')\n",
    "\n",
    "print('Testing Sentences: ',len(test_sentences))\n",
    "print('Testing Example: ',test_sentences[16])"
   ]
  },
  {
   "cell_type": "code",
   "execution_count": 10,
   "id": "8e964c4b-3d68-4029-b502-3a88b741055b",
   "metadata": {
    "execution": {
     "iopub.execute_input": "2023-04-28T21:52:22.375064Z",
     "iopub.status.busy": "2023-04-28T21:52:22.374233Z",
     "iopub.status.idle": "2023-04-28T21:52:22.380954Z",
     "shell.execute_reply": "2023-04-28T21:52:22.380384Z",
     "shell.execute_reply.started": "2023-04-28T21:52:22.375034Z"
    }
   },
   "outputs": [],
   "source": [
    "class Preprocessor:\n",
    "  '''\n",
    "    Removes punctuations, numbers, whitespaces\n",
    "    Converts sentences into lower case\n",
    "  '''\n",
    "  def __init__(self, numbers=True, punct=True):\n",
    "    self.numbers = numbers\n",
    "    self.punct = punct\n",
    "\n",
    "  def apply(self, sentence):\n",
    "    sentence = sentence.lower()\n",
    "    if self.numbers:\n",
    "      sentence = Preprocessor.remove_numbers(sentence)\n",
    "    if self.punct: \n",
    "      sentence = Preprocessor.remove_punct(sentence)\n",
    "    sentence = re.sub(r'\\s+', ' ', sentence)\n",
    "    return sentence\n",
    "  \n",
    "  @staticmethod\n",
    "  def remove_punct(sentence):\n",
    "    sentence = re.sub(r'[^\\w\\s]', '', sentence)\n",
    "    return sentence\n",
    "  \n",
    "  @staticmethod\n",
    "  def remove_numbers(sentence):\n",
    "    sentence = re.sub(r'[0-9]', '', sentence)\n",
    "    return sentence"
   ]
  },
  {
   "cell_type": "code",
   "execution_count": 11,
   "id": "4d9a16d0-40fb-4aab-af44-2849598420cf",
   "metadata": {
    "execution": {
     "iopub.execute_input": "2023-04-28T21:52:29.863608Z",
     "iopub.status.busy": "2023-04-28T21:52:29.863206Z",
     "iopub.status.idle": "2023-04-28T21:52:29.868413Z",
     "shell.execute_reply": "2023-04-28T21:52:29.867599Z",
     "shell.execute_reply.started": "2023-04-28T21:52:29.863582Z"
    }
   },
   "outputs": [
    {
     "name": "stdout",
     "output_type": "stream",
     "text": [
      "Before:  I congratulate you, Sir, on your election as President of the forty-sixth session of the General Assembly.\n",
      "After:  i congratulate you sir on your election as president of the fortysixth session of the general assembly\n"
     ]
    }
   ],
   "source": [
    "# Example of preprocessor class\n",
    "print('Before: ', sentences[0][0])\n",
    "processor = Preprocessor()\n",
    "print('After: ', processor.apply(sentences[0][0]))"
   ]
  },
  {
   "cell_type": "code",
   "execution_count": 12,
   "id": "7211f1d5-029f-4d9b-a431-db380f40db23",
   "metadata": {
    "execution": {
     "iopub.execute_input": "2023-04-28T21:52:35.773160Z",
     "iopub.status.busy": "2023-04-28T21:52:35.772667Z",
     "iopub.status.idle": "2023-04-28T21:52:35.778034Z",
     "shell.execute_reply": "2023-04-28T21:52:35.777452Z",
     "shell.execute_reply.started": "2023-04-28T21:52:35.773122Z"
    }
   },
   "outputs": [],
   "source": [
    "def remove_stopwords(data):\n",
    "  '''\n",
    "    Removes Stopwords\n",
    "    Tokenizes Sentences\n",
    "    \n",
    "  '''\n",
    "  sentences = []\n",
    "  split_sent = data.split()\n",
    "  stopwords_set = set(stopwords.words('english'))\n",
    "  sentences = [word for word in split_sent if word.lower() not in stopwords_set]\n",
    "  return sentences"
   ]
  },
  {
   "cell_type": "code",
   "execution_count": 13,
   "id": "ca83d92c-cb1a-4b30-b390-f4a810638d0a",
   "metadata": {
    "execution": {
     "iopub.execute_input": "2023-04-28T21:52:43.309818Z",
     "iopub.status.busy": "2023-04-28T21:52:43.309426Z",
     "iopub.status.idle": "2023-04-28T21:52:43.639974Z",
     "shell.execute_reply": "2023-04-28T21:52:43.639331Z",
     "shell.execute_reply.started": "2023-04-28T21:52:43.309792Z"
    }
   },
   "outputs": [
    {
     "name": "stderr",
     "output_type": "stream",
     "text": [
      "2650it [00:00, 8182.84it/s]\n"
     ]
    }
   ],
   "source": [
    "processor = Preprocessor()\n",
    "\n",
    "# Labelled Data\n",
    "clean_sentences = []\n",
    "for idx, sentence in tqdm(enumerate(sentences)):\n",
    "  clean_sentence = processor.apply(sentence[0])\n",
    "  clean_sentences.append(remove_stopwords(clean_sentence))\n",
    "\n",
    "\n",
    "# Unlabelled data\n",
    "# test_clean_sentences = []\n",
    "# for idx, sentence in tqdm(enumerate(test_sentences)):\n",
    "#   clean_sentence = processor.apply(sentence[0])\n",
    "#   test_clean_sentences.append(remove_stopwords(clean_sentence))"
   ]
  },
  {
   "cell_type": "code",
   "execution_count": 14,
   "id": "aa46b731-9b6e-40ae-88c2-556263598090",
   "metadata": {
    "execution": {
     "iopub.execute_input": "2023-04-28T21:52:50.587579Z",
     "iopub.status.busy": "2023-04-28T21:52:50.587187Z",
     "iopub.status.idle": "2023-04-28T21:52:50.591286Z",
     "shell.execute_reply": "2023-04-28T21:52:50.590662Z",
     "shell.execute_reply.started": "2023-04-28T21:52:50.587551Z"
    }
   },
   "outputs": [
    {
     "name": "stdout",
     "output_type": "stream",
     "text": [
      "Example of a cleaned sentence\n",
      "['congratulate', 'sir', 'election', 'president', 'fortysixth', 'session', 'general', 'assembly']\n"
     ]
    }
   ],
   "source": [
    "print('Example of a cleaned sentence')\n",
    "print(clean_sentences[0])"
   ]
  },
  {
   "cell_type": "code",
   "execution_count": 15,
   "id": "355742b0-4714-464e-a735-dd80dcaae500",
   "metadata": {
    "execution": {
     "iopub.execute_input": "2023-04-28T21:52:58.336862Z",
     "iopub.status.busy": "2023-04-28T21:52:58.336484Z",
     "iopub.status.idle": "2023-04-28T21:52:58.341998Z",
     "shell.execute_reply": "2023-04-28T21:52:58.341435Z",
     "shell.execute_reply.started": "2023-04-28T21:52:58.336835Z"
    }
   },
   "outputs": [],
   "source": [
    "# checking for empty sentences\n",
    "def empty_sentences(data):\n",
    "  \n",
    "  '''\n",
    "    Removes the sentences with less than 2 words\n",
    "  '''\n",
    "  print('Length before', len(data))\n",
    "\n",
    "  sentences = [sublist for sublist in data if not all(elem == \"\" for elem in sublist)]\n",
    "  train_sentences = []\n",
    "  removed_indices = []\n",
    "  removed_sentences = []\n",
    "  train_indices=[]\n",
    "  for idx, sentence in enumerate(sentences):\n",
    "    if len(sentence) <= 2:\n",
    "      removed_indices.append(idx)\n",
    "      removed_sentences.append(sentence)\n",
    "    else:\n",
    "      train_sentences.append(sentence)\n",
    "      train_indices.append(idx)\n",
    "  print('Length after', len(train_sentences))\n",
    "  \n",
    "  return train_indices, train_sentences, removed_indices, removed_sentences"
   ]
  },
  {
   "cell_type": "code",
   "execution_count": 16,
   "id": "333e1da7-3dc3-4d52-afea-af3ceac5b702",
   "metadata": {
    "execution": {
     "iopub.execute_input": "2023-04-28T21:53:13.038103Z",
     "iopub.status.busy": "2023-04-28T21:53:13.037712Z",
     "iopub.status.idle": "2023-04-28T21:53:13.044299Z",
     "shell.execute_reply": "2023-04-28T21:53:13.043677Z",
     "shell.execute_reply.started": "2023-04-28T21:53:13.038079Z"
    }
   },
   "outputs": [
    {
     "name": "stdout",
     "output_type": "stream",
     "text": [
      "Labelled data\n",
      "Length before 2650\n",
      "Length after 2604\n"
     ]
    }
   ],
   "source": [
    "# Labelled Data\n",
    "print(\"Labelled data\")\n",
    "train_indices, train_sentences, train_removed_indices, train_removed_sentences = empty_sentences(clean_sentences)\n",
    "\n",
    "\n",
    "# Unlabelled data\n",
    "# print(\"unlabelled data\")\n",
    "# test_sentences, test_indices, removed_test_sentences = empty_sentences(test_clean_sentences)"
   ]
  },
  {
   "cell_type": "code",
   "execution_count": 17,
   "id": "9017aa77-dc18-43bd-8cf8-d32cb1f68d7c",
   "metadata": {
    "execution": {
     "iopub.execute_input": "2023-04-28T21:53:20.008453Z",
     "iopub.status.busy": "2023-04-28T21:53:20.008069Z",
     "iopub.status.idle": "2023-04-28T21:53:20.013367Z",
     "shell.execute_reply": "2023-04-28T21:53:20.012654Z",
     "shell.execute_reply.started": "2023-04-28T21:53:20.008426Z"
    }
   },
   "outputs": [
    {
     "data": {
      "text/plain": [
       "['congratulate',\n",
       " 'sir',\n",
       " 'election',\n",
       " 'president',\n",
       " 'fortysixth',\n",
       " 'session',\n",
       " 'general',\n",
       " 'assembly']"
      ]
     },
     "execution_count": 17,
     "metadata": {},
     "output_type": "execute_result"
    }
   ],
   "source": [
    "train_sentences[0]"
   ]
  },
  {
   "cell_type": "code",
   "execution_count": 19,
   "id": "48d2198a-8332-4d83-a8aa-601a8bd877bd",
   "metadata": {
    "execution": {
     "iopub.execute_input": "2023-04-28T21:53:45.483148Z",
     "iopub.status.busy": "2023-04-28T21:53:45.482576Z",
     "iopub.status.idle": "2023-04-28T21:53:46.995804Z",
     "shell.execute_reply": "2023-04-28T21:53:46.994984Z",
     "shell.execute_reply.started": "2023-04-28T21:53:45.483119Z"
    }
   },
   "outputs": [
    {
     "name": "stderr",
     "output_type": "stream",
     "text": [
      "2023-04-28 21:53:46.488562: I tensorflow/core/common_runtime/executor.cc:1197] [/device:CPU:0] (DEBUG INFO) Executor start aborting (this does not indicate an error and you can ignore this message): INVALID_ARGUMENT: You must feed a value for placeholder tensor 'seq_length' with dtype int32\n",
      "\t [[{{node seq_length}}]]\n",
      "2023-04-28 21:53:46.489117: I tensorflow/core/common_runtime/executor.cc:1197] [/device:CPU:0] (DEBUG INFO) Executor start aborting (this does not indicate an error and you can ignore this message): INVALID_ARGUMENT: You must feed a value for placeholder tensor 'seq_length' with dtype int32\n",
      "\t [[{{node seq_length}}]]\n",
      "2023-04-28 21:53:46.489261: I tensorflow/core/common_runtime/executor.cc:1197] [/device:CPU:0] (DEBUG INFO) Executor start aborting (this does not indicate an error and you can ignore this message): INVALID_ARGUMENT: You must feed a value for placeholder tensor 'seq_length' with dtype int32\n",
      "\t [[{{node seq_length}}]]\n",
      "2023-04-28 21:53:46.489735: I tensorflow/core/common_runtime/executor.cc:1197] [/device:CPU:0] (DEBUG INFO) Executor start aborting (this does not indicate an error and you can ignore this message): INVALID_ARGUMENT: You must feed a value for placeholder tensor 'seq_length' with dtype int32\n",
      "\t [[{{node seq_length}}]]\n",
      "2023-04-28 21:53:46.489925: I tensorflow/core/common_runtime/executor.cc:1197] [/device:CPU:0] (DEBUG INFO) Executor start aborting (this does not indicate an error and you can ignore this message): INVALID_ARGUMENT: You must feed a value for placeholder tensor 'seq_length' with dtype int32\n",
      "\t [[{{node seq_length}}]]\n",
      "2023-04-28 21:53:46.490022: I tensorflow/core/common_runtime/executor.cc:1197] [/device:CPU:0] (DEBUG INFO) Executor start aborting (this does not indicate an error and you can ignore this message): INVALID_ARGUMENT: You must feed a value for placeholder tensor 'seq_length' with dtype int32\n",
      "\t [[{{node seq_length}}]]\n",
      "2023-04-28 21:53:46.490113: I tensorflow/core/common_runtime/executor.cc:1197] [/device:CPU:0] (DEBUG INFO) Executor start aborting (this does not indicate an error and you can ignore this message): INVALID_ARGUMENT: You must feed a value for placeholder tensor 'seq_length' with dtype int32\n",
      "\t [[{{node seq_length}}]]\n",
      "2023-04-28 21:53:46.564143: I tensorflow/core/common_runtime/executor.cc:1197] [/device:CPU:0] (DEBUG INFO) Executor start aborting (this does not indicate an error and you can ignore this message): INVALID_ARGUMENT: You must feed a value for placeholder tensor 'seq_length' with dtype int32\n",
      "\t [[{{node seq_length}}]]\n",
      "2023-04-28 21:53:46.564837: I tensorflow/core/common_runtime/executor.cc:1197] [/device:CPU:0] (DEBUG INFO) Executor start aborting (this does not indicate an error and you can ignore this message): INVALID_ARGUMENT: You must feed a value for placeholder tensor 'seq_length' with dtype int32\n",
      "\t [[{{node seq_length}}]]\n",
      "2023-04-28 21:53:46.564981: I tensorflow/core/common_runtime/executor.cc:1197] [/device:CPU:0] (DEBUG INFO) Executor start aborting (this does not indicate an error and you can ignore this message): INVALID_ARGUMENT: You must feed a value for placeholder tensor 'seq_length' with dtype int32\n",
      "\t [[{{node seq_length}}]]\n",
      "2023-04-28 21:53:46.565614: I tensorflow/core/common_runtime/executor.cc:1197] [/device:CPU:0] (DEBUG INFO) Executor start aborting (this does not indicate an error and you can ignore this message): INVALID_ARGUMENT: You must feed a value for placeholder tensor 'seq_length' with dtype int32\n",
      "\t [[{{node seq_length}}]]\n",
      "2023-04-28 21:53:46.565807: I tensorflow/core/common_runtime/executor.cc:1197] [/device:CPU:0] (DEBUG INFO) Executor start aborting (this does not indicate an error and you can ignore this message): INVALID_ARGUMENT: You must feed a value for placeholder tensor 'seq_length' with dtype int32\n",
      "\t [[{{node seq_length}}]]\n",
      "2023-04-28 21:53:46.565911: I tensorflow/core/common_runtime/executor.cc:1197] [/device:CPU:0] (DEBUG INFO) Executor start aborting (this does not indicate an error and you can ignore this message): INVALID_ARGUMENT: You must feed a value for placeholder tensor 'seq_length' with dtype int32\n",
      "\t [[{{node seq_length}}]]\n",
      "2023-04-28 21:53:46.566002: I tensorflow/core/common_runtime/executor.cc:1197] [/device:CPU:0] (DEBUG INFO) Executor start aborting (this does not indicate an error and you can ignore this message): INVALID_ARGUMENT: You must feed a value for placeholder tensor 'seq_length' with dtype int32\n",
      "\t [[{{node seq_length}}]]\n",
      "2023-04-28 21:53:46.653564: I tensorflow/core/common_runtime/executor.cc:1197] [/device:CPU:0] (DEBUG INFO) Executor start aborting (this does not indicate an error and you can ignore this message): INVALID_ARGUMENT: You must feed a value for placeholder tensor 'seq_length' with dtype int32\n",
      "\t [[{{node seq_length}}]]\n",
      "2023-04-28 21:53:46.654095: I tensorflow/core/common_runtime/executor.cc:1197] [/device:CPU:0] (DEBUG INFO) Executor start aborting (this does not indicate an error and you can ignore this message): INVALID_ARGUMENT: You must feed a value for placeholder tensor 'seq_length' with dtype int32\n",
      "\t [[{{node seq_length}}]]\n",
      "2023-04-28 21:53:46.654257: I tensorflow/core/common_runtime/executor.cc:1197] [/device:CPU:0] (DEBUG INFO) Executor start aborting (this does not indicate an error and you can ignore this message): INVALID_ARGUMENT: You must feed a value for placeholder tensor 'seq_length' with dtype int32\n",
      "\t [[{{node seq_length}}]]\n",
      "2023-04-28 21:53:46.654737: I tensorflow/core/common_runtime/executor.cc:1197] [/device:CPU:0] (DEBUG INFO) Executor start aborting (this does not indicate an error and you can ignore this message): INVALID_ARGUMENT: You must feed a value for placeholder tensor 'seq_length' with dtype int32\n",
      "\t [[{{node seq_length}}]]\n",
      "2023-04-28 21:53:46.654959: I tensorflow/core/common_runtime/executor.cc:1197] [/device:CPU:0] (DEBUG INFO) Executor start aborting (this does not indicate an error and you can ignore this message): INVALID_ARGUMENT: You must feed a value for placeholder tensor 'seq_length' with dtype int32\n",
      "\t [[{{node seq_length}}]]\n",
      "2023-04-28 21:53:46.655076: I tensorflow/core/common_runtime/executor.cc:1197] [/device:CPU:0] (DEBUG INFO) Executor start aborting (this does not indicate an error and you can ignore this message): INVALID_ARGUMENT: You must feed a value for placeholder tensor 'seq_length' with dtype int32\n",
      "\t [[{{node seq_length}}]]\n",
      "2023-04-28 21:53:46.655177: I tensorflow/core/common_runtime/executor.cc:1197] [/device:CPU:0] (DEBUG INFO) Executor start aborting (this does not indicate an error and you can ignore this message): INVALID_ARGUMENT: You must feed a value for placeholder tensor 'seq_length' with dtype int32\n",
      "\t [[{{node seq_length}}]]\n",
      "2023-04-28 21:53:46.860864: I tensorflow/core/common_runtime/executor.cc:1197] [/device:CPU:0] (DEBUG INFO) Executor start aborting (this does not indicate an error and you can ignore this message): INVALID_ARGUMENT: You must feed a value for placeholder tensor 'seq_length' with dtype int32\n",
      "\t [[{{node seq_length}}]]\n",
      "2023-04-28 21:53:46.861554: I tensorflow/core/common_runtime/executor.cc:1197] [/device:CPU:0] (DEBUG INFO) Executor start aborting (this does not indicate an error and you can ignore this message): INVALID_ARGUMENT: You must feed a value for placeholder tensor 'seq_length' with dtype int32\n",
      "\t [[{{node seq_length}}]]\n",
      "2023-04-28 21:53:46.861702: I tensorflow/core/common_runtime/executor.cc:1197] [/device:CPU:0] (DEBUG INFO) Executor start aborting (this does not indicate an error and you can ignore this message): INVALID_ARGUMENT: You must feed a value for placeholder tensor 'seq_length' with dtype int32\n",
      "\t [[{{node seq_length}}]]\n",
      "2023-04-28 21:53:46.862350: I tensorflow/core/common_runtime/executor.cc:1197] [/device:CPU:0] (DEBUG INFO) Executor start aborting (this does not indicate an error and you can ignore this message): INVALID_ARGUMENT: You must feed a value for placeholder tensor 'seq_length' with dtype int32\n",
      "\t [[{{node seq_length}}]]\n",
      "2023-04-28 21:53:46.862567: I tensorflow/core/common_runtime/executor.cc:1197] [/device:CPU:0] (DEBUG INFO) Executor start aborting (this does not indicate an error and you can ignore this message): INVALID_ARGUMENT: You must feed a value for placeholder tensor 'seq_length' with dtype int32\n",
      "\t [[{{node seq_length}}]]\n",
      "2023-04-28 21:53:46.862674: I tensorflow/core/common_runtime/executor.cc:1197] [/device:CPU:0] (DEBUG INFO) Executor start aborting (this does not indicate an error and you can ignore this message): INVALID_ARGUMENT: You must feed a value for placeholder tensor 'seq_length' with dtype int32\n",
      "\t [[{{node seq_length}}]]\n",
      "2023-04-28 21:53:46.862774: I tensorflow/core/common_runtime/executor.cc:1197] [/device:CPU:0] (DEBUG INFO) Executor start aborting (this does not indicate an error and you can ignore this message): INVALID_ARGUMENT: You must feed a value for placeholder tensor 'seq_length' with dtype int32\n",
      "\t [[{{node seq_length}}]]\n"
     ]
    }
   ],
   "source": [
    "preprocessor = hub.KerasLayer(\n",
    "    \"https://tfhub.dev/tensorflow/bert_en_uncased_preprocess/3\")"
   ]
  },
  {
   "cell_type": "code",
   "execution_count": 20,
   "id": "cccaaaab-8915-49c0-b07f-fd425d9a8448",
   "metadata": {
    "execution": {
     "iopub.execute_input": "2023-04-28T21:53:53.387311Z",
     "iopub.status.busy": "2023-04-28T21:53:53.386910Z",
     "iopub.status.idle": "2023-04-28T21:54:06.468753Z",
     "shell.execute_reply": "2023-04-28T21:54:06.468120Z",
     "shell.execute_reply.started": "2023-04-28T21:53:53.387286Z"
    }
   },
   "outputs": [],
   "source": [
    "model = hub.KerasLayer('https://tfhub.dev/tensorflow/bert_en_uncased_L-12_H-768_A-12/4')"
   ]
  },
  {
   "cell_type": "code",
   "execution_count": 21,
   "id": "748ef2f4-545d-416f-9524-0493c929f8cc",
   "metadata": {
    "execution": {
     "iopub.execute_input": "2023-04-28T21:54:08.518740Z",
     "iopub.status.busy": "2023-04-28T21:54:08.518337Z",
     "iopub.status.idle": "2023-04-28T21:54:08.522263Z",
     "shell.execute_reply": "2023-04-28T21:54:08.521682Z",
     "shell.execute_reply.started": "2023-04-28T21:54:08.518717Z"
    }
   },
   "outputs": [],
   "source": [
    "def get_embeddings(sentences):\n",
    "  preproc_text = preprocessor(sentences)\n",
    "  return model(preproc_text)['pooled_output']\n"
   ]
  },
  {
   "cell_type": "code",
   "execution_count": 22,
   "id": "cffbb4a7-54fe-4f38-a897-4d8b2a65edef",
   "metadata": {
    "execution": {
     "iopub.execute_input": "2023-04-28T21:54:19.463992Z",
     "iopub.status.busy": "2023-04-28T21:54:19.463572Z",
     "iopub.status.idle": "2023-04-28T21:54:19.468827Z",
     "shell.execute_reply": "2023-04-28T21:54:19.468235Z",
     "shell.execute_reply.started": "2023-04-28T21:54:19.463968Z"
    }
   },
   "outputs": [],
   "source": [
    "corpus_train_sent = []\n",
    "for sentence in train_sentences:\n",
    "  corpus_train_sent.append(\" \".join(sentence))"
   ]
  },
  {
   "cell_type": "code",
   "execution_count": 23,
   "id": "7fe9b576-cb30-4dc0-93f7-eb16735c2bde",
   "metadata": {
    "execution": {
     "iopub.execute_input": "2023-04-28T21:54:27.666966Z",
     "iopub.status.busy": "2023-04-28T21:54:27.666562Z",
     "iopub.status.idle": "2023-04-28T21:54:27.671422Z",
     "shell.execute_reply": "2023-04-28T21:54:27.670790Z",
     "shell.execute_reply.started": "2023-04-28T21:54:27.666940Z"
    }
   },
   "outputs": [
    {
     "data": {
      "text/plain": [
       "'congratulate sir election president fortysixth session general assembly'"
      ]
     },
     "execution_count": 23,
     "metadata": {},
     "output_type": "execute_result"
    }
   ],
   "source": [
    "corpus_train_sent[0]"
   ]
  },
  {
   "cell_type": "code",
   "execution_count": 24,
   "id": "0a21c395-a867-4f92-a728-87ff57543282",
   "metadata": {
    "execution": {
     "iopub.execute_input": "2023-04-28T21:54:32.404569Z",
     "iopub.status.busy": "2023-04-28T21:54:32.404176Z",
     "iopub.status.idle": "2023-04-28T21:58:36.355229Z",
     "shell.execute_reply": "2023-04-28T21:58:36.354567Z",
     "shell.execute_reply.started": "2023-04-28T21:54:32.404543Z"
    }
   },
   "outputs": [],
   "source": [
    "encoded_train = get_embeddings(corpus_train_sent)"
   ]
  },
  {
   "cell_type": "code",
   "execution_count": 25,
   "id": "a7810061-8007-4d7f-9ed6-bf3eea61f0d5",
   "metadata": {
    "execution": {
     "iopub.execute_input": "2023-04-28T21:59:38.959468Z",
     "iopub.status.busy": "2023-04-28T21:59:38.959057Z",
     "iopub.status.idle": "2023-04-28T21:59:38.964629Z",
     "shell.execute_reply": "2023-04-28T21:59:38.963917Z",
     "shell.execute_reply.started": "2023-04-28T21:59:38.959441Z"
    }
   },
   "outputs": [
    {
     "data": {
      "text/plain": [
       "TensorShape([2604, 768])"
      ]
     },
     "execution_count": 25,
     "metadata": {},
     "output_type": "execute_result"
    }
   ],
   "source": [
    "encoded_train.shape"
   ]
  },
  {
   "cell_type": "code",
   "execution_count": 26,
   "id": "82e68726-84b2-48fc-b6ee-386fc42eed8d",
   "metadata": {
    "execution": {
     "iopub.execute_input": "2023-04-28T22:06:12.626716Z",
     "iopub.status.busy": "2023-04-28T22:06:12.626313Z",
     "iopub.status.idle": "2023-04-28T22:06:12.643034Z",
     "shell.execute_reply": "2023-04-28T22:06:12.642433Z",
     "shell.execute_reply.started": "2023-04-28T22:06:12.626691Z"
    }
   },
   "outputs": [
    {
     "data": {
      "text/plain": [
       "2604"
      ]
     },
     "execution_count": 26,
     "metadata": {},
     "output_type": "execute_result"
    }
   ],
   "source": [
    "encoded_labels = [labelled['coding'][i] for i in train_indices]\n",
    "len(encoded_labels)"
   ]
  },
  {
   "cell_type": "code",
   "execution_count": 27,
   "id": "d7c96de9-2121-44bc-8f62-0d992a687a36",
   "metadata": {
    "execution": {
     "iopub.execute_input": "2023-04-28T22:06:49.994752Z",
     "iopub.status.busy": "2023-04-28T22:06:49.994354Z",
     "iopub.status.idle": "2023-04-28T22:06:49.999369Z",
     "shell.execute_reply": "2023-04-28T22:06:49.998587Z",
     "shell.execute_reply.started": "2023-04-28T22:06:49.994726Z"
    }
   },
   "outputs": [],
   "source": [
    "from sklearn.preprocessing import LabelEncoder\n",
    "label_encoder = LabelEncoder()\n",
    "encoded_labels = label_encoder.fit_transform(encoded_labels)"
   ]
  },
  {
   "cell_type": "code",
   "execution_count": 31,
   "id": "85e17ef2-f365-4824-8038-9bc31284bdf6",
   "metadata": {
    "execution": {
     "iopub.execute_input": "2023-04-28T22:07:23.057140Z",
     "iopub.status.busy": "2023-04-28T22:07:23.056729Z",
     "iopub.status.idle": "2023-04-28T22:07:23.062143Z",
     "shell.execute_reply": "2023-04-28T22:07:23.061390Z",
     "shell.execute_reply.started": "2023-04-28T22:07:23.057114Z"
    },
    "tags": []
   },
   "outputs": [
    {
     "data": {
      "text/plain": [
       "array([2, 2, 2, 2, 2, 5, 5, 5, 5, 5, 5, 5, 5, 5, 5, 5, 5, 5, 5, 5, 5, 5,\n",
       "       5, 5, 5, 5, 5, 5, 5, 5, 5, 5, 5, 5, 5, 5, 5, 4, 5, 5, 4, 4, 4, 5,\n",
       "       5, 5, 4, 4, 4])"
      ]
     },
     "execution_count": 31,
     "metadata": {},
     "output_type": "execute_result"
    }
   ],
   "source": [
    "encoded_labels[1:50]"
   ]
  },
  {
   "cell_type": "code",
   "execution_count": 32,
   "id": "44e2de80-cad8-4612-bd6d-a8f4a7bfc930",
   "metadata": {
    "execution": {
     "iopub.execute_input": "2023-04-28T22:08:31.517125Z",
     "iopub.status.busy": "2023-04-28T22:08:31.516722Z",
     "iopub.status.idle": "2023-04-28T22:08:31.520095Z",
     "shell.execute_reply": "2023-04-28T22:08:31.519499Z",
     "shell.execute_reply.started": "2023-04-28T22:08:31.517100Z"
    }
   },
   "outputs": [],
   "source": [
    "### Model"
   ]
  },
  {
   "cell_type": "code",
   "execution_count": null,
   "id": "7bd8930c-6814-4c99-841e-191a2ab63732",
   "metadata": {
    "execution": {
     "iopub.execute_input": "2023-04-28T22:17:38.898959Z",
     "iopub.status.busy": "2023-04-28T22:17:38.898560Z"
    },
    "tags": []
   },
   "outputs": [],
   "source": [
    "from sklearn.neural_network import MLPClassifier\n",
    "clf = MLPClassifier(random_state=42, max_iter=300, hidden_layer_sizes=(1024, 512, 128, )).fit(encoded_train, encoded_labels)"
   ]
  },
  {
   "cell_type": "code",
   "execution_count": 39,
   "id": "634fcdfa-0f04-4586-a621-b8e3c7c3fb6d",
   "metadata": {
    "execution": {
     "iopub.execute_input": "2023-04-28T22:12:23.662126Z",
     "iopub.status.busy": "2023-04-28T22:12:23.661730Z",
     "iopub.status.idle": "2023-04-28T22:12:23.690530Z",
     "shell.execute_reply": "2023-04-28T22:12:23.689227Z",
     "shell.execute_reply.started": "2023-04-28T22:12:23.662100Z"
    },
    "tags": []
   },
   "outputs": [],
   "source": [
    "preds = clf.predict(encoded_train)"
   ]
  },
  {
   "cell_type": "code",
   "execution_count": 56,
   "id": "cf675da3-767c-49fa-aa39-c4d46c529f32",
   "metadata": {
    "execution": {
     "iopub.execute_input": "2023-04-28T22:14:31.257320Z",
     "iopub.status.busy": "2023-04-28T22:14:31.256918Z",
     "iopub.status.idle": "2023-04-28T22:14:31.286626Z",
     "shell.execute_reply": "2023-04-28T22:14:31.285732Z",
     "shell.execute_reply.started": "2023-04-28T22:14:31.257294Z"
    },
    "tags": []
   },
   "outputs": [
    {
     "data": {
      "text/plain": [
       "0.6351766513056836"
      ]
     },
     "execution_count": 56,
     "metadata": {},
     "output_type": "execute_result"
    }
   ],
   "source": [
    "clf.score(encoded_train, encoded_labels)"
   ]
  },
  {
   "cell_type": "code",
   "execution_count": null,
   "id": "aaee8678-8d4a-488b-ba48-4161c2a2c5a1",
   "metadata": {},
   "outputs": [],
   "source": []
  }
 ],
 "metadata": {
  "kernelspec": {
   "display_name": "saturn (Python 3)",
   "language": "python",
   "name": "python3"
  },
  "language_info": {
   "codemirror_mode": {
    "name": "ipython",
    "version": 3
   },
   "file_extension": ".py",
   "mimetype": "text/x-python",
   "name": "python",
   "nbconvert_exporter": "python",
   "pygments_lexer": "ipython3",
   "version": "3.9.15"
  }
 },
 "nbformat": 4,
 "nbformat_minor": 5
}
