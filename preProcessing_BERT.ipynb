{
  "cells": [
    {
      "cell_type": "markdown",
      "source": [
        "## Importing Required Libraries"
      ],
      "metadata": {
        "id": "4DQN8ELXHMTU"
      }
    },
    {
      "cell_type": "code",
      "execution_count": 3,
      "metadata": {
        "colab": {
          "base_uri": "https://localhost:8080/"
        },
        "id": "I1C4qhmuBBdO",
        "outputId": "eedd7c71-ed51-4093-8bc2-819e6b2b578f"
      },
      "outputs": [
        {
          "output_type": "stream",
          "name": "stdout",
          "text": [
            "Drive already mounted at /content/drive; to attempt to forcibly remount, call drive.mount(\"/content/drive\", force_remount=True).\n"
          ]
        },
        {
          "output_type": "stream",
          "name": "stderr",
          "text": [
            "[nltk_data] Downloading package stopwords to /root/nltk_data...\n",
            "[nltk_data]   Package stopwords is already up-to-date!\n"
          ]
        }
      ],
      "source": [
        "import pandas as pd\n",
        "from google.colab import drive\n",
        "drive.mount('/content/drive')\n",
        "import nltk\n",
        "from nltk.corpus import stopwords\n",
        "nltk.download('stopwords')\n",
        "import re\n",
        "from tqdm import tqdm\n",
        "import matplotlib.pyplot as plt"
      ]
    },
    {
      "cell_type": "markdown",
      "source": [
        "### Analysis of Labelled and Unlabelled Data"
      ],
      "metadata": {
        "id": "5vy-kiWvHnQs"
      }
    },
    {
      "cell_type": "code",
      "execution_count": 4,
      "metadata": {
        "id": "Ww15qH5NBBdT"
      },
      "outputs": [],
      "source": [
        "# Unlabelled Data\n",
        "unlabelled=pd.read_csv('/content/drive/MyDrive/datasets/unlabelled_data.csv')"
      ]
    },
    {
      "cell_type": "code",
      "execution_count": 5,
      "metadata": {
        "colab": {
          "base_uri": "https://localhost:8080/",
          "height": 423
        },
        "id": "EMigby-nBjPJ",
        "outputId": "14a5e0cb-e8e3-445b-807a-6469c32872aa"
      },
      "outputs": [
        {
          "output_type": "execute_result",
          "data": {
            "text/plain": [
              "         Unnamed: 0              doc_id  \\\n",
              "0                 0   ARG_25_1970.txt.1   \n",
              "1                 1   ARG_25_1970.txt.2   \n",
              "2                 2   ARG_25_1970.txt.3   \n",
              "3                 3   ARG_25_1970.txt.4   \n",
              "4                 4   ARG_25_1970.txt.5   \n",
              "...             ...                 ...   \n",
              "2041695     2041695  ZWE_75_2020.txt.63   \n",
              "2041696     2041696  ZWE_75_2020.txt.64   \n",
              "2041697     2041697  ZWE_75_2020.txt.65   \n",
              "2041698     2041698  ZWE_75_2020.txt.66   \n",
              "2041699     2041699  ZWE_75_2020.txt.67   \n",
              "\n",
              "                                                      text country  year  \n",
              "0        177.\\t : It is a fortunate coincidence that pr...     ARG  1970  \n",
              "1        On behalf of the Argentine Government, it is a...     ARG  1970  \n",
              "2                                                     178.     ARG  1970  \n",
              "3        Through you I should also like to express the ...     ARG  1970  \n",
              "4                                                     179.     ARG  1970  \n",
              "...                                                    ...     ...   ...  \n",
              "2041695                              Ladies and Gentlemen.     ZWE  2020  \n",
              "2041696  Let me conclude by reaffirming Zimbabwe’s comm...     ZWE  2020  \n",
              "2041697  There is no better way of achieving a peaceful...     ZWE  2020  \n",
              "2041698  Recommitting ourselves to these ideals will pa...     ZWE  2020  \n",
              "2041699                                       I thank you.     ZWE  2020  \n",
              "\n",
              "[2041700 rows x 5 columns]"
            ],
            "text/html": [
              "\n",
              "  <div id=\"df-3c1779e2-717b-44c7-8b6a-4c827e208247\">\n",
              "    <div class=\"colab-df-container\">\n",
              "      <div>\n",
              "<style scoped>\n",
              "    .dataframe tbody tr th:only-of-type {\n",
              "        vertical-align: middle;\n",
              "    }\n",
              "\n",
              "    .dataframe tbody tr th {\n",
              "        vertical-align: top;\n",
              "    }\n",
              "\n",
              "    .dataframe thead th {\n",
              "        text-align: right;\n",
              "    }\n",
              "</style>\n",
              "<table border=\"1\" class=\"dataframe\">\n",
              "  <thead>\n",
              "    <tr style=\"text-align: right;\">\n",
              "      <th></th>\n",
              "      <th>Unnamed: 0</th>\n",
              "      <th>doc_id</th>\n",
              "      <th>text</th>\n",
              "      <th>country</th>\n",
              "      <th>year</th>\n",
              "    </tr>\n",
              "  </thead>\n",
              "  <tbody>\n",
              "    <tr>\n",
              "      <th>0</th>\n",
              "      <td>0</td>\n",
              "      <td>ARG_25_1970.txt.1</td>\n",
              "      <td>177.\\t : It is a fortunate coincidence that pr...</td>\n",
              "      <td>ARG</td>\n",
              "      <td>1970</td>\n",
              "    </tr>\n",
              "    <tr>\n",
              "      <th>1</th>\n",
              "      <td>1</td>\n",
              "      <td>ARG_25_1970.txt.2</td>\n",
              "      <td>On behalf of the Argentine Government, it is a...</td>\n",
              "      <td>ARG</td>\n",
              "      <td>1970</td>\n",
              "    </tr>\n",
              "    <tr>\n",
              "      <th>2</th>\n",
              "      <td>2</td>\n",
              "      <td>ARG_25_1970.txt.3</td>\n",
              "      <td>178.</td>\n",
              "      <td>ARG</td>\n",
              "      <td>1970</td>\n",
              "    </tr>\n",
              "    <tr>\n",
              "      <th>3</th>\n",
              "      <td>3</td>\n",
              "      <td>ARG_25_1970.txt.4</td>\n",
              "      <td>Through you I should also like to express the ...</td>\n",
              "      <td>ARG</td>\n",
              "      <td>1970</td>\n",
              "    </tr>\n",
              "    <tr>\n",
              "      <th>4</th>\n",
              "      <td>4</td>\n",
              "      <td>ARG_25_1970.txt.5</td>\n",
              "      <td>179.</td>\n",
              "      <td>ARG</td>\n",
              "      <td>1970</td>\n",
              "    </tr>\n",
              "    <tr>\n",
              "      <th>...</th>\n",
              "      <td>...</td>\n",
              "      <td>...</td>\n",
              "      <td>...</td>\n",
              "      <td>...</td>\n",
              "      <td>...</td>\n",
              "    </tr>\n",
              "    <tr>\n",
              "      <th>2041695</th>\n",
              "      <td>2041695</td>\n",
              "      <td>ZWE_75_2020.txt.63</td>\n",
              "      <td>Ladies and Gentlemen.</td>\n",
              "      <td>ZWE</td>\n",
              "      <td>2020</td>\n",
              "    </tr>\n",
              "    <tr>\n",
              "      <th>2041696</th>\n",
              "      <td>2041696</td>\n",
              "      <td>ZWE_75_2020.txt.64</td>\n",
              "      <td>Let me conclude by reaffirming Zimbabwe’s comm...</td>\n",
              "      <td>ZWE</td>\n",
              "      <td>2020</td>\n",
              "    </tr>\n",
              "    <tr>\n",
              "      <th>2041697</th>\n",
              "      <td>2041697</td>\n",
              "      <td>ZWE_75_2020.txt.65</td>\n",
              "      <td>There is no better way of achieving a peaceful...</td>\n",
              "      <td>ZWE</td>\n",
              "      <td>2020</td>\n",
              "    </tr>\n",
              "    <tr>\n",
              "      <th>2041698</th>\n",
              "      <td>2041698</td>\n",
              "      <td>ZWE_75_2020.txt.66</td>\n",
              "      <td>Recommitting ourselves to these ideals will pa...</td>\n",
              "      <td>ZWE</td>\n",
              "      <td>2020</td>\n",
              "    </tr>\n",
              "    <tr>\n",
              "      <th>2041699</th>\n",
              "      <td>2041699</td>\n",
              "      <td>ZWE_75_2020.txt.67</td>\n",
              "      <td>I thank you.</td>\n",
              "      <td>ZWE</td>\n",
              "      <td>2020</td>\n",
              "    </tr>\n",
              "  </tbody>\n",
              "</table>\n",
              "<p>2041700 rows × 5 columns</p>\n",
              "</div>\n",
              "      <button class=\"colab-df-convert\" onclick=\"convertToInteractive('df-3c1779e2-717b-44c7-8b6a-4c827e208247')\"\n",
              "              title=\"Convert this dataframe to an interactive table.\"\n",
              "              style=\"display:none;\">\n",
              "        \n",
              "  <svg xmlns=\"http://www.w3.org/2000/svg\" height=\"24px\"viewBox=\"0 0 24 24\"\n",
              "       width=\"24px\">\n",
              "    <path d=\"M0 0h24v24H0V0z\" fill=\"none\"/>\n",
              "    <path d=\"M18.56 5.44l.94 2.06.94-2.06 2.06-.94-2.06-.94-.94-2.06-.94 2.06-2.06.94zm-11 1L8.5 8.5l.94-2.06 2.06-.94-2.06-.94L8.5 2.5l-.94 2.06-2.06.94zm10 10l.94 2.06.94-2.06 2.06-.94-2.06-.94-.94-2.06-.94 2.06-2.06.94z\"/><path d=\"M17.41 7.96l-1.37-1.37c-.4-.4-.92-.59-1.43-.59-.52 0-1.04.2-1.43.59L10.3 9.45l-7.72 7.72c-.78.78-.78 2.05 0 2.83L4 21.41c.39.39.9.59 1.41.59.51 0 1.02-.2 1.41-.59l7.78-7.78 2.81-2.81c.8-.78.8-2.07 0-2.86zM5.41 20L4 18.59l7.72-7.72 1.47 1.35L5.41 20z\"/>\n",
              "  </svg>\n",
              "      </button>\n",
              "      \n",
              "  <style>\n",
              "    .colab-df-container {\n",
              "      display:flex;\n",
              "      flex-wrap:wrap;\n",
              "      gap: 12px;\n",
              "    }\n",
              "\n",
              "    .colab-df-convert {\n",
              "      background-color: #E8F0FE;\n",
              "      border: none;\n",
              "      border-radius: 50%;\n",
              "      cursor: pointer;\n",
              "      display: none;\n",
              "      fill: #1967D2;\n",
              "      height: 32px;\n",
              "      padding: 0 0 0 0;\n",
              "      width: 32px;\n",
              "    }\n",
              "\n",
              "    .colab-df-convert:hover {\n",
              "      background-color: #E2EBFA;\n",
              "      box-shadow: 0px 1px 2px rgba(60, 64, 67, 0.3), 0px 1px 3px 1px rgba(60, 64, 67, 0.15);\n",
              "      fill: #174EA6;\n",
              "    }\n",
              "\n",
              "    [theme=dark] .colab-df-convert {\n",
              "      background-color: #3B4455;\n",
              "      fill: #D2E3FC;\n",
              "    }\n",
              "\n",
              "    [theme=dark] .colab-df-convert:hover {\n",
              "      background-color: #434B5C;\n",
              "      box-shadow: 0px 1px 3px 1px rgba(0, 0, 0, 0.15);\n",
              "      filter: drop-shadow(0px 1px 2px rgba(0, 0, 0, 0.3));\n",
              "      fill: #FFFFFF;\n",
              "    }\n",
              "  </style>\n",
              "\n",
              "      <script>\n",
              "        const buttonEl =\n",
              "          document.querySelector('#df-3c1779e2-717b-44c7-8b6a-4c827e208247 button.colab-df-convert');\n",
              "        buttonEl.style.display =\n",
              "          google.colab.kernel.accessAllowed ? 'block' : 'none';\n",
              "\n",
              "        async function convertToInteractive(key) {\n",
              "          const element = document.querySelector('#df-3c1779e2-717b-44c7-8b6a-4c827e208247');\n",
              "          const dataTable =\n",
              "            await google.colab.kernel.invokeFunction('convertToInteractive',\n",
              "                                                     [key], {});\n",
              "          if (!dataTable) return;\n",
              "\n",
              "          const docLinkHtml = 'Like what you see? Visit the ' +\n",
              "            '<a target=\"_blank\" href=https://colab.research.google.com/notebooks/data_table.ipynb>data table notebook</a>'\n",
              "            + ' to learn more about interactive tables.';\n",
              "          element.innerHTML = '';\n",
              "          dataTable['output_type'] = 'display_data';\n",
              "          await google.colab.output.renderOutput(dataTable, element);\n",
              "          const docLink = document.createElement('div');\n",
              "          docLink.innerHTML = docLinkHtml;\n",
              "          element.appendChild(docLink);\n",
              "        }\n",
              "      </script>\n",
              "    </div>\n",
              "  </div>\n",
              "  "
            ]
          },
          "metadata": {},
          "execution_count": 5
        }
      ],
      "source": [
        "unlabelled"
      ]
    },
    {
      "cell_type": "code",
      "execution_count": 6,
      "metadata": {
        "id": "INNVdigsBBdU",
        "colab": {
          "base_uri": "https://localhost:8080/",
          "height": 423
        },
        "outputId": "656ddfdf-8398-4bdd-e1ec-1b66eb339337"
      },
      "outputs": [
        {
          "output_type": "execute_result",
          "data": {
            "text/plain": [
              "              Unnamed: 0              doc_id  \\\n",
              "0      AUS_46_1991.txt.1   AUS_46_1991.txt.1   \n",
              "1      AUS_46_1991.txt.2   AUS_46_1991.txt.2   \n",
              "2      AUS_46_1991.txt.3   AUS_46_1991.txt.3   \n",
              "3      AUS_46_1991.txt.4   AUS_46_1991.txt.4   \n",
              "4      AUS_46_1991.txt.5   AUS_46_1991.txt.5   \n",
              "...                  ...                 ...   \n",
              "2645  EST_72_2017.txt.92  EST_72_2017.txt.92   \n",
              "2646  EST_72_2017.txt.93  EST_72_2017.txt.93   \n",
              "2647  EST_72_2017.txt.94  EST_72_2017.txt.94   \n",
              "2648  EST_72_2017.txt.95  EST_72_2017.txt.95   \n",
              "2649  EST_72_2017.txt.96  EST_72_2017.txt.96   \n",
              "\n",
              "                                                   text country  year  \\\n",
              "0     I congratulate you, Sir, on your election as P...     AUS  1991   \n",
              "1     I am sure we will all benefit from your long e...     AUS  1991   \n",
              "2     Australia enjoys strong bonds of friendship wi...     AUS  1991   \n",
              "3     Australia warmly welcomes to membership of thi...     AUS  1991   \n",
              "4     Equally, as a country of the Asia-Pacific regi...     AUS  1991   \n",
              "...                                                 ...     ...   ...   \n",
              "2645  As a small country, we care for all those who ...     EST  2017   \n",
              "2646  As a digital society, we are a story of hope a...     EST  2017   \n",
              "2647  Again, as a digital State, we consider transpa...     EST  2017   \n",
              "2648  We are adamant supporters of rules-based decis...     EST  2017   \n",
              "2649  We are with those who want to make the United ...     EST  2017   \n",
              "\n",
              "           coding  difficult  \n",
              "0        greeting        0.0  \n",
              "1        greeting        0.0  \n",
              "2        greeting        0.0  \n",
              "3        greeting        0.0  \n",
              "4        greeting        0.0  \n",
              "...           ...        ...  \n",
              "2645     security        0.0  \n",
              "2646  development        0.0  \n",
              "2647        human        0.0  \n",
              "2648    democracy        0.0  \n",
              "2649           un        0.0  \n",
              "\n",
              "[2650 rows x 7 columns]"
            ],
            "text/html": [
              "\n",
              "  <div id=\"df-b904aff8-6931-4222-90ba-bdcade1a9ae6\">\n",
              "    <div class=\"colab-df-container\">\n",
              "      <div>\n",
              "<style scoped>\n",
              "    .dataframe tbody tr th:only-of-type {\n",
              "        vertical-align: middle;\n",
              "    }\n",
              "\n",
              "    .dataframe tbody tr th {\n",
              "        vertical-align: top;\n",
              "    }\n",
              "\n",
              "    .dataframe thead th {\n",
              "        text-align: right;\n",
              "    }\n",
              "</style>\n",
              "<table border=\"1\" class=\"dataframe\">\n",
              "  <thead>\n",
              "    <tr style=\"text-align: right;\">\n",
              "      <th></th>\n",
              "      <th>Unnamed: 0</th>\n",
              "      <th>doc_id</th>\n",
              "      <th>text</th>\n",
              "      <th>country</th>\n",
              "      <th>year</th>\n",
              "      <th>coding</th>\n",
              "      <th>difficult</th>\n",
              "    </tr>\n",
              "  </thead>\n",
              "  <tbody>\n",
              "    <tr>\n",
              "      <th>0</th>\n",
              "      <td>AUS_46_1991.txt.1</td>\n",
              "      <td>AUS_46_1991.txt.1</td>\n",
              "      <td>I congratulate you, Sir, on your election as P...</td>\n",
              "      <td>AUS</td>\n",
              "      <td>1991</td>\n",
              "      <td>greeting</td>\n",
              "      <td>0.0</td>\n",
              "    </tr>\n",
              "    <tr>\n",
              "      <th>1</th>\n",
              "      <td>AUS_46_1991.txt.2</td>\n",
              "      <td>AUS_46_1991.txt.2</td>\n",
              "      <td>I am sure we will all benefit from your long e...</td>\n",
              "      <td>AUS</td>\n",
              "      <td>1991</td>\n",
              "      <td>greeting</td>\n",
              "      <td>0.0</td>\n",
              "    </tr>\n",
              "    <tr>\n",
              "      <th>2</th>\n",
              "      <td>AUS_46_1991.txt.3</td>\n",
              "      <td>AUS_46_1991.txt.3</td>\n",
              "      <td>Australia enjoys strong bonds of friendship wi...</td>\n",
              "      <td>AUS</td>\n",
              "      <td>1991</td>\n",
              "      <td>greeting</td>\n",
              "      <td>0.0</td>\n",
              "    </tr>\n",
              "    <tr>\n",
              "      <th>3</th>\n",
              "      <td>AUS_46_1991.txt.4</td>\n",
              "      <td>AUS_46_1991.txt.4</td>\n",
              "      <td>Australia warmly welcomes to membership of thi...</td>\n",
              "      <td>AUS</td>\n",
              "      <td>1991</td>\n",
              "      <td>greeting</td>\n",
              "      <td>0.0</td>\n",
              "    </tr>\n",
              "    <tr>\n",
              "      <th>4</th>\n",
              "      <td>AUS_46_1991.txt.5</td>\n",
              "      <td>AUS_46_1991.txt.5</td>\n",
              "      <td>Equally, as a country of the Asia-Pacific regi...</td>\n",
              "      <td>AUS</td>\n",
              "      <td>1991</td>\n",
              "      <td>greeting</td>\n",
              "      <td>0.0</td>\n",
              "    </tr>\n",
              "    <tr>\n",
              "      <th>...</th>\n",
              "      <td>...</td>\n",
              "      <td>...</td>\n",
              "      <td>...</td>\n",
              "      <td>...</td>\n",
              "      <td>...</td>\n",
              "      <td>...</td>\n",
              "      <td>...</td>\n",
              "    </tr>\n",
              "    <tr>\n",
              "      <th>2645</th>\n",
              "      <td>EST_72_2017.txt.92</td>\n",
              "      <td>EST_72_2017.txt.92</td>\n",
              "      <td>As a small country, we care for all those who ...</td>\n",
              "      <td>EST</td>\n",
              "      <td>2017</td>\n",
              "      <td>security</td>\n",
              "      <td>0.0</td>\n",
              "    </tr>\n",
              "    <tr>\n",
              "      <th>2646</th>\n",
              "      <td>EST_72_2017.txt.93</td>\n",
              "      <td>EST_72_2017.txt.93</td>\n",
              "      <td>As a digital society, we are a story of hope a...</td>\n",
              "      <td>EST</td>\n",
              "      <td>2017</td>\n",
              "      <td>development</td>\n",
              "      <td>0.0</td>\n",
              "    </tr>\n",
              "    <tr>\n",
              "      <th>2647</th>\n",
              "      <td>EST_72_2017.txt.94</td>\n",
              "      <td>EST_72_2017.txt.94</td>\n",
              "      <td>Again, as a digital State, we consider transpa...</td>\n",
              "      <td>EST</td>\n",
              "      <td>2017</td>\n",
              "      <td>human</td>\n",
              "      <td>0.0</td>\n",
              "    </tr>\n",
              "    <tr>\n",
              "      <th>2648</th>\n",
              "      <td>EST_72_2017.txt.95</td>\n",
              "      <td>EST_72_2017.txt.95</td>\n",
              "      <td>We are adamant supporters of rules-based decis...</td>\n",
              "      <td>EST</td>\n",
              "      <td>2017</td>\n",
              "      <td>democracy</td>\n",
              "      <td>0.0</td>\n",
              "    </tr>\n",
              "    <tr>\n",
              "      <th>2649</th>\n",
              "      <td>EST_72_2017.txt.96</td>\n",
              "      <td>EST_72_2017.txt.96</td>\n",
              "      <td>We are with those who want to make the United ...</td>\n",
              "      <td>EST</td>\n",
              "      <td>2017</td>\n",
              "      <td>un</td>\n",
              "      <td>0.0</td>\n",
              "    </tr>\n",
              "  </tbody>\n",
              "</table>\n",
              "<p>2650 rows × 7 columns</p>\n",
              "</div>\n",
              "      <button class=\"colab-df-convert\" onclick=\"convertToInteractive('df-b904aff8-6931-4222-90ba-bdcade1a9ae6')\"\n",
              "              title=\"Convert this dataframe to an interactive table.\"\n",
              "              style=\"display:none;\">\n",
              "        \n",
              "  <svg xmlns=\"http://www.w3.org/2000/svg\" height=\"24px\"viewBox=\"0 0 24 24\"\n",
              "       width=\"24px\">\n",
              "    <path d=\"M0 0h24v24H0V0z\" fill=\"none\"/>\n",
              "    <path d=\"M18.56 5.44l.94 2.06.94-2.06 2.06-.94-2.06-.94-.94-2.06-.94 2.06-2.06.94zm-11 1L8.5 8.5l.94-2.06 2.06-.94-2.06-.94L8.5 2.5l-.94 2.06-2.06.94zm10 10l.94 2.06.94-2.06 2.06-.94-2.06-.94-.94-2.06-.94 2.06-2.06.94z\"/><path d=\"M17.41 7.96l-1.37-1.37c-.4-.4-.92-.59-1.43-.59-.52 0-1.04.2-1.43.59L10.3 9.45l-7.72 7.72c-.78.78-.78 2.05 0 2.83L4 21.41c.39.39.9.59 1.41.59.51 0 1.02-.2 1.41-.59l7.78-7.78 2.81-2.81c.8-.78.8-2.07 0-2.86zM5.41 20L4 18.59l7.72-7.72 1.47 1.35L5.41 20z\"/>\n",
              "  </svg>\n",
              "      </button>\n",
              "      \n",
              "  <style>\n",
              "    .colab-df-container {\n",
              "      display:flex;\n",
              "      flex-wrap:wrap;\n",
              "      gap: 12px;\n",
              "    }\n",
              "\n",
              "    .colab-df-convert {\n",
              "      background-color: #E8F0FE;\n",
              "      border: none;\n",
              "      border-radius: 50%;\n",
              "      cursor: pointer;\n",
              "      display: none;\n",
              "      fill: #1967D2;\n",
              "      height: 32px;\n",
              "      padding: 0 0 0 0;\n",
              "      width: 32px;\n",
              "    }\n",
              "\n",
              "    .colab-df-convert:hover {\n",
              "      background-color: #E2EBFA;\n",
              "      box-shadow: 0px 1px 2px rgba(60, 64, 67, 0.3), 0px 1px 3px 1px rgba(60, 64, 67, 0.15);\n",
              "      fill: #174EA6;\n",
              "    }\n",
              "\n",
              "    [theme=dark] .colab-df-convert {\n",
              "      background-color: #3B4455;\n",
              "      fill: #D2E3FC;\n",
              "    }\n",
              "\n",
              "    [theme=dark] .colab-df-convert:hover {\n",
              "      background-color: #434B5C;\n",
              "      box-shadow: 0px 1px 3px 1px rgba(0, 0, 0, 0.15);\n",
              "      filter: drop-shadow(0px 1px 2px rgba(0, 0, 0, 0.3));\n",
              "      fill: #FFFFFF;\n",
              "    }\n",
              "  </style>\n",
              "\n",
              "      <script>\n",
              "        const buttonEl =\n",
              "          document.querySelector('#df-b904aff8-6931-4222-90ba-bdcade1a9ae6 button.colab-df-convert');\n",
              "        buttonEl.style.display =\n",
              "          google.colab.kernel.accessAllowed ? 'block' : 'none';\n",
              "\n",
              "        async function convertToInteractive(key) {\n",
              "          const element = document.querySelector('#df-b904aff8-6931-4222-90ba-bdcade1a9ae6');\n",
              "          const dataTable =\n",
              "            await google.colab.kernel.invokeFunction('convertToInteractive',\n",
              "                                                     [key], {});\n",
              "          if (!dataTable) return;\n",
              "\n",
              "          const docLinkHtml = 'Like what you see? Visit the ' +\n",
              "            '<a target=\"_blank\" href=https://colab.research.google.com/notebooks/data_table.ipynb>data table notebook</a>'\n",
              "            + ' to learn more about interactive tables.';\n",
              "          element.innerHTML = '';\n",
              "          dataTable['output_type'] = 'display_data';\n",
              "          await google.colab.output.renderOutput(dataTable, element);\n",
              "          const docLink = document.createElement('div');\n",
              "          docLink.innerHTML = docLinkHtml;\n",
              "          element.appendChild(docLink);\n",
              "        }\n",
              "      </script>\n",
              "    </div>\n",
              "  </div>\n",
              "  "
            ]
          },
          "metadata": {},
          "execution_count": 6
        }
      ],
      "source": [
        "# Labelled Data\n",
        "labelled=pd.read_csv('/content/labelled_data.csv')\n",
        "labelled"
      ]
    },
    {
      "cell_type": "code",
      "execution_count": 7,
      "metadata": {
        "id": "P3vT4Y9yTbxv",
        "colab": {
          "base_uri": "https://localhost:8080/",
          "height": 423
        },
        "outputId": "7800c16b-741f-4508-ce40-682fee64bf82"
      },
      "outputs": [
        {
          "output_type": "execute_result",
          "data": {
            "text/plain": [
              "         Unnamed: 0              doc_id  \\\n",
              "0                 0   ARG_25_1970.txt.1   \n",
              "1                 1   ARG_25_1970.txt.2   \n",
              "2                 2   ARG_25_1970.txt.3   \n",
              "3                 3   ARG_25_1970.txt.4   \n",
              "4                 4   ARG_25_1970.txt.5   \n",
              "...             ...                 ...   \n",
              "2041695     2041695  ZWE_75_2020.txt.63   \n",
              "2041696     2041696  ZWE_75_2020.txt.64   \n",
              "2041697     2041697  ZWE_75_2020.txt.65   \n",
              "2041698     2041698  ZWE_75_2020.txt.66   \n",
              "2041699     2041699  ZWE_75_2020.txt.67   \n",
              "\n",
              "                                                      text country  year  \n",
              "0        177.\\t : It is a fortunate coincidence that pr...     ARG  1970  \n",
              "1        On behalf of the Argentine Government, it is a...     ARG  1970  \n",
              "2                                                     178.     ARG  1970  \n",
              "3        Through you I should also like to express the ...     ARG  1970  \n",
              "4                                                     179.     ARG  1970  \n",
              "...                                                    ...     ...   ...  \n",
              "2041695                              Ladies and Gentlemen.     ZWE  2020  \n",
              "2041696  Let me conclude by reaffirming Zimbabwe’s comm...     ZWE  2020  \n",
              "2041697  There is no better way of achieving a peaceful...     ZWE  2020  \n",
              "2041698  Recommitting ourselves to these ideals will pa...     ZWE  2020  \n",
              "2041699                                       I thank you.     ZWE  2020  \n",
              "\n",
              "[2039133 rows x 5 columns]"
            ],
            "text/html": [
              "\n",
              "  <div id=\"df-6918ad33-6236-441c-81e7-1117dbcaf9fa\">\n",
              "    <div class=\"colab-df-container\">\n",
              "      <div>\n",
              "<style scoped>\n",
              "    .dataframe tbody tr th:only-of-type {\n",
              "        vertical-align: middle;\n",
              "    }\n",
              "\n",
              "    .dataframe tbody tr th {\n",
              "        vertical-align: top;\n",
              "    }\n",
              "\n",
              "    .dataframe thead th {\n",
              "        text-align: right;\n",
              "    }\n",
              "</style>\n",
              "<table border=\"1\" class=\"dataframe\">\n",
              "  <thead>\n",
              "    <tr style=\"text-align: right;\">\n",
              "      <th></th>\n",
              "      <th>Unnamed: 0</th>\n",
              "      <th>doc_id</th>\n",
              "      <th>text</th>\n",
              "      <th>country</th>\n",
              "      <th>year</th>\n",
              "    </tr>\n",
              "  </thead>\n",
              "  <tbody>\n",
              "    <tr>\n",
              "      <th>0</th>\n",
              "      <td>0</td>\n",
              "      <td>ARG_25_1970.txt.1</td>\n",
              "      <td>177.\\t : It is a fortunate coincidence that pr...</td>\n",
              "      <td>ARG</td>\n",
              "      <td>1970</td>\n",
              "    </tr>\n",
              "    <tr>\n",
              "      <th>1</th>\n",
              "      <td>1</td>\n",
              "      <td>ARG_25_1970.txt.2</td>\n",
              "      <td>On behalf of the Argentine Government, it is a...</td>\n",
              "      <td>ARG</td>\n",
              "      <td>1970</td>\n",
              "    </tr>\n",
              "    <tr>\n",
              "      <th>2</th>\n",
              "      <td>2</td>\n",
              "      <td>ARG_25_1970.txt.3</td>\n",
              "      <td>178.</td>\n",
              "      <td>ARG</td>\n",
              "      <td>1970</td>\n",
              "    </tr>\n",
              "    <tr>\n",
              "      <th>3</th>\n",
              "      <td>3</td>\n",
              "      <td>ARG_25_1970.txt.4</td>\n",
              "      <td>Through you I should also like to express the ...</td>\n",
              "      <td>ARG</td>\n",
              "      <td>1970</td>\n",
              "    </tr>\n",
              "    <tr>\n",
              "      <th>4</th>\n",
              "      <td>4</td>\n",
              "      <td>ARG_25_1970.txt.5</td>\n",
              "      <td>179.</td>\n",
              "      <td>ARG</td>\n",
              "      <td>1970</td>\n",
              "    </tr>\n",
              "    <tr>\n",
              "      <th>...</th>\n",
              "      <td>...</td>\n",
              "      <td>...</td>\n",
              "      <td>...</td>\n",
              "      <td>...</td>\n",
              "      <td>...</td>\n",
              "    </tr>\n",
              "    <tr>\n",
              "      <th>2041695</th>\n",
              "      <td>2041695</td>\n",
              "      <td>ZWE_75_2020.txt.63</td>\n",
              "      <td>Ladies and Gentlemen.</td>\n",
              "      <td>ZWE</td>\n",
              "      <td>2020</td>\n",
              "    </tr>\n",
              "    <tr>\n",
              "      <th>2041696</th>\n",
              "      <td>2041696</td>\n",
              "      <td>ZWE_75_2020.txt.64</td>\n",
              "      <td>Let me conclude by reaffirming Zimbabwe’s comm...</td>\n",
              "      <td>ZWE</td>\n",
              "      <td>2020</td>\n",
              "    </tr>\n",
              "    <tr>\n",
              "      <th>2041697</th>\n",
              "      <td>2041697</td>\n",
              "      <td>ZWE_75_2020.txt.65</td>\n",
              "      <td>There is no better way of achieving a peaceful...</td>\n",
              "      <td>ZWE</td>\n",
              "      <td>2020</td>\n",
              "    </tr>\n",
              "    <tr>\n",
              "      <th>2041698</th>\n",
              "      <td>2041698</td>\n",
              "      <td>ZWE_75_2020.txt.66</td>\n",
              "      <td>Recommitting ourselves to these ideals will pa...</td>\n",
              "      <td>ZWE</td>\n",
              "      <td>2020</td>\n",
              "    </tr>\n",
              "    <tr>\n",
              "      <th>2041699</th>\n",
              "      <td>2041699</td>\n",
              "      <td>ZWE_75_2020.txt.67</td>\n",
              "      <td>I thank you.</td>\n",
              "      <td>ZWE</td>\n",
              "      <td>2020</td>\n",
              "    </tr>\n",
              "  </tbody>\n",
              "</table>\n",
              "<p>2039133 rows × 5 columns</p>\n",
              "</div>\n",
              "      <button class=\"colab-df-convert\" onclick=\"convertToInteractive('df-6918ad33-6236-441c-81e7-1117dbcaf9fa')\"\n",
              "              title=\"Convert this dataframe to an interactive table.\"\n",
              "              style=\"display:none;\">\n",
              "        \n",
              "  <svg xmlns=\"http://www.w3.org/2000/svg\" height=\"24px\"viewBox=\"0 0 24 24\"\n",
              "       width=\"24px\">\n",
              "    <path d=\"M0 0h24v24H0V0z\" fill=\"none\"/>\n",
              "    <path d=\"M18.56 5.44l.94 2.06.94-2.06 2.06-.94-2.06-.94-.94-2.06-.94 2.06-2.06.94zm-11 1L8.5 8.5l.94-2.06 2.06-.94-2.06-.94L8.5 2.5l-.94 2.06-2.06.94zm10 10l.94 2.06.94-2.06 2.06-.94-2.06-.94-.94-2.06-.94 2.06-2.06.94z\"/><path d=\"M17.41 7.96l-1.37-1.37c-.4-.4-.92-.59-1.43-.59-.52 0-1.04.2-1.43.59L10.3 9.45l-7.72 7.72c-.78.78-.78 2.05 0 2.83L4 21.41c.39.39.9.59 1.41.59.51 0 1.02-.2 1.41-.59l7.78-7.78 2.81-2.81c.8-.78.8-2.07 0-2.86zM5.41 20L4 18.59l7.72-7.72 1.47 1.35L5.41 20z\"/>\n",
              "  </svg>\n",
              "      </button>\n",
              "      \n",
              "  <style>\n",
              "    .colab-df-container {\n",
              "      display:flex;\n",
              "      flex-wrap:wrap;\n",
              "      gap: 12px;\n",
              "    }\n",
              "\n",
              "    .colab-df-convert {\n",
              "      background-color: #E8F0FE;\n",
              "      border: none;\n",
              "      border-radius: 50%;\n",
              "      cursor: pointer;\n",
              "      display: none;\n",
              "      fill: #1967D2;\n",
              "      height: 32px;\n",
              "      padding: 0 0 0 0;\n",
              "      width: 32px;\n",
              "    }\n",
              "\n",
              "    .colab-df-convert:hover {\n",
              "      background-color: #E2EBFA;\n",
              "      box-shadow: 0px 1px 2px rgba(60, 64, 67, 0.3), 0px 1px 3px 1px rgba(60, 64, 67, 0.15);\n",
              "      fill: #174EA6;\n",
              "    }\n",
              "\n",
              "    [theme=dark] .colab-df-convert {\n",
              "      background-color: #3B4455;\n",
              "      fill: #D2E3FC;\n",
              "    }\n",
              "\n",
              "    [theme=dark] .colab-df-convert:hover {\n",
              "      background-color: #434B5C;\n",
              "      box-shadow: 0px 1px 3px 1px rgba(0, 0, 0, 0.15);\n",
              "      filter: drop-shadow(0px 1px 2px rgba(0, 0, 0, 0.3));\n",
              "      fill: #FFFFFF;\n",
              "    }\n",
              "  </style>\n",
              "\n",
              "      <script>\n",
              "        const buttonEl =\n",
              "          document.querySelector('#df-6918ad33-6236-441c-81e7-1117dbcaf9fa button.colab-df-convert');\n",
              "        buttonEl.style.display =\n",
              "          google.colab.kernel.accessAllowed ? 'block' : 'none';\n",
              "\n",
              "        async function convertToInteractive(key) {\n",
              "          const element = document.querySelector('#df-6918ad33-6236-441c-81e7-1117dbcaf9fa');\n",
              "          const dataTable =\n",
              "            await google.colab.kernel.invokeFunction('convertToInteractive',\n",
              "                                                     [key], {});\n",
              "          if (!dataTable) return;\n",
              "\n",
              "          const docLinkHtml = 'Like what you see? Visit the ' +\n",
              "            '<a target=\"_blank\" href=https://colab.research.google.com/notebooks/data_table.ipynb>data table notebook</a>'\n",
              "            + ' to learn more about interactive tables.';\n",
              "          element.innerHTML = '';\n",
              "          dataTable['output_type'] = 'display_data';\n",
              "          await google.colab.output.renderOutput(dataTable, element);\n",
              "          const docLink = document.createElement('div');\n",
              "          docLink.innerHTML = docLinkHtml;\n",
              "          element.appendChild(docLink);\n",
              "        }\n",
              "      </script>\n",
              "    </div>\n",
              "  </div>\n",
              "  "
            ]
          },
          "metadata": {},
          "execution_count": 7
        }
      ],
      "source": [
        "# Removing labelled senteces from unlabelled dataset\n",
        "\n",
        "mask = unlabelled['country'].isin(labelled['country']) & unlabelled['year'].isin(labelled['year']) & unlabelled['doc_id'].isin(labelled['doc_id'])\n",
        "final_unlabelled = unlabelled[~mask]\n",
        "final_unlabelled"
      ]
    },
    {
      "cell_type": "markdown",
      "source": [
        "### Analysis of labels\n",
        "\n",
        "1. Distribution of labels\n"
      ],
      "metadata": {
        "id": "NbY-TjtAP6Hd"
      }
    },
    {
      "cell_type": "code",
      "source": [
        "freq = labelled['coding'].value_counts()\n",
        "plt.bar(freq.index, freq.values)\n",
        "plt.ylabel('Frequency')\n",
        "plt.show()"
      ],
      "metadata": {
        "colab": {
          "base_uri": "https://localhost:8080/",
          "height": 430
        },
        "id": "w3TW-n5eQx2p",
        "outputId": "2e2e3ffc-6927-4267-8d40-a7ac5451a934"
      },
      "execution_count": 8,
      "outputs": [
        {
          "output_type": "display_data",
          "data": {
            "text/plain": [
              "<Figure size 640x480 with 1 Axes>"
            ],
            "image/png": "[encoded data removed]"
          },
          "metadata": {}
        }
      ]
    },
    {
      "cell_type": "markdown",
      "metadata": {
        "id": "ZUTpF--mR7LL"
      },
      "source": [
        "### Preprocessing\n",
        "\n",
        "1. Remove stopwords (the, a , an...).\n",
        "2. Remove punctuation (:, , ., ?...).\n",
        "3. Remove Numbers (1, 199, 12)\n",
        "4. Remove whitespaces.\n",
        "5. Converting words into lowercase\n",
        "6. Tokenization (sentence -> list of words)"
      ]
    },
    {
      "cell_type": "code",
      "execution_count": 9,
      "metadata": {
        "id": "r6EKaQfMSACl"
      },
      "outputs": [],
      "source": [
        "def load_sentences(data, type='train'):\n",
        "  \n",
        "  '''\n",
        "    Extracts features and labels from dataset\n",
        "\n",
        "  '''\n",
        "  \n",
        "  sentences, labels = [], []\n",
        "  sentences = list(data['text'])\n",
        "\n",
        "  if type == 'train':\n",
        "    labels = list(data['coding'])\n",
        "  sentences = [sentence.split('\\t') for sentence in sentences]\n",
        "\n",
        "  return sentences, labels"
      ]
    },
    {
      "cell_type": "code",
      "execution_count": 10,
      "metadata": {
        "colab": {
          "base_uri": "https://localhost:8080/"
        },
        "id": "w_0ZFOcjUqSk",
        "outputId": "41c34907-e066-4b81-9bbe-7da7639bcc77"
      },
      "outputs": [
        {
          "output_type": "stream",
          "name": "stdout",
          "text": [
            "Training Sentences:  2650\n",
            "Training Labels:  2650\n",
            "Training Example:  ['I congratulate you, Sir, on your election as President of the forty-sixth session of the General Assembly.']\n",
            "Testing Sentences:  2039133\n",
            "Testing Example:  ['The so-called \"European concert\" is good proof of this concept which restricted the active access of the nonEuropean states to international life.']\n"
          ]
        }
      ],
      "source": [
        "# Labelled Data\n",
        "sentences, lables = load_sentences(labelled, 'train')\n",
        "\n",
        "print('Training Sentences: ',len(sentences))\n",
        "print('Training Labels: ',len(lables))\n",
        "print('Training Example: ',sentences[0])\n",
        "\n",
        "# Unlabelled Data\n",
        "test_sentences, _ = load_sentences(final_unlabelled, 'test')\n",
        "\n",
        "print('Testing Sentences: ',len(test_sentences))\n",
        "print('Testing Example: ',test_sentences[16])"
      ]
    },
    {
      "cell_type": "markdown",
      "source": [
        "### **Functions**\n",
        "\n",
        "##### Preprocessor class\n",
        "\n",
        "1. Removes punctuations, numbers, whitespaces\n",
        "2. Converts sentences into lower case\n",
        "\n",
        "##### remove_stopword function\n",
        "\n",
        "1. Removes Stopwords\n",
        "2. Tokenizes Sentences\n",
        "\n",
        "##### empty_sentences function\n",
        "\n",
        "1. Removes the sentences with less than 2 words"
      ],
      "metadata": {
        "id": "pgbxaRf9R498"
      }
    },
    {
      "cell_type": "code",
      "execution_count": 11,
      "metadata": {
        "id": "oIQDygKpVafB"
      },
      "outputs": [],
      "source": [
        "class Preprocessor:\n",
        "  '''\n",
        "    Removes punctuations, numbers, whitespaces\n",
        "    Converts sentences into lower case\n",
        "  '''\n",
        "  def __init__(self, numbers=True, punct=True):\n",
        "    self.numbers = numbers\n",
        "    self.punct = punct\n",
        "\n",
        "  def apply(self, sentence):\n",
        "    sentence = sentence.lower()\n",
        "    if self.numbers:\n",
        "      sentence = Preprocessor.remove_numbers(sentence)\n",
        "    if self.punct: \n",
        "      sentence = Preprocessor.remove_punct(sentence)\n",
        "    sentence = re.sub(r'\\s+', ' ', sentence)\n",
        "    return sentence\n",
        "  \n",
        "  @staticmethod\n",
        "  def remove_punct(sentence):\n",
        "    sentence = re.sub(r'[^\\w\\s]', '', sentence)\n",
        "    return sentence\n",
        "  \n",
        "  @staticmethod\n",
        "  def remove_numbers(sentence):\n",
        "    sentence = re.sub(r'[0-9]', '', sentence)\n",
        "    return sentence"
      ]
    },
    {
      "cell_type": "code",
      "source": [
        "# Example of preprocessor class\n",
        "print('Before: ', sentences[0][0])\n",
        "processor = Preprocessor()\n",
        "print('After: ', processor.apply(sentences[0][0]))"
      ],
      "metadata": {
        "colab": {
          "base_uri": "https://localhost:8080/"
        },
        "id": "qfGcBTQbMj6K",
        "outputId": "54f42793-61e9-4c78-a74a-d35e242b5e56"
      },
      "execution_count": 12,
      "outputs": [
        {
          "output_type": "stream",
          "name": "stdout",
          "text": [
            "Before:  I congratulate you, Sir, on your election as President of the forty-sixth session of the General Assembly.\n",
            "After:  i congratulate you sir on your election as president of the fortysixth session of the general assembly\n"
          ]
        }
      ]
    },
    {
      "cell_type": "code",
      "execution_count": 13,
      "metadata": {
        "id": "zY2RC01HX8n2"
      },
      "outputs": [],
      "source": [
        "def remove_stopwords(data):\n",
        "  '''\n",
        "    Removes Stopwords\n",
        "    Tokenizes Sentences\n",
        "    \n",
        "  '''\n",
        "  sentences = []\n",
        "  split_sent = data.split()\n",
        "  stopwords_set = set(stopwords.words('english'))\n",
        "  sentences = [word for word in split_sent if word.lower() not in stopwords_set]\n",
        "  return sentences"
      ]
    },
    {
      "cell_type": "code",
      "source": [
        "# Example of Removing stopwords and Tokenization\n",
        "print('Before: ', sentences[0][0])\n",
        "print('After: ', remove_stopwords(sentences[0][0]))"
      ],
      "metadata": {
        "colab": {
          "base_uri": "https://localhost:8080/"
        },
        "id": "zAjm0RmzNayl",
        "outputId": "36db2d45-245d-4b32-b313-6ccdf75817ee"
      },
      "execution_count": 14,
      "outputs": [
        {
          "output_type": "stream",
          "name": "stdout",
          "text": [
            "Before:  I congratulate you, Sir, on your election as President of the forty-sixth session of the General Assembly.\n",
            "After:  ['congratulate', 'you,', 'Sir,', 'election', 'President', 'forty-sixth', 'session', 'General', 'Assembly.']\n"
          ]
        }
      ]
    },
    {
      "cell_type": "code",
      "execution_count": 15,
      "metadata": {
        "colab": {
          "base_uri": "https://localhost:8080/"
        },
        "id": "c_kqmbmmXl6-",
        "outputId": "d8178616-4685-4b26-c658-f7f8becf4a05"
      },
      "outputs": [
        {
          "output_type": "stream",
          "name": "stderr",
          "text": [
            "2650it [00:00, 6121.39it/s]\n",
            "2039133it [05:29, 6189.41it/s]\n"
          ]
        }
      ],
      "source": [
        "processor = Preprocessor()\n",
        "\n",
        "# Labelled Data\n",
        "clean_sentences = []\n",
        "for idx, sentence in tqdm(enumerate(sentences)):\n",
        "  clean_sentence = processor.apply(sentence[0])\n",
        "  clean_sentences.append(remove_stopwords(clean_sentence))\n",
        "\n",
        "\n",
        "# Unlabelled data\n",
        "test_clean_sentences = []\n",
        "for idx, sentence in tqdm(enumerate(test_sentences)):\n",
        "  clean_sentence = processor.apply(sentence[0])\n",
        "  test_clean_sentences.append(remove_stopwords(clean_sentence))"
      ]
    },
    {
      "cell_type": "code",
      "execution_count": 16,
      "metadata": {
        "colab": {
          "base_uri": "https://localhost:8080/"
        },
        "id": "Cee9ylWSZMbO",
        "outputId": "108fa0d0-3cac-4afe-b4c4-7e557fb1c35a"
      },
      "outputs": [
        {
          "output_type": "stream",
          "name": "stdout",
          "text": [
            "Example of a cleaned sentence\n",
            "['congratulate', 'sir', 'election', 'president', 'fortysixth', 'session', 'general', 'assembly']\n"
          ]
        }
      ],
      "source": [
        "print('Example of a cleaned sentence')\n",
        "print(clean_sentences[0])"
      ]
    },
    {
      "cell_type": "code",
      "execution_count": 17,
      "metadata": {
        "id": "zaxNGdkuaO1Y"
      },
      "outputs": [],
      "source": [
        "# checking for empty sentences\n",
        "def empty_sentences(data):\n",
        "  \n",
        "  '''\n",
        "    Removes the sentences with less than 2 words\n",
        "  '''\n",
        "  print('Length before', len(data))\n",
        "\n",
        "  sentences = [sublist for sublist in data if not all(elem == \"\" for elem in sublist)]\n",
        "  train_sentences = []\n",
        "  indices = []\n",
        "  removed_sentences = []\n",
        "  for idx, sentence in enumerate(sentences):\n",
        "    if len(sentence) <= 2:\n",
        "      indices.append(idx)\n",
        "      removed_sentences.append(sentence)\n",
        "    else:\n",
        "      train_sentences.append(sentence)\n",
        "  print('Length after', len(train_sentences))\n",
        "  \n",
        "  return train_sentences, indices, removed_sentences"
      ]
    },
    {
      "cell_type": "code",
      "execution_count": 18,
      "metadata": {
        "colab": {
          "base_uri": "https://localhost:8080/"
        },
        "id": "nxQmcZZQceEg",
        "outputId": "06e46192-d84c-47e1-bd74-e8e57ef86078"
      },
      "outputs": [
        {
          "output_type": "stream",
          "name": "stdout",
          "text": [
            "Labelled data\n",
            "Length before 2650\n",
            "Length after 2604\n",
            "\n",
            "unlabelled data\n",
            "Length before 2039133\n",
            "Length after 1589306\n"
          ]
        }
      ],
      "source": [
        "# Labelled Data\n",
        "print(\"Labelled data\")\n",
        "train_sentences, indices, removed_sentences = empty_sentences(clean_sentences)\n",
        "\n",
        "print()\n",
        "\n",
        "# Unlabelled data\n",
        "print(\"unlabelled data\")\n",
        "test_sentences, test_indices, removed_test_sentences = empty_sentences(test_clean_sentences)"
      ]
    },
    {
      "cell_type": "markdown",
      "source": [
        "### **Encoding**\n",
        "\n",
        "-- BERT"
      ],
      "metadata": {
        "id": "KvR8QzHItKCq"
      }
    },
    {
      "cell_type": "code",
      "source": [
        "! pip install transformers"
      ],
      "metadata": {
        "colab": {
          "base_uri": "https://localhost:8080/"
        },
        "id": "MNwn1wETtF8a",
        "outputId": "c57b2b64-c3ea-4b4f-ce72-89dee8bf96e3"
      },
      "execution_count": 19,
      "outputs": [
        {
          "output_type": "stream",
          "name": "stdout",
          "text": [
            "Looking in indexes: https://pypi.org/simple, https://us-python.pkg.dev/colab-wheels/public/simple/\n",
            "Requirement already satisfied: transformers in /usr/local/lib/python3.9/dist-packages (4.28.1)\n",
            "Requirement already satisfied: packaging>=20.0 in /usr/local/lib/python3.9/dist-packages (from transformers) (23.1)\n",
            "Requirement already satisfied: tqdm>=4.27 in /usr/local/lib/python3.9/dist-packages (from transformers) (4.65.0)\n",
            "Requirement already satisfied: numpy>=1.17 in /usr/local/lib/python3.9/dist-packages (from transformers) (1.22.4)\n",
            "Requirement already satisfied: pyyaml>=5.1 in /usr/local/lib/python3.9/dist-packages (from transformers) (6.0)\n",
            "Requirement already satisfied: huggingface-hub<1.0,>=0.11.0 in /usr/local/lib/python3.9/dist-packages (from transformers) (0.13.4)\n",
            "Requirement already satisfied: tokenizers!=0.11.3,<0.14,>=0.11.1 in /usr/local/lib/python3.9/dist-packages (from transformers) (0.13.3)\n",
            "Requirement already satisfied: requests in /usr/local/lib/python3.9/dist-packages (from transformers) (2.27.1)\n",
            "Requirement already satisfied: regex!=2019.12.17 in /usr/local/lib/python3.9/dist-packages (from transformers) (2022.10.31)\n",
            "Requirement already satisfied: filelock in /usr/local/lib/python3.9/dist-packages (from transformers) (3.11.0)\n",
            "Requirement already satisfied: typing-extensions>=3.7.4.3 in /usr/local/lib/python3.9/dist-packages (from huggingface-hub<1.0,>=0.11.0->transformers) (4.5.0)\n",
            "Requirement already satisfied: certifi>=2017.4.17 in /usr/local/lib/python3.9/dist-packages (from requests->transformers) (2022.12.7)\n",
            "Requirement already satisfied: idna<4,>=2.5 in /usr/local/lib/python3.9/dist-packages (from requests->transformers) (3.4)\n",
            "Requirement already satisfied: urllib3<1.27,>=1.21.1 in /usr/local/lib/python3.9/dist-packages (from requests->transformers) (1.26.15)\n",
            "Requirement already satisfied: charset-normalizer~=2.0.0 in /usr/local/lib/python3.9/dist-packages (from requests->transformers) (2.0.12)\n"
          ]
        }
      ]
    },
    {
      "cell_type": "code",
      "source": [
        "from transformers import BertTokenizer, BertModel"
      ],
      "metadata": {
        "id": "MuoBPeb6tjOZ"
      },
      "execution_count": 20,
      "outputs": []
    },
    {
      "cell_type": "code",
      "source": [
        "tokenizer = BertTokenizer.from_pretrained('bert-base-uncased')"
      ],
      "metadata": {
        "id": "rN4gAZoQtxUh"
      },
      "execution_count": 21,
      "outputs": []
    },
    {
      "cell_type": "code",
      "source": [
        "model = BertModel.from_pretrained('bert-base-uncased', output_hidden_states=True)"
      ],
      "metadata": {
        "colab": {
          "base_uri": "https://localhost:8080/"
        },
        "id": "dqO_CHf0t57u",
        "outputId": "4d3f70ff-d810-47e5-f3b6-ab9de064f0c6"
      },
      "execution_count": 22,
      "outputs": [
        {
          "output_type": "stream",
          "name": "stderr",
          "text": [
            "Some weights of the model checkpoint at bert-base-uncased were not used when initializing BertModel: ['cls.predictions.bias', 'cls.predictions.transform.dense.weight', 'cls.predictions.decoder.weight', 'cls.predictions.transform.LayerNorm.bias', 'cls.seq_relationship.weight', 'cls.predictions.transform.LayerNorm.weight', 'cls.seq_relationship.bias', 'cls.predictions.transform.dense.bias']\n",
            "- This IS expected if you are initializing BertModel from the checkpoint of a model trained on another task or with another architecture (e.g. initializing a BertForSequenceClassification model from a BertForPreTraining model).\n",
            "- This IS NOT expected if you are initializing BertModel from the checkpoint of a model that you expect to be exactly identical (initializing a BertForSequenceClassification model from a BertForSequenceClassification model).\n"
          ]
        }
      ]
    },
    {
      "cell_type": "code",
      "source": [
        "#\n",
        "corpus_tokens = [tokenizer.encode(sent, add_special_tokens=True) for sent in train_sentences]"
      ],
      "metadata": {
        "id": "XW88_lrNuJp5"
      },
      "execution_count": 23,
      "outputs": []
    },
    {
      "cell_type": "code",
      "source": [
        "#\n",
        "max_len = max([len(seq) for seq in corpus_tokens])\n",
        "padded_corpus = [seq + [0]*(max_len-len(seq)) for seq in corpus_tokens]"
      ],
      "metadata": {
        "id": "AJaJ7VZivAaN"
      },
      "execution_count": 24,
      "outputs": []
    },
    {
      "cell_type": "code",
      "source": [
        "import torch \n",
        "\n",
        "padded_corpus = torch.LongTensor(padded_corpus)"
      ],
      "metadata": {
        "id": "KYLMZHCWvE8N"
      },
      "execution_count": 25,
      "outputs": []
    },
    {
      "cell_type": "code",
      "source": [
        "with torch.no_grad():\n",
        "    encoded_vectors = model(padded_corpus[:10])[0]"
      ],
      "metadata": {
        "id": "9gukliGYvq8W"
      },
      "execution_count": 26,
      "outputs": []
    },
    {
      "cell_type": "code",
      "source": [
        "len(encoded_vectors)"
      ],
      "metadata": {
        "colab": {
          "base_uri": "https://localhost:8080/"
        },
        "id": "XBs4YH9bvtMg",
        "outputId": "b55526bc-4eb1-43bd-9032-90b52639fdde"
      },
      "execution_count": 28,
      "outputs": [
        {
          "output_type": "execute_result",
          "data": {
            "text/plain": [
              "10"
            ]
          },
          "metadata": {},
          "execution_count": 28
        }
      ]
    },
    {
      "cell_type": "code",
      "source": [
        "len(encoded_vectors[9])"
      ],
      "metadata": {
        "colab": {
          "base_uri": "https://localhost:8080/"
        },
        "id": "fWIoGzIs3PH2",
        "outputId": "d14646a1-fa86-4891-9320-d6a1624bb122"
      },
      "execution_count": 46,
      "outputs": [
        {
          "output_type": "execute_result",
          "data": {
            "text/plain": [
              "75"
            ]
          },
          "metadata": {},
          "execution_count": 46
        }
      ]
    },
    {
      "cell_type": "code",
      "source": [],
      "metadata": {
        "id": "RZV0CLAO3pwn"
      },
      "execution_count": null,
      "outputs": []
    }
  ],
  "metadata": {
    "colab": {
      "provenance": [],
      "gpuType": "T4"
    },
    "kernelspec": {
      "display_name": "Python 3",
      "language": "python",
      "name": "python3"
    },
    "language_info": {
      "codemirror_mode": {
        "name": "ipython",
        "version": 3
      },
      "file_extension": ".py",
      "mimetype": "text/x-python",
      "name": "python",
      "nbconvert_exporter": "python",
      "pygments_lexer": "ipython3",
      "version": "3.8.3"
    },
    "orig_nbformat": 4,
    "accelerator": "GPU",
    "gpuClass": "standard"
  },
  "nbformat": 4,
  "nbformat_minor": 0
}