{
 "cells": [
  {
   "cell_type": "code",
   "execution_count": 1,
   "metadata": {},
   "outputs": [],
   "source": [
    "import os\n",
    "import pandas as pd\n",
    "import warnings\n",
    "warnings.simplefilter(action='ignore', category=FutureWarning)"
   ]
  },
  {
   "cell_type": "code",
   "execution_count": 2,
   "metadata": {},
   "outputs": [],
   "source": [
    "to_delete=[]\n",
    "for root, dirs, files in os.walk('./UNGDC_1970-2020/'):\n",
    "    for file in files:\n",
    "        if file.startswith('.'):\n",
    "            to_delete.append(os.path.join(root, file))\n",
    "            continue\n",
    "\n",
    "for loc in to_delete:\n",
    "    os.remove(loc)"
   ]
  },
  {
   "cell_type": "code",
   "execution_count": 19,
   "metadata": {},
   "outputs": [],
   "source": [
    "file_to_use={}\n",
    "for root, dirs, files in os.walk('./UNGDC_1970-2020/'):\n",
    "    for file in files:\n",
    "        if not file.startswith('.'):\n",
    "            if root not in file_to_use:\n",
    "                file_to_use[root]=[]\n",
    "            else:\n",
    "                file_to_use[root].append(os.path.join(root, file))"
   ]
  },
  {
   "cell_type": "code",
   "execution_count": 23,
   "metadata": {},
   "outputs": [],
   "source": [
    "num_lines={}\n",
    "for folder in file_to_use:\n",
    "    for file in file_to_use[folder]:\n",
    "        with open(file, 'r+', encoding='utf8') as infile:\n",
    "            num_lines[file]=len(infile.readlines())"
   ]
  },
  {
   "cell_type": "code",
   "execution_count": 61,
   "metadata": {},
   "outputs": [],
   "source": [
    "dict_ls={}\n",
    "for folder in file_to_use:\n",
    "    dict_ls[folder]=[]\n",
    "    for file in file_to_use[folder]:\n",
    "        with open (file, 'r+', encoding='utf8') as infile:\n",
    "            dict_ls[folder].append({\n",
    "            'doc_id':file,\n",
    "            'text':infile.readlines(), \n",
    "            'country':file.split('_')[1].split('\\\\')[-1], \n",
    "            'year':file.split('_')[3].split('.')[0]\n",
    "            })"
   ]
  },
  {
   "cell_type": "code",
   "execution_count": 62,
   "metadata": {},
   "outputs": [],
   "source": [
    "lines_ls=[]\n",
    "for folder in dict_ls:\n",
    "    for file in dict_ls[folder]:\n",
    "        count=0\n",
    "        for line in file['text']:\n",
    "            count+=1\n",
    "            lines_ls.append([file['doc_id'].split(\"\\\\\")[-1]+'.'+str(count), line, file['country'], file['year']])"
   ]
  },
  {
   "cell_type": "code",
   "execution_count": 65,
   "metadata": {},
   "outputs": [],
   "source": [
    "df=pd.DataFrame(lines_ls, columns=['doc_id','text','country','year'])"
   ]
  },
  {
   "cell_type": "code",
   "execution_count": 66,
   "metadata": {},
   "outputs": [
    {
     "data": {
      "text/html": [
       "<div>\n",
       "<style scoped>\n",
       "    .dataframe tbody tr th:only-of-type {\n",
       "        vertical-align: middle;\n",
       "    }\n",
       "\n",
       "    .dataframe tbody tr th {\n",
       "        vertical-align: top;\n",
       "    }\n",
       "\n",
       "    .dataframe thead th {\n",
       "        text-align: right;\n",
       "    }\n",
       "</style>\n",
       "<table border=\"1\" class=\"dataframe\">\n",
       "  <thead>\n",
       "    <tr style=\"text-align: right;\">\n",
       "      <th></th>\n",
       "      <th>doc_id</th>\n",
       "      <th>text</th>\n",
       "      <th>country</th>\n",
       "      <th>year</th>\n",
       "    </tr>\n",
       "  </thead>\n",
       "  <tbody>\n",
       "    <tr>\n",
       "      <th>0</th>\n",
       "      <td>ARG_25_1970.txt.1</td>\n",
       "      <td>177.\\t : It is a fortunate coincidence that pr...</td>\n",
       "      <td>ARG</td>\n",
       "      <td>1970</td>\n",
       "    </tr>\n",
       "    <tr>\n",
       "      <th>1</th>\n",
       "      <td>ARG_25_1970.txt.2</td>\n",
       "      <td>178.\\tThrough you I should also like to expres...</td>\n",
       "      <td>ARG</td>\n",
       "      <td>1970</td>\n",
       "    </tr>\n",
       "    <tr>\n",
       "      <th>2</th>\n",
       "      <td>ARG_25_1970.txt.3</td>\n",
       "      <td>179.\\tFrom this rostrum, the Argentine Governm...</td>\n",
       "      <td>ARG</td>\n",
       "      <td>1970</td>\n",
       "    </tr>\n",
       "    <tr>\n",
       "      <th>3</th>\n",
       "      <td>ARG_25_1970.txt.4</td>\n",
       "      <td>180.\\tWhen the Organization of the United Nati...</td>\n",
       "      <td>ARG</td>\n",
       "      <td>1970</td>\n",
       "    </tr>\n",
       "    <tr>\n",
       "      <th>4</th>\n",
       "      <td>ARG_25_1970.txt.5</td>\n",
       "      <td>181.\\tThe need to rely upon a stable managemen...</td>\n",
       "      <td>ARG</td>\n",
       "      <td>1970</td>\n",
       "    </tr>\n",
       "    <tr>\n",
       "      <th>...</th>\n",
       "      <td>...</td>\n",
       "      <td>...</td>\n",
       "      <td>...</td>\n",
       "      <td>...</td>\n",
       "    </tr>\n",
       "    <tr>\n",
       "      <th>1440952</th>\n",
       "      <td>ZWE_75_2020.txt.35</td>\n",
       "      <td>Mr. President,\\n</td>\n",
       "      <td>ZWE</td>\n",
       "      <td>2020</td>\n",
       "    </tr>\n",
       "    <tr>\n",
       "      <th>1440953</th>\n",
       "      <td>ZWE_75_2020.txt.36</td>\n",
       "      <td>Excellencies,\\n</td>\n",
       "      <td>ZWE</td>\n",
       "      <td>2020</td>\n",
       "    </tr>\n",
       "    <tr>\n",
       "      <th>1440954</th>\n",
       "      <td>ZWE_75_2020.txt.37</td>\n",
       "      <td>Ladies and Gentlemen.\\n</td>\n",
       "      <td>ZWE</td>\n",
       "      <td>2020</td>\n",
       "    </tr>\n",
       "    <tr>\n",
       "      <th>1440955</th>\n",
       "      <td>ZWE_75_2020.txt.38</td>\n",
       "      <td>Let me conclude by reaffirming Zimbabwe’s comm...</td>\n",
       "      <td>ZWE</td>\n",
       "      <td>2020</td>\n",
       "    </tr>\n",
       "    <tr>\n",
       "      <th>1440956</th>\n",
       "      <td>ZWE_75_2020.txt.39</td>\n",
       "      <td>I thank you.</td>\n",
       "      <td>ZWE</td>\n",
       "      <td>2020</td>\n",
       "    </tr>\n",
       "  </tbody>\n",
       "</table>\n",
       "<p>1440957 rows × 4 columns</p>\n",
       "</div>"
      ],
      "text/plain": [
       "                     doc_id  \\\n",
       "0         ARG_25_1970.txt.1   \n",
       "1         ARG_25_1970.txt.2   \n",
       "2         ARG_25_1970.txt.3   \n",
       "3         ARG_25_1970.txt.4   \n",
       "4         ARG_25_1970.txt.5   \n",
       "...                     ...   \n",
       "1440952  ZWE_75_2020.txt.35   \n",
       "1440953  ZWE_75_2020.txt.36   \n",
       "1440954  ZWE_75_2020.txt.37   \n",
       "1440955  ZWE_75_2020.txt.38   \n",
       "1440956  ZWE_75_2020.txt.39   \n",
       "\n",
       "                                                      text country  year  \n",
       "0        177.\\t : It is a fortunate coincidence that pr...     ARG  1970  \n",
       "1        178.\\tThrough you I should also like to expres...     ARG  1970  \n",
       "2        179.\\tFrom this rostrum, the Argentine Governm...     ARG  1970  \n",
       "3        180.\\tWhen the Organization of the United Nati...     ARG  1970  \n",
       "4        181.\\tThe need to rely upon a stable managemen...     ARG  1970  \n",
       "...                                                    ...     ...   ...  \n",
       "1440952                                   Mr. President,\\n     ZWE  2020  \n",
       "1440953                                    Excellencies,\\n     ZWE  2020  \n",
       "1440954                            Ladies and Gentlemen.\\n     ZWE  2020  \n",
       "1440955  Let me conclude by reaffirming Zimbabwe’s comm...     ZWE  2020  \n",
       "1440956                                       I thank you.     ZWE  2020  \n",
       "\n",
       "[1440957 rows x 4 columns]"
      ]
     },
     "execution_count": 66,
     "metadata": {},
     "output_type": "execute_result"
    }
   ],
   "source": [
    "df"
   ]
  },
  {
   "cell_type": "code",
   "execution_count": 68,
   "metadata": {},
   "outputs": [],
   "source": [
    "df.to_csv('unlabelled_data.csv')"
   ]
  }
 ],
 "metadata": {
  "kernelspec": {
   "display_name": "Python 3",
   "language": "python",
   "name": "python3"
  },
  "language_info": {
   "codemirror_mode": {
    "name": "ipython",
    "version": 3
   },
   "file_extension": ".py",
   "mimetype": "text/x-python",
   "name": "python",
   "nbconvert_exporter": "python",
   "pygments_lexer": "ipython3",
   "version": "3.8.3"
  },
  "orig_nbformat": 4
 },
 "nbformat": 4,
 "nbformat_minor": 2
}
