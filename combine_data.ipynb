{
 "cells": [
  {
   "cell_type": "code",
   "execution_count": 1,
   "metadata": {},
   "outputs": [
    {
     "name": "stderr",
     "output_type": "stream",
     "text": [
      "[nltk_data] Downloading package punkt to\n",
      "[nltk_data]     C:\\Users\\1999y\\AppData\\Roaming\\nltk_data...\n",
      "[nltk_data]   Unzipping tokenizers\\punkt.zip.\n"
     ]
    }
   ],
   "source": [
    "import os\n",
    "import pandas as pd\n",
    "import warnings\n",
    "import nltk\n",
    "nltk.download('punkt')\n",
    "from tqdm import tqdm\n",
    "\n",
    "warnings.simplefilter(action='ignore', category=FutureWarning)"
   ]
  },
  {
   "cell_type": "code",
   "execution_count": 2,
   "metadata": {},
   "outputs": [],
   "source": [
    "to_delete=[]\n",
    "for root, dirs, files in os.walk('./UNGDC_1970-2020/'):\n",
    "    for file in files:\n",
    "        if file.startswith('.'):\n",
    "            to_delete.append(os.path.join(root, file))\n",
    "            continue\n",
    "\n",
    "for loc in to_delete:\n",
    "    os.remove(loc)"
   ]
  },
  {
   "cell_type": "code",
   "execution_count": 3,
   "metadata": {},
   "outputs": [],
   "source": [
    "file_to_use={}\n",
    "for root, _, files in os.walk('./UNGDC_1970-2020/'):\n",
    "    for file in files:\n",
    "        if not file.startswith('.'):\n",
    "            if root not in file_to_use:\n",
    "                file_to_use[root]=[]\n",
    "            else:\n",
    "                file_to_use[root].append(os.path.join(root, file))"
   ]
  },
  {
   "cell_type": "code",
   "execution_count": 27,
   "metadata": {},
   "outputs": [],
   "source": [
    "dict_ls=[]\n",
    "flatten_list = lambda y:[x for a in y for x in flatten_list(a)] if type(y) is list else [y]\n",
    "\n",
    "for folder in file_to_use:\n",
    "    # dict_ls[folder]=[]\n",
    "    for file in file_to_use[folder]:\n",
    "        count=1\n",
    "        with open (file, 'r+', encoding='utf8') as infile:\n",
    "            for lines in infile.readlines():\n",
    "                for line in nltk.sent_tokenize(lines):\n",
    "                    dict_ls.append([\n",
    "                    file.split(\"\\\\\")[-1]+'.'+str(count),\n",
    "                    line, \n",
    "                    file.split('_')[1].split('\\\\')[-1], \n",
    "                    file.split('_')[3].split('.')[0]\n",
    "                    ])\n",
    "                    count+=1"
   ]
  },
  {
   "cell_type": "code",
   "execution_count": 28,
   "metadata": {},
   "outputs": [],
   "source": [
    "df=pd.DataFrame(dict_ls, columns=['doc_id','text','country','year'])"
   ]
  },
  {
   "cell_type": "code",
   "execution_count": 35,
   "metadata": {},
   "outputs": [
    {
     "data": {
      "text/plain": [
       "'Through you I should also like to express the appreciation of the Argentine delegation to Mrs. Angie BrooksRandolph of Liberia, for the work she performed as President of the twenty-fourth session.'"
      ]
     },
     "execution_count": 35,
     "metadata": {},
     "output_type": "execute_result"
    }
   ],
   "source": [
    "df[df['doc_id']=='ARG_25_1970.txt.4']['text'].item()"
   ]
  },
  {
   "cell_type": "code",
   "execution_count": 37,
   "metadata": {},
   "outputs": [
    {
     "data": {
      "text/html": [
       "<div>\n",
       "<style scoped>\n",
       "    .dataframe tbody tr th:only-of-type {\n",
       "        vertical-align: middle;\n",
       "    }\n",
       "\n",
       "    .dataframe tbody tr th {\n",
       "        vertical-align: top;\n",
       "    }\n",
       "\n",
       "    .dataframe thead th {\n",
       "        text-align: right;\n",
       "    }\n",
       "</style>\n",
       "<table border=\"1\" class=\"dataframe\">\n",
       "  <thead>\n",
       "    <tr style=\"text-align: right;\">\n",
       "      <th></th>\n",
       "      <th>doc_id</th>\n",
       "      <th>text</th>\n",
       "      <th>country</th>\n",
       "      <th>year</th>\n",
       "    </tr>\n",
       "  </thead>\n",
       "  <tbody>\n",
       "    <tr>\n",
       "      <th>535483</th>\n",
       "      <td>AUS_46_1991.txt.1</td>\n",
       "      <td>﻿I congratulate you, Sir, on your election as ...</td>\n",
       "      <td>AUS</td>\n",
       "      <td>1991</td>\n",
       "    </tr>\n",
       "    <tr>\n",
       "      <th>535484</th>\n",
       "      <td>AUS_46_1991.txt.2</td>\n",
       "      <td>I am sure we will all benefit from your long e...</td>\n",
       "      <td>AUS</td>\n",
       "      <td>1991</td>\n",
       "    </tr>\n",
       "    <tr>\n",
       "      <th>535485</th>\n",
       "      <td>AUS_46_1991.txt.3</td>\n",
       "      <td>Australia enjoys strong bonds of friendship wi...</td>\n",
       "      <td>AUS</td>\n",
       "      <td>1991</td>\n",
       "    </tr>\n",
       "    <tr>\n",
       "      <th>535486</th>\n",
       "      <td>AUS_46_1991.txt.4</td>\n",
       "      <td>Australia warmly welcomes to membership of thi...</td>\n",
       "      <td>AUS</td>\n",
       "      <td>1991</td>\n",
       "    </tr>\n",
       "    <tr>\n",
       "      <th>535487</th>\n",
       "      <td>AUS_46_1991.txt.5</td>\n",
       "      <td>Equally, as a country of the Asia-Pacific regi...</td>\n",
       "      <td>AUS</td>\n",
       "      <td>1991</td>\n",
       "    </tr>\n",
       "    <tr>\n",
       "      <th>...</th>\n",
       "      <td>...</td>\n",
       "      <td>...</td>\n",
       "      <td>...</td>\n",
       "      <td>...</td>\n",
       "    </tr>\n",
       "    <tr>\n",
       "      <th>535629</th>\n",
       "      <td>AUS_46_1991.txt.147</td>\n",
       "      <td>Never since the end of the Second World War ha...</td>\n",
       "      <td>AUS</td>\n",
       "      <td>1991</td>\n",
       "    </tr>\n",
       "    <tr>\n",
       "      <th>535630</th>\n",
       "      <td>AUS_46_1991.txt.148</td>\n",
       "      <td>That hope has to be translated into political ...</td>\n",
       "      <td>AUS</td>\n",
       "      <td>1991</td>\n",
       "    </tr>\n",
       "    <tr>\n",
       "      <th>535631</th>\n",
       "      <td>AUS_46_1991.txt.149</td>\n",
       "      <td>In fulfilling this role the United Nations mus...</td>\n",
       "      <td>AUS</td>\n",
       "      <td>1991</td>\n",
       "    </tr>\n",
       "    <tr>\n",
       "      <th>535632</th>\n",
       "      <td>AUS_46_1991.txt.150</td>\n",
       "      <td>Its ultimate success will depend on the capaci...</td>\n",
       "      <td>AUS</td>\n",
       "      <td>1991</td>\n",
       "    </tr>\n",
       "    <tr>\n",
       "      <th>535633</th>\n",
       "      <td>AUS_46_1991.txt.151</td>\n",
       "      <td>The achievement of which the United Nations is...</td>\n",
       "      <td>AUS</td>\n",
       "      <td>1991</td>\n",
       "    </tr>\n",
       "  </tbody>\n",
       "</table>\n",
       "<p>151 rows × 4 columns</p>\n",
       "</div>"
      ],
      "text/plain": [
       "                     doc_id  \\\n",
       "535483    AUS_46_1991.txt.1   \n",
       "535484    AUS_46_1991.txt.2   \n",
       "535485    AUS_46_1991.txt.3   \n",
       "535486    AUS_46_1991.txt.4   \n",
       "535487    AUS_46_1991.txt.5   \n",
       "...                     ...   \n",
       "535629  AUS_46_1991.txt.147   \n",
       "535630  AUS_46_1991.txt.148   \n",
       "535631  AUS_46_1991.txt.149   \n",
       "535632  AUS_46_1991.txt.150   \n",
       "535633  AUS_46_1991.txt.151   \n",
       "\n",
       "                                                     text country  year  \n",
       "535483  ﻿I congratulate you, Sir, on your election as ...     AUS  1991  \n",
       "535484  I am sure we will all benefit from your long e...     AUS  1991  \n",
       "535485  Australia enjoys strong bonds of friendship wi...     AUS  1991  \n",
       "535486  Australia warmly welcomes to membership of thi...     AUS  1991  \n",
       "535487  Equally, as a country of the Asia-Pacific regi...     AUS  1991  \n",
       "...                                                   ...     ...   ...  \n",
       "535629  Never since the end of the Second World War ha...     AUS  1991  \n",
       "535630  That hope has to be translated into political ...     AUS  1991  \n",
       "535631  In fulfilling this role the United Nations mus...     AUS  1991  \n",
       "535632  Its ultimate success will depend on the capaci...     AUS  1991  \n",
       "535633  The achievement of which the United Nations is...     AUS  1991  \n",
       "\n",
       "[151 rows x 4 columns]"
      ]
     },
     "execution_count": 37,
     "metadata": {},
     "output_type": "execute_result"
    }
   ],
   "source": [
    "df[(df['country']=='AUS') & (df['year']=='1991')]"
   ]
  },
  {
   "cell_type": "code",
   "execution_count": null,
   "metadata": {},
   "outputs": [],
   "source": [
    "df.to_csv('unlabelled_data.csv')"
   ]
  }
 ],
 "metadata": {
  "kernelspec": {
   "display_name": "Python 3",
   "language": "python",
   "name": "python3"
  },
  "language_info": {
   "codemirror_mode": {
    "name": "ipython",
    "version": 3
   },
   "file_extension": ".py",
   "mimetype": "text/x-python",
   "name": "python",
   "nbconvert_exporter": "python",
   "pygments_lexer": "ipython3",
   "version": "3.8.3"
  },
  "orig_nbformat": 4
 },
 "nbformat": 4,
 "nbformat_minor": 2
}
