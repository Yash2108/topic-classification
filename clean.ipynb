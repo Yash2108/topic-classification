{
 "cells": [
  {
   "cell_type": "code",
   "execution_count": 57,
   "metadata": {},
   "outputs": [],
   "source": [
    "import pandas as pd"
   ]
  },
  {
   "cell_type": "code",
   "execution_count": 71,
   "metadata": {},
   "outputs": [],
   "source": [
    "unlabelled=pd.read_csv('unlabelled_data.csv')"
   ]
  },
  {
   "cell_type": "code",
   "execution_count": 59,
   "metadata": {},
   "outputs": [],
   "source": [
    "labelled=pd.read_csv('HumanCoding.csv')"
   ]
  },
  {
   "cell_type": "code",
   "execution_count": 60,
   "metadata": {},
   "outputs": [],
   "source": [
    "labelled.drop('Unnamed: 0', axis=1, inplace=True)"
   ]
  },
  {
   "cell_type": "code",
   "execution_count": 61,
   "metadata": {},
   "outputs": [],
   "source": [
    "label_doc=labelled['doc_id']"
   ]
  },
  {
   "cell_type": "code",
   "execution_count": 62,
   "metadata": {},
   "outputs": [],
   "source": [
    "unlabelled.drop('Unnamed: 0', axis=1, inplace=True)"
   ]
  },
  {
   "cell_type": "code",
   "execution_count": 72,
   "metadata": {},
   "outputs": [
    {
     "data": {
      "text/html": [
       "<div>\n",
       "<style scoped>\n",
       "    .dataframe tbody tr th:only-of-type {\n",
       "        vertical-align: middle;\n",
       "    }\n",
       "\n",
       "    .dataframe tbody tr th {\n",
       "        vertical-align: top;\n",
       "    }\n",
       "\n",
       "    .dataframe thead th {\n",
       "        text-align: right;\n",
       "    }\n",
       "</style>\n",
       "<table border=\"1\" class=\"dataframe\">\n",
       "  <thead>\n",
       "    <tr style=\"text-align: right;\">\n",
       "      <th></th>\n",
       "      <th>Unnamed: 0</th>\n",
       "      <th>doc_id</th>\n",
       "      <th>text</th>\n",
       "      <th>country</th>\n",
       "      <th>year</th>\n",
       "    </tr>\n",
       "  </thead>\n",
       "  <tbody>\n",
       "  </tbody>\n",
       "</table>\n",
       "</div>"
      ],
      "text/plain": [
       "Empty DataFrame\n",
       "Columns: [Unnamed: 0, doc_id, text, country, year]\n",
       "Index: []"
      ]
     },
     "execution_count": 72,
     "metadata": {},
     "output_type": "execute_result"
    }
   ],
   "source": [
    "unlabelled"
   ]
  },
  {
   "cell_type": "code",
   "execution_count": 63,
   "metadata": {},
   "outputs": [
    {
     "data": {
      "text/plain": [
       "0        AUS_46_1991.txt.1\n",
       "1        AUS_46_1991.txt.2\n",
       "2        AUS_46_1991.txt.3\n",
       "3        AUS_46_1991.txt.4\n",
       "4        AUS_46_1991.txt.5\n",
       "               ...        \n",
       "2645    EST_72_2017.txt.92\n",
       "2646    EST_72_2017.txt.93\n",
       "2647    EST_72_2017.txt.94\n",
       "2648    EST_72_2017.txt.95\n",
       "2649    EST_72_2017.txt.96\n",
       "Name: doc_id, Length: 2650, dtype: object"
      ]
     },
     "execution_count": 63,
     "metadata": {},
     "output_type": "execute_result"
    }
   ],
   "source": [
    "label_doc"
   ]
  },
  {
   "cell_type": "code",
   "execution_count": 64,
   "metadata": {},
   "outputs": [
    {
     "data": {
      "text/html": [
       "<div>\n",
       "<style scoped>\n",
       "    .dataframe tbody tr th:only-of-type {\n",
       "        vertical-align: middle;\n",
       "    }\n",
       "\n",
       "    .dataframe tbody tr th {\n",
       "        vertical-align: top;\n",
       "    }\n",
       "\n",
       "    .dataframe thead th {\n",
       "        text-align: right;\n",
       "    }\n",
       "</style>\n",
       "<table border=\"1\" class=\"dataframe\">\n",
       "  <thead>\n",
       "    <tr style=\"text-align: right;\">\n",
       "      <th></th>\n",
       "      <th>doc_id</th>\n",
       "      <th>text</th>\n",
       "      <th>country</th>\n",
       "      <th>year</th>\n",
       "    </tr>\n",
       "  </thead>\n",
       "  <tbody>\n",
       "  </tbody>\n",
       "</table>\n",
       "</div>"
      ],
      "text/plain": [
       "Empty DataFrame\n",
       "Columns: [doc_id, text, country, year]\n",
       "Index: []"
      ]
     },
     "execution_count": 64,
     "metadata": {},
     "output_type": "execute_result"
    }
   ],
   "source": [
    "unlabelled.isin(labelled)"
   ]
  },
  {
   "cell_type": "code",
   "execution_count": 65,
   "metadata": {},
   "outputs": [
    {
     "data": {
      "text/plain": [
       "1438307"
      ]
     },
     "execution_count": 65,
     "metadata": {},
     "output_type": "execute_result"
    }
   ],
   "source": [
    "1440957 - 2650"
   ]
  },
  {
   "cell_type": "code",
   "execution_count": 66,
   "metadata": {},
   "outputs": [],
   "source": [
    "test=unlabelled[unlabelled['doc_id'].isin(labelled['doc_id'])]"
   ]
  },
  {
   "cell_type": "code",
   "execution_count": 67,
   "metadata": {},
   "outputs": [
    {
     "data": {
      "text/html": [
       "<div>\n",
       "<style scoped>\n",
       "    .dataframe tbody tr th:only-of-type {\n",
       "        vertical-align: middle;\n",
       "    }\n",
       "\n",
       "    .dataframe tbody tr th {\n",
       "        vertical-align: top;\n",
       "    }\n",
       "\n",
       "    .dataframe thead th {\n",
       "        text-align: right;\n",
       "    }\n",
       "</style>\n",
       "<table border=\"1\" class=\"dataframe\">\n",
       "  <thead>\n",
       "    <tr style=\"text-align: right;\">\n",
       "      <th></th>\n",
       "      <th>doc_id</th>\n",
       "      <th>text</th>\n",
       "      <th>country</th>\n",
       "      <th>year</th>\n",
       "      <th>coding</th>\n",
       "      <th>difficult</th>\n",
       "    </tr>\n",
       "  </thead>\n",
       "  <tbody>\n",
       "    <tr>\n",
       "      <th>0</th>\n",
       "      <td>AUS_46_1991.txt.1</td>\n",
       "      <td>I congratulate you, Sir, on your election as P...</td>\n",
       "      <td>AUS</td>\n",
       "      <td>1991</td>\n",
       "      <td>greeting</td>\n",
       "      <td>0.0</td>\n",
       "    </tr>\n",
       "    <tr>\n",
       "      <th>1</th>\n",
       "      <td>AUS_46_1991.txt.2</td>\n",
       "      <td>I am sure we will all benefit from your long e...</td>\n",
       "      <td>AUS</td>\n",
       "      <td>1991</td>\n",
       "      <td>greeting</td>\n",
       "      <td>0.0</td>\n",
       "    </tr>\n",
       "    <tr>\n",
       "      <th>2</th>\n",
       "      <td>AUS_46_1991.txt.3</td>\n",
       "      <td>Australia enjoys strong bonds of friendship wi...</td>\n",
       "      <td>AUS</td>\n",
       "      <td>1991</td>\n",
       "      <td>greeting</td>\n",
       "      <td>0.0</td>\n",
       "    </tr>\n",
       "    <tr>\n",
       "      <th>3</th>\n",
       "      <td>AUS_46_1991.txt.4</td>\n",
       "      <td>Australia warmly welcomes to membership of thi...</td>\n",
       "      <td>AUS</td>\n",
       "      <td>1991</td>\n",
       "      <td>greeting</td>\n",
       "      <td>0.0</td>\n",
       "    </tr>\n",
       "    <tr>\n",
       "      <th>4</th>\n",
       "      <td>AUS_46_1991.txt.5</td>\n",
       "      <td>Equally, as a country of the Asia-Pacific regi...</td>\n",
       "      <td>AUS</td>\n",
       "      <td>1991</td>\n",
       "      <td>greeting</td>\n",
       "      <td>0.0</td>\n",
       "    </tr>\n",
       "    <tr>\n",
       "      <th>...</th>\n",
       "      <td>...</td>\n",
       "      <td>...</td>\n",
       "      <td>...</td>\n",
       "      <td>...</td>\n",
       "      <td>...</td>\n",
       "      <td>...</td>\n",
       "    </tr>\n",
       "    <tr>\n",
       "      <th>2645</th>\n",
       "      <td>EST_72_2017.txt.92</td>\n",
       "      <td>As a small country, we care for all those who ...</td>\n",
       "      <td>EST</td>\n",
       "      <td>2017</td>\n",
       "      <td>security</td>\n",
       "      <td>0.0</td>\n",
       "    </tr>\n",
       "    <tr>\n",
       "      <th>2646</th>\n",
       "      <td>EST_72_2017.txt.93</td>\n",
       "      <td>As a digital society, we are a story of hope a...</td>\n",
       "      <td>EST</td>\n",
       "      <td>2017</td>\n",
       "      <td>development</td>\n",
       "      <td>0.0</td>\n",
       "    </tr>\n",
       "    <tr>\n",
       "      <th>2647</th>\n",
       "      <td>EST_72_2017.txt.94</td>\n",
       "      <td>Again, as a digital State, we consider transpa...</td>\n",
       "      <td>EST</td>\n",
       "      <td>2017</td>\n",
       "      <td>human</td>\n",
       "      <td>0.0</td>\n",
       "    </tr>\n",
       "    <tr>\n",
       "      <th>2648</th>\n",
       "      <td>EST_72_2017.txt.95</td>\n",
       "      <td>We are adamant supporters of rules-based decis...</td>\n",
       "      <td>EST</td>\n",
       "      <td>2017</td>\n",
       "      <td>democracy</td>\n",
       "      <td>0.0</td>\n",
       "    </tr>\n",
       "    <tr>\n",
       "      <th>2649</th>\n",
       "      <td>EST_72_2017.txt.96</td>\n",
       "      <td>We are with those who want to make the United ...</td>\n",
       "      <td>EST</td>\n",
       "      <td>2017</td>\n",
       "      <td>un</td>\n",
       "      <td>0.0</td>\n",
       "    </tr>\n",
       "  </tbody>\n",
       "</table>\n",
       "<p>2650 rows × 6 columns</p>\n",
       "</div>"
      ],
      "text/plain": [
       "                  doc_id                                               text  \\\n",
       "0      AUS_46_1991.txt.1  I congratulate you, Sir, on your election as P...   \n",
       "1      AUS_46_1991.txt.2  I am sure we will all benefit from your long e...   \n",
       "2      AUS_46_1991.txt.3  Australia enjoys strong bonds of friendship wi...   \n",
       "3      AUS_46_1991.txt.4  Australia warmly welcomes to membership of thi...   \n",
       "4      AUS_46_1991.txt.5  Equally, as a country of the Asia-Pacific regi...   \n",
       "...                  ...                                                ...   \n",
       "2645  EST_72_2017.txt.92  As a small country, we care for all those who ...   \n",
       "2646  EST_72_2017.txt.93  As a digital society, we are a story of hope a...   \n",
       "2647  EST_72_2017.txt.94  Again, as a digital State, we consider transpa...   \n",
       "2648  EST_72_2017.txt.95  We are adamant supporters of rules-based decis...   \n",
       "2649  EST_72_2017.txt.96  We are with those who want to make the United ...   \n",
       "\n",
       "     country  year       coding  difficult  \n",
       "0        AUS  1991     greeting        0.0  \n",
       "1        AUS  1991     greeting        0.0  \n",
       "2        AUS  1991     greeting        0.0  \n",
       "3        AUS  1991     greeting        0.0  \n",
       "4        AUS  1991     greeting        0.0  \n",
       "...      ...   ...          ...        ...  \n",
       "2645     EST  2017     security        0.0  \n",
       "2646     EST  2017  development        0.0  \n",
       "2647     EST  2017        human        0.0  \n",
       "2648     EST  2017    democracy        0.0  \n",
       "2649     EST  2017           un        0.0  \n",
       "\n",
       "[2650 rows x 6 columns]"
      ]
     },
     "execution_count": 67,
     "metadata": {},
     "output_type": "execute_result"
    }
   ],
   "source": [
    "labelled[~labelled['doc_id'].isin(test['doc_id'])]"
   ]
  },
  {
   "cell_type": "code",
   "execution_count": 68,
   "metadata": {},
   "outputs": [],
   "source": [
    "i=0\n",
    "while len(unlabelled[unlabelled['doc_id']=='AUS_46_1991.txt.'+str(i)])!=0:\n",
    "    print(len(unlabelled[unlabelled['doc_id']=='AUS_46_1991.txt.'+str(i)]))\n",
    "    i+=1"
   ]
  },
  {
   "cell_type": "code",
   "execution_count": 69,
   "metadata": {},
   "outputs": [
    {
     "ename": "ValueError",
     "evalue": "can only convert an array of size 1 to a Python scalar",
     "output_type": "error",
     "traceback": [
      "\u001b[1;31m---------------------------------------------------------------------------\u001b[0m",
      "\u001b[1;31mValueError\u001b[0m                                Traceback (most recent call last)",
      "Cell \u001b[1;32mIn[69], line 1\u001b[0m\n\u001b[1;32m----> 1\u001b[0m \u001b[39mprint\u001b[39m(unlabelled[unlabelled[\u001b[39m'\u001b[39;49m\u001b[39mdoc_id\u001b[39;49m\u001b[39m'\u001b[39;49m]\u001b[39m==\u001b[39;49m\u001b[39m'\u001b[39;49m\u001b[39mAUS_46_1991.txt.\u001b[39;49m\u001b[39m'\u001b[39;49m\u001b[39m+\u001b[39;49m\u001b[39mstr\u001b[39;49m(\u001b[39m42\u001b[39;49m)][\u001b[39m'\u001b[39;49m\u001b[39mtext\u001b[39;49m\u001b[39m'\u001b[39;49m]\u001b[39m.\u001b[39;49mitem())\n",
      "File \u001b[1;32mc:\\Users\\1999y\\AppData\\Local\\Programs\\Python\\Python38\\lib\\site-packages\\pandas\\core\\base.py:347\u001b[0m, in \u001b[0;36mIndexOpsMixin.item\u001b[1;34m(self)\u001b[0m\n\u001b[0;32m    345\u001b[0m \u001b[39mif\u001b[39;00m \u001b[39mlen\u001b[39m(\u001b[39mself\u001b[39m) \u001b[39m==\u001b[39m \u001b[39m1\u001b[39m:\n\u001b[0;32m    346\u001b[0m     \u001b[39mreturn\u001b[39;00m \u001b[39mnext\u001b[39m(\u001b[39miter\u001b[39m(\u001b[39mself\u001b[39m))\n\u001b[1;32m--> 347\u001b[0m \u001b[39mraise\u001b[39;00m \u001b[39mValueError\u001b[39;00m(\u001b[39m\"\u001b[39m\u001b[39mcan only convert an array of size 1 to a Python scalar\u001b[39m\u001b[39m\"\u001b[39m)\n",
      "\u001b[1;31mValueError\u001b[0m: can only convert an array of size 1 to a Python scalar"
     ]
    }
   ],
   "source": [
    "print(unlabelled[unlabelled['doc_id']=='AUS_46_1991.txt.'+str(42)]['text'].item())"
   ]
  }
 ],
 "metadata": {
  "kernelspec": {
   "display_name": "Python 3",
   "language": "python",
   "name": "python3"
  },
  "language_info": {
   "codemirror_mode": {
    "name": "ipython",
    "version": 3
   },
   "file_extension": ".py",
   "mimetype": "text/x-python",
   "name": "python",
   "nbconvert_exporter": "python",
   "pygments_lexer": "ipython3",
   "version": "3.8.3"
  },
  "orig_nbformat": 4
 },
 "nbformat": 4,
 "nbformat_minor": 2
}
