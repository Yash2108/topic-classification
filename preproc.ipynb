{
 "cells": [
  {
   "cell_type": "code",
   "execution_count": 1,
   "metadata": {},
   "outputs": [],
   "source": [
    "import os\n",
    "import pandas as pd\n",
    "import warnings\n",
    "import tqdm\n",
    "warnings.simplefilter(action='ignore', category=FutureWarning)"
   ]
  },
  {
   "cell_type": "code",
   "execution_count": 2,
   "metadata": {},
   "outputs": [],
   "source": [
    "to_delete=[]\n",
    "for root, dirs, files in os.walk('./UNGDC_1970-2020/'):\n",
    "    for file in files:\n",
    "        if file.startswith('.'):\n",
    "            to_delete.append(os.path.join(root, file))\n",
    "            continue\n",
    "\n",
    "for loc in to_delete:\n",
    "    os.remove(loc)"
   ]
  },
  {
   "cell_type": "code",
   "execution_count": 3,
   "metadata": {},
   "outputs": [],
   "source": [
    "file_to_use=[]\n",
    "for root, dirs, files in os.walk('./UNGDC_1970-2020/'):\n",
    "    for file in files:\n",
    "        if not file.startswith('.'):\n",
    "            file_to_use.append(os.path.join(root, file))"
   ]
  },
  {
   "cell_type": "code",
   "execution_count": 4,
   "metadata": {},
   "outputs": [],
   "source": [
    "num_lines={}\n",
    "for file in file_to_use:\n",
    "    with open(file, 'r+', encoding='utf8') as infile:\n",
    "        num_lines[file]=len(infile.readlines())"
   ]
  },
  {
   "cell_type": "code",
   "execution_count": 5,
   "metadata": {},
   "outputs": [],
   "source": [
    "total_num_lines = sum([item[1] for item in num_lines.items()])"
   ]
  },
  {
   "cell_type": "code",
   "execution_count": 17,
   "metadata": {},
   "outputs": [],
   "source": [
    "sorted_num_lines=sorted(num_lines.items(), key=lambda k: k[1])"
   ]
  },
  {
   "cell_type": "code",
   "execution_count": null,
   "metadata": {},
   "outputs": [],
   "source": []
  },
  {
   "cell_type": "code",
   "execution_count": 22,
   "metadata": {},
   "outputs": [
    {
     "name": "stdout",
     "output_type": "stream",
     "text": [
      "Working on './UNGDC_1970-2020/TXT\\Session 75 - 2020\\./UNGDC_1970-2020/TXT\\Session 75 - 2020\\ZWE_75_2020.txt'; Total files done: 3743/8481; Sentences done: 443897/1449732\r"
     ]
    }
   ],
   "source": [
    "count=0\n",
    "sent_count=0\n",
    "df=pd.DataFrame(columns=['doc_id','text','country','year','coding'])\n",
    "for loc in file_to_use:\n",
    "    with open(loc, 'r+', encoding=\"utf8\") as infile:\n",
    "        lines=infile.readlines()\n",
    "        for idx, line in enumerate(lines):\n",
    "            print(f'Working on \\'{file}\\'; \\nTotal files done: {count}/{len(file_to_use)}; \\nSentences done: {sent_count}/{total_num_lines}', end= '\\r')\n",
    "            df=df.append({'doc_id':file+str(idx+1), 'text':line, 'country':file.split('_')[0], 'year':file.split('_')[2].split('.')[0]}, ignore_index=True)\n",
    "            sent_count+=1\n",
    "        count+=1"
   ]
  },
  {
   "cell_type": "code",
   "execution_count": null,
   "metadata": {},
   "outputs": [],
   "source": [
    "df.to_csv('data.csv')"
   ]
  },
  {
   "cell_type": "code",
   "execution_count": null,
   "metadata": {},
   "outputs": [],
   "source": [
    "count_files=0\n",
    "count_folders=0    \n",
    "df_fulltext=pd.DataFrame(columns=['doc_id','text','country','year','coding'])\n",
    "for root, dirs, files in os.walk('./UNGDC_1970-2020/'):\n",
    "    for file in files:\n",
    "        if file.startswith('.'):\n",
    "            continue\n",
    "        with open(os.path.join(root, file), 'r+', encoding=\"utf8\") as infile:\n",
    "            print(f'Working on \\'{os.path.join(root, file)}\\'; Total files and folders done: {count_files}, {count_folders}', end= '\\r')\n",
    "            txt=infile.read()\n",
    "            # for idx, line in enumerate(lines):\n",
    "            df_fulltext=df_fulltext.append({'doc_id':file, 'text':txt, 'country':file.split('_')[0], 'year':file.split('_')[2].split('.')[0]}, ignore_index=True)\n",
    "        count_files+=1\n",
    "    count_folders+=1"
   ]
  }
 ],
 "metadata": {
  "kernelspec": {
   "display_name": "Python 3",
   "language": "python",
   "name": "python3"
  },
  "language_info": {
   "codemirror_mode": {
    "name": "ipython",
    "version": 3
   },
   "file_extension": ".py",
   "mimetype": "text/x-python",
   "name": "python",
   "nbconvert_exporter": "python",
   "pygments_lexer": "ipython3",
   "version": "3.8.3"
  },
  "orig_nbformat": 4
 },
 "nbformat": 4,
 "nbformat_minor": 2
}
